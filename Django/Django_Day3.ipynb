{
 "cells": [
  {
   "cell_type": "markdown",
   "metadata": {},
   "source": [
    "# business management app\n",
    "\n",
    "## 모델(Model)\n",
    "\n",
    "\n",
    "| 필드 이름        | 설명                                                    | 주요 속성                                                    | 예시 사용법                                      |\n",
    "|------------------|---------------------------------------------------------|--------------------------------------------------------------|-------------------------------------------------|\n",
    "| **CharField**    | 짧은 텍스트를 저장할 때 사용합니다. 주로 제목이나 이름 등에 사용됩니다. | `max_length` (필수): 최대 길이                                | `title = models.CharField(max_length=200)`      |\n",
    "| **TextField**    | 긴 텍스트를 저장할 때 사용합니다. 주로 본문 내용이나 설명 등에 사용됩니다. | -                                                            | `content = models.TextField()`                 |\n",
    "| **IntegerField** | 정수를 저장할 때 사용합니다.                              | `default`: 기본값                                             | `age = models.IntegerField(default=0)`          |\n",
    "| **FloatField**   | 실수를 저장할 때 사용합니다.                              | `max_digits`: 전체 자릿수, `decimal_places`: 소수점 이하 자릿수 | `price = models.FloatField()`                   |\n",
    "| **BooleanField** | 참/거짓 값을 저장할 때 사용합니다.                        | `default`: 기본값                                             | `is_active = models.BooleanField(default=True)` |\n",
    "| **DateField**    | 날짜(연, 월, 일)를 저장할 때 사용합니다.                   | `auto_now`: 저장 시 현재 날짜 자동 설정, `auto_now_add`: 생성 시 현재 날짜 자동 설정 | `birth_date = models.DateField()`               |\n",
    "| **DateTimeField**| 날짜와 시간을 저장할 때 사용합니다.                        | `auto_now`: 저장 시 현재 시간 자동 설정, `auto_now_add`: 생성 시 현재 시간 자동 설정 | `created_at = models.DateTimeField(auto_now_add=True)` |\n",
    "| **TimeField**    | 시간을 저장할 때 사용합니다.                              | `auto_now`: 저장 시 현재 시간 자동 설정, `auto_now_add`: 생성 시 현재 시간 자동 설정 | `open_time = models.TimeField()`                |\n",
    "| **EmailField**   | 이메일 주소를 저장할 때 사용합니다.                        | `max_length` (필수): 최대 길이, `default`: 기본값              | `email = models.EmailField(max_length=254)`     |\n",
    "| **URLField**     | URL을 저장할 때 사용합니다.                                | `max_length` (필수): 최대 길이, `default`: 기본값              | `website = models.URLField(max_length=200)`     |\n",
    "| **FileField**    | 파일을 업로드할 때 사용합니다.                              | `upload_to`: 파일 업로드 경로 지정                             | `file = models.FileField(upload_to='uploads/')` |\n",
    "| **ImageField**   | 이미지를 업로드할 때 사용합니다.                            | `upload_to`: 파일 업로드 경로 지정                             | `profile_image = models.ImageField(upload_to='images/')` |\n",
    "| **ForeignKey**   | 다른 모델과의 관계(일대다)를 나타낼 때 사용합니다.           | `on_delete`: 관계된 객체 삭제 시 동작 지정 (CASCADE, SET_NULL 등) | `author = models.ForeignKey(User, on_delete=models.CASCADE)` |\n",
    "| **OneToOneField**| 다른 모델과의 관계(일대일)를 나타낼 때 사용합니다.           | `on_delete`: 관계된 객체 삭제 시 동작 지정 (CASCADE, SET_NULL 등) | `profile = models.OneToOneField(Profile, on_delete=models.CASCADE)` |\n",
    "| **ManyToManyField**| 여러 개의 다른 모델과의 관계(다대다)를 나타낼 때 사용합니다. | -                                                            | `tags = models.ManyToManyField(Tag)`            |\n"
   ]
  },
  {
   "cell_type": "markdown",
   "metadata": {},
   "source": [
    "## 프로젝트 시작\n",
    "\n",
    "* django-admin startproject todoproject - 프로젝트 폴더 만들기\n",
    "* cd todoproject - 폴더 이동\n",
    "* python manage.py startapp todoapp - app 만들기\n",
    "* settings.py 수정 - app 추가, 언어 변경, 시간때 변경\n",
    "* models.py 모델 추가\n",
    "  * List - 할일 목록 이름(name)과 설명(description)을 저장합니다\n",
    "  * Task 모델 - 할 일 목록의 개별 항목이며, 제목, 설명, 생성 날짜, 마감일, 완료 여부 등을 저장합니다\n",
    "* 프로젝젝트 url 메인 페이지 추가\n",
    "* todoapp urls.py 추가후 내용작성\n",
    "  * django urls, views 불러오고\n",
    "  * urlpatterns 정하기\n",
    "* todoapp views 작성\n",
    "  * 화면에 보여줄 데이터들 작성\n",
    "* 연결할 Templates 작성.\n",
    "* 요구 사항에 따른 추가 form 만들고\n",
    "  * views 수정, templates 연동 페이지 만들기"
   ]
  }
 ],
 "metadata": {
  "language_info": {
   "name": "python"
  }
 },
 "nbformat": 4,
 "nbformat_minor": 2
}
