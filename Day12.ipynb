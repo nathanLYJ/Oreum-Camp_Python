{
 "cells": [
  {
   "cell_type": "code",
   "execution_count": null,
   "metadata": {},
   "outputs": [],
   "source": [
    "import pandas as pd\n",
    "\n",
    "s = pd.Series(['A','B','C','C','C','C','B','B','B'])\n",
    "\n",
    "count = s.value_counts()\n",
    "print(count)\n",
    "# - `normalize`: 빈도 대신 비율을 반환합니다 (기본값: False).\n",
    "# - `sort`: 결과를 정렬합니다 (기본값: True).\n",
    "# - `ascending`: 오름차순으로 정렬합니다 (기본값: False).\n",
    "# - `dropna`: NaN 값을 제외합니다 (기본값: True)."
   ]
  },
  {
   "cell_type": "code",
   "execution_count": null,
   "metadata": {},
   "outputs": [],
   "source": [
    "# 비율로 표시하는 normalize\n",
    "count = s.value_counts(normalize = True)\n",
    "print(count)\n",
    "# 비율로 표시하는 normalize\n",
    "count = s.value_counts(ascending = True)\n",
    "print(count)"
   ]
  },
  {
   "cell_type": "code",
   "execution_count": null,
   "metadata": {},
   "outputs": [],
   "source": [
    "df = pd.DataFrame({\n",
    "    'Category' : ['A', 'B', 'C' , 'C' , 'C' , 'C' ,'C', 'B' , 'B' , 'B'],\n",
    "    'Value' : [10, 20, 30 , 40 , 50 , 60 , 70, 80 , 90 , 100]\n",
    "})"
   ]
  },
  {
   "cell_type": "code",
   "execution_count": null,
   "metadata": {},
   "outputs": [],
   "source": [
    "category_counts = df['Category'].value_counts()\n",
    "print(category_counts)"
   ]
  },
  {
   "cell_type": "code",
   "execution_count": null,
   "metadata": {},
   "outputs": [],
   "source": [
    "# NaN 값 포함하기\n",
    "import pandas as pd\n",
    "\n",
    "s = pd.Series(['A', 'B', 'C' , 'C' , None, None, None, 'B' , 'B' , 'B'])\n",
    "count = s.value_counts()\n",
    "print(count)"
   ]
  },
  {
   "cell_type": "code",
   "execution_count": null,
   "metadata": {},
   "outputs": [],
   "source": [
    "# dropna -> null값을 drop 시켜라 -> 제거하라\n",
    "count_with_nan = s.value_counts(dropna = False)\n",
    "print(count_with_nan)"
   ]
  },
  {
   "cell_type": "code",
   "execution_count": 4,
   "metadata": {},
   "outputs": [
    {
     "name": "stdout",
     "output_type": "stream",
     "text": [
      "0     3\n",
      "1     6\n",
      "2     9\n",
      "3    12\n",
      "4    15\n",
      "dtype: int64\n"
     ]
    }
   ],
   "source": [
    "# apply 함수\n",
    "\n",
    "import pandas as pd\n",
    "\n",
    "s = pd.Series([1,2,3,4,5])\n",
    "\n",
    "# def square(x):\n",
    "#     return x**2\n",
    "# squared = s.apply(square)\n",
    "squared = s.apply(lambda x: x*3)\n",
    "\n",
    "\n",
    "print(squared)"
   ]
  },
  {
   "cell_type": "code",
   "execution_count": null,
   "metadata": {},
   "outputs": [],
   "source": []
  },
  {
   "cell_type": "code",
   "execution_count": null,
   "metadata": {},
   "outputs": [],
   "source": [
    "import pandas as pd\n",
    "\n",
    "# DataFrame 생성\n",
    "df = pd.DataFrame({\n",
    "    'A': [1, 2, 3],\n",
    "    'B': [4, 5, 6]\n",
    "})\n",
    "\n",
    "# 각 요소에 2를 더하는 함수 정의\n",
    "def add_two(x):\n",
    "    return x + 2\n",
    "\n",
    "# apply()를 사용하여 열 단위로 함수 적용\n",
    "df_applied = df.apply(add_two)\n",
    "\n",
    "print(df_applied)"
   ]
  },
  {
   "cell_type": "code",
   "execution_count": null,
   "metadata": {},
   "outputs": [],
   "source": [
    "s = pd.Series([1,2,3,4,5])\n",
    "\n",
    "def square(x) :\n",
    "    return x**2\n",
    "\n",
    "squared = s.apply(square)\n",
    "print(squared)\n",
    "\n",
    "print(square(s))"
   ]
  },
  {
   "cell_type": "code",
   "execution_count": null,
   "metadata": {},
   "outputs": [],
   "source": [
    "import numpy as np\n",
    "\n",
    "df = pd.DataFrame({\n",
    "    '값': [1, 2, 3, 4, 5],\n",
    "    '함수': ['제곱', '세제곱', '제곱근', '로그', '사인']\n",
    "})\n",
    "\n",
    "def 동적_함수(row):\n",
    "    if row['함수'] == '제곱':\n",
    "        return row['값'] ** 2\n",
    "    elif row['함수'] == '세제곱':\n",
    "        return row['값'] ** 3\n",
    "    elif row['함수'] == '제곱근':\n",
    "        return np.sqrt(row['값'])\n",
    "    elif row['함수'] == '로그':\n",
    "        return np.log(row['값'])\n",
    "    elif row['함수'] == '사인':\n",
    "        return np.sin(row['값'])\n",
    "\n",
    "df['결과'] = df.apply(동적_함수, axis=1)\n",
    "print(df)"
   ]
  }
 ],
 "metadata": {
  "kernelspec": {
   "display_name": "Python 3",
   "language": "python",
   "name": "python3"
  },
  "language_info": {
   "codemirror_mode": {
    "name": "ipython",
    "version": 3
   },
   "file_extension": ".py",
   "mimetype": "text/x-python",
   "name": "python",
   "nbconvert_exporter": "python",
   "pygments_lexer": "ipython3",
   "version": "3.12.3"
  }
 },
 "nbformat": 4,
 "nbformat_minor": 2
}
