{
 "cells": [
  {
   "cell_type": "code",
   "execution_count": null,
   "metadata": {},
   "outputs": [],
   "source": [
    "import pandas as pd\n",
    "\n",
    "s = pd.Series(['A','B','C','C','C','C','B','B','B'])\n",
    "\n",
    "count = s.value_counts()\n",
    "print(count)\n",
    "# - `normalize`: 빈도 대신 비율을 반환합니다 (기본값: False).\n",
    "# - `sort`: 결과를 정렬합니다 (기본값: True).\n",
    "# - `ascending`: 오름차순으로 정렬합니다 (기본값: False).\n",
    "# - `dropna`: NaN 값을 제외합니다 (기본값: True)."
   ]
  },
  {
   "cell_type": "code",
   "execution_count": null,
   "metadata": {},
   "outputs": [],
   "source": [
    "# 비율로 표시하는 normalize\n",
    "count = s.value_counts(normalize = True)\n",
    "print(count)\n",
    "# 비율로 표시하는 normalize\n",
    "count = s.value_counts(ascending = True)\n",
    "print(count)"
   ]
  },
  {
   "cell_type": "code",
   "execution_count": null,
   "metadata": {},
   "outputs": [],
   "source": [
    "df = pd.DataFrame({\n",
    "    'Category' : ['A', 'B', 'C' , 'C' , 'C' , 'C' ,'C', 'B' , 'B' , 'B'],\n",
    "    'Value' : [10, 20, 30 , 40 , 50 , 60 , 70, 80 , 90 , 100]\n",
    "})"
   ]
  },
  {
   "cell_type": "code",
   "execution_count": null,
   "metadata": {},
   "outputs": [],
   "source": [
    "category_counts = df['Category'].value_counts()\n",
    "print(category_counts)"
   ]
  },
  {
   "cell_type": "code",
   "execution_count": null,
   "metadata": {},
   "outputs": [],
   "source": [
    "# NaN 값 포함하기\n",
    "import pandas as pd\n",
    "\n",
    "s = pd.Series(['A', 'B', 'C' , 'C' , None, None, None, 'B' , 'B' , 'B'])\n",
    "count = s.value_counts()\n",
    "print(count)"
   ]
  },
  {
   "cell_type": "code",
   "execution_count": null,
   "metadata": {},
   "outputs": [],
   "source": [
    "# dropna -> null값을 drop 시켜라 -> 제거하라\n",
    "count_with_nan = s.value_counts(dropna = False)\n",
    "print(count_with_nan)"
   ]
  },
  {
   "cell_type": "code",
   "execution_count": 4,
   "metadata": {},
   "outputs": [
    {
     "name": "stdout",
     "output_type": "stream",
     "text": [
      "0     3\n",
      "1     6\n",
      "2     9\n",
      "3    12\n",
      "4    15\n",
      "dtype: int64\n"
     ]
    }
   ],
   "source": [
    "# apply 함수\n",
    "\n",
    "import pandas as pd\n",
    "\n",
    "s = pd.Series([1,2,3,4,5])\n",
    "\n",
    "# def square(x):\n",
    "#     return x**2\n",
    "# squared = s.apply(square)\n",
    "squared = s.apply(lambda x: x*3)\n",
    "\n",
    "\n",
    "print(squared)"
   ]
  },
  {
   "cell_type": "code",
   "execution_count": null,
   "metadata": {},
   "outputs": [],
   "source": []
  },
  {
   "cell_type": "code",
   "execution_count": null,
   "metadata": {},
   "outputs": [],
   "source": [
    "import pandas as pd\n",
    "\n",
    "# DataFrame 생성\n",
    "df = pd.DataFrame({\n",
    "    'A': [1, 2, 3],\n",
    "    'B': [4, 5, 6]\n",
    "})\n",
    "\n",
    "# 각 요소에 2를 더하는 함수 정의\n",
    "def add_two(x):\n",
    "    return x + 2\n",
    "\n",
    "# apply()를 사용하여 열 단위로 함수 적용\n",
    "df_applied = df.apply(add_two)\n",
    "\n",
    "print(df_applied)"
   ]
  },
  {
   "cell_type": "code",
   "execution_count": null,
   "metadata": {},
   "outputs": [],
   "source": [
    "s = pd.Series([1,2,3,4,5])\n",
    "\n",
    "def square(x) :\n",
    "    return x**2\n",
    "\n",
    "squared = s.apply(square)\n",
    "print(squared)\n",
    "\n",
    "print(square(s))"
   ]
  },
  {
   "cell_type": "code",
   "execution_count": null,
   "metadata": {},
   "outputs": [],
   "source": [
    "import numpy as np\n",
    "\n",
    "df = pd.DataFrame({\n",
    "    '값': [1, 2, 3, 4, 5],\n",
    "    '함수': ['제곱', '세제곱', '제곱근', '로그', '사인']\n",
    "})\n",
    "\n",
    "def 동적_함수(row):\n",
    "    if row['함수'] == '제곱':\n",
    "        return row['값'] ** 2\n",
    "    elif row['함수'] == '세제곱':\n",
    "        return row['값'] ** 3\n",
    "    elif row['함수'] == '제곱근':\n",
    "        return np.sqrt(row['값'])\n",
    "    elif row['함수'] == '로그':\n",
    "        return np.log(row['값'])\n",
    "    elif row['함수'] == '사인':\n",
    "        return np.sin(row['값'])\n",
    "\n",
    "df['결과'] = df.apply(동적_함수, axis=1)\n",
    "print(df)"
   ]
  },
  {
   "cell_type": "code",
   "execution_count": null,
   "metadata": {},
   "outputs": [],
   "source": [
    "import matplotlib.pyplot as plt\n",
    "\n",
    "# 데이터 준비\n",
    "x = [1, 2, 3, 4, 5]\n",
    "y = [2, 4, 6, 8, 10]\n",
    "\n",
    "# 그래프 생성\n",
    "plt.plot(x, y)\n",
    "\n",
    "# 제목 추가\n",
    "plt.title('간단한 선 그래프')\n",
    "\n",
    "# x축 레이블\n",
    "plt.xlabel('X 축')\n",
    "\n",
    "# y축 레이블\n",
    "plt.ylabel('Y 축')\n",
    "\n",
    "# 그래프 표시\n",
    "plt.show()\n"
   ]
  },
  {
   "cell_type": "code",
   "execution_count": null,
   "metadata": {},
   "outputs": [],
   "source": [
    "import matplotlib.pyplot as plt\n",
    "\n",
    "x = [1, 2, 3, 4, 5]\n",
    "y = [2, 4, 6, 8, 10]\n",
    "\n",
    "# 사용 가능한 스타일 목록 출력\n",
    "print(\"사용 가능한 스타일:\")\n",
    "print(plt.style.available)\n",
    "\n",
    "# 스타일 설정 (선택적)\n",
    "# plt.style.use('default')  # 기본 스타일 사용\n",
    "# plt.style.use('classic')  # 클래식 스타일 사용\n",
    "# 또는 다른 사용 가능한 스타일 중 하나를 선택\n",
    "\n",
    "# 그래프 크기 설정\n",
    "plt.figure(figsize=(10, 6))\n",
    "\n",
    "# 선 스타일, 색상, 마커 설정\n",
    "plt.plot(x, y, linestyle='--', color='r', marker='o')\n",
    "\n",
    "plt.title('커스터마이즈된 그래프', fontsize=20)\n",
    "plt.xlabel('X 축', fontsize=14)\n",
    "plt.ylabel('Y 축', fontsize=14)\n",
    "\n",
    "# 격자 표시\n",
    "plt.grid(True)\n",
    "\n",
    "plt.show()\n"
   ]
  },
  {
   "cell_type": "code",
   "execution_count": null,
   "metadata": {},
   "outputs": [],
   "source": [
    "import matplotlib.pyplot as plt\n",
    "\n",
    "x = range(1, 6)\n",
    "y1 = [1, 4, 3, 7, 5]\n",
    "y2 = [2, 5, 3, 4, 6]\n",
    "\n",
    "plt.figure(figsize=(12, 5))\n",
    "\n",
    "# 2x1 구조의 서브플롯 생성\n",
    "plt.subplot(1, 2, 1)\n",
    "plt.plot(x, y1, 'r-')\n",
    "plt.title('첫 번째 그래프')\n",
    "\n",
    "plt.subplot(1, 2, 2)\n",
    "plt.plot(x, y2, 'b--')\n",
    "plt.title('두 번째 그래프')\n",
    "\n",
    "plt.tight_layout()\n",
    "plt.show()"
   ]
  },
  {
   "cell_type": "code",
   "execution_count": null,
   "metadata": {},
   "outputs": [],
   "source": [
    "# 사용자 유형별 접속 데이터\n",
    "user_data = {\n",
    "    '사용자 유형': ['일반', '프리미엄', 'VIP'],\n",
    "    '접속 횟수': [500, 300, 200]\n",
    "}\n",
    "\n",
    "# 시간대별 접속 데이터\n",
    "time_data = {\n",
    "    '시간': list(range(24)),\n",
    "    '접속 횟수': [10, 8, 5, 3, 2, 5, 15, 30, 50, 70, 80, 90, 85, 75, 60, 65, 70, 55, 40, 35, 25, 20, 15, 12]\n",
    "}\n",
    "\n",
    "# DataFrame 생성\n",
    "user_df = pd.DataFrame(user_data)\n",
    "time_df = pd.DataFrame(time_data)\n"
   ]
  },
  {
   "cell_type": "code",
   "execution_count": null,
   "metadata": {},
   "outputs": [],
   "source": [
    "plt.figure(figsize=(8, 8))  # 8x8 크기의 그림 생성\n",
    "user_df.plot(kind='pie', y='접속 횟수', labels=user_df['사용자 유형'], autopct='%1.1f%%')\n",
    "plt.title('사용자 유형별 접속 비율')  # 제목 설정\n",
    "plt.ylabel('')  # y축 레이블 제거\n",
    "plt.show()  # 그래프 표시\n"
   ]
  },
  {
   "cell_type": "code",
   "execution_count": null,
   "metadata": {},
   "outputs": [],
   "source": [
    "import pandas as pd\n",
    "\n",
    "log_df = pd.read_csv('web_server_log_final.csv')\n",
    "user_df = pd.read_csv('user_info.csv')\n",
    "\n",
    "print(log_df.info())\n",
    "print(user_df.info())\n"
   ]
  },
  {
   "cell_type": "code",
   "execution_count": null,
   "metadata": {},
   "outputs": [],
   "source": [
    "\n",
    "print(log_df.head())\n",
    "print(user_df.head())\n",
    "print(log_df.describe())"
   ]
  },
  {
   "cell_type": "code",
   "execution_count": null,
   "metadata": {},
   "outputs": [],
   "source": [
    "merged_df1 = pd.merge(log_df, user_df, on='ip_address', how='left')\n",
    "print(merged_df1)"
   ]
  },
  {
   "cell_type": "code",
   "execution_count": null,
   "metadata": {},
   "outputs": [],
   "source": [
    "merged_df1_count = merged_df1['user_type'].value_counts(normalize=True)\n",
    "print(merged_df1_count)\n",
    "merged_df1_mean = merged_df1.groupby('user_type')['ip_address'].count().mean()\n",
    "print(merged_df1_mean)"
   ]
  }
 ],
 "metadata": {
  "kernelspec": {
   "display_name": "Python 3",
   "language": "python",
   "name": "python3"
  },
  "language_info": {
   "codemirror_mode": {
    "name": "ipython",
    "version": 3
   },
   "file_extension": ".py",
   "mimetype": "text/x-python",
   "name": "python",
   "nbconvert_exporter": "python",
   "pygments_lexer": "ipython3",
   "version": "3.12.3"
  }
 },
 "nbformat": 4,
 "nbformat_minor": 2
}
