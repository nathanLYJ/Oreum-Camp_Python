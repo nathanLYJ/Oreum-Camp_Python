{
 "cells": [
  {
   "cell_type": "markdown",
   "metadata": {},
   "source": [
    "![URL](../image/URL.png)"
   ]
  },
  {
   "cell_type": "markdown",
   "metadata": {},
   "source": [
    "```\n",
    "WHATWG URL's origin property (https://nodejs.org/api/url.html#url)\n",
    "┌────────────────────────────────────────────────────────────────────────────────────────────┐\n",
    "│                                             href                                           │\n",
    "├──────────┬──┬────────────────────┬────────────────────────┬────────────────────────┬───────┤\n",
    "│ protocol │  │       auth         │          host          │          path          │ hash  │\n",
    "│          │  │                    ├─────────────────┬──────┼──────────┬─────────────┤       │\n",
    "│          │  │                    │    hostname     │ port │ pathname │    search   │       │\n",
    "│          │  │                    │                 │      │          ├─┬───────────┤       │\n",
    "│          │  │                    │                 │      │          │ │    query  │       │\n",
    "\"  https:   //   user   :   pass   @ sub.example.com : 8080   /p/a/t/h  ? query=string #hash\"\n",
    "│          │  │         │          │    hostname     │ port │          │             │       │\n",
    "│          │  │         │          ├─────────────────┴──────┤          │             │       │\n",
    "│ protocol │  │   user  │ password │          host          │          │             │       │\n",
    "├──────────┴──┼─────────┴──────────┼────────────────────────┤          │             │       │\n",
    "│   origin    │                    │         origin         │ pathname │    search   │ hash  │\n",
    "├─────────────┴────────────────────┴────────────────────────┴──────────┴─────────────┴───────┤\n",
    "│                                             href                                           │\n",
    "└────────────────────────────────────────────────────────────────────────────────────────────┘\n",
    "0번 ~ 1023번: 잘 알려진 포트 (well-known port)\n",
    "1024번 ~ 49151번: 등록된 포트 (registered port)\n",
    "49152번 ~ 65535번: 동적 포트 (dynamic port)\n",
    "```"
   ]
  }
 ],
 "metadata": {
  "language_info": {
   "name": "python"
  }
 },
 "nbformat": 4,
 "nbformat_minor": 2
}
