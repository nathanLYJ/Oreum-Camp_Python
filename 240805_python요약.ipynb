{
 "cells": [
  {
   "cell_type": "markdown",
   "metadata": {},
   "source": [
    "# 주석"
   ]
  },
  {
   "cell_type": "code",
   "execution_count": 3,
   "metadata": {},
   "outputs": [
    {
     "name": "stdout",
     "output_type": "stream",
     "text": [
      "\n",
      "여러줄 주석 10\n",
      "\n"
     ]
    }
   ],
   "source": [
    "# hello\n",
    "'''\n",
    "여러줄 주석\n",
    "'''\n",
    "\"\"\"\n",
    "여러줄 주석\n",
    "\"\"\"\n",
    "\n",
    "x = 10\n",
    "s = f'''\n",
    "여러줄 주석 {x}\n",
    "'''\n",
    "print(s)"
   ]
  },
  {
   "cell_type": "code",
   "execution_count": 4,
   "metadata": {},
   "outputs": [
    {
     "name": "stdout",
     "output_type": "stream",
     "text": [
      "Area: 78.53975\n"
     ]
    }
   ],
   "source": [
    "def calculate_area(radius):\n",
    "    \"\"\"\n",
    "    원의 면적을 계산하는 함수.\n",
    "\n",
    "    params:\n",
    "        radius (float): 원의 반지름\n",
    "\n",
    "    return:\n",
    "        float: 원의 면적\n",
    "    \"\"\"\n",
    "    return 3.14159 * radius * radius\n",
    "\n",
    "# 함수 사용 예시\n",
    "area = calculate_area(5)\n",
    "print(\"Area:\", area)"
   ]
  },
  {
   "cell_type": "code",
   "execution_count": null,
   "metadata": {},
   "outputs": [],
   "source": [
    "calculate_area # 여기까지 작성하고 마우스 오버해보면 docstring을 볼 수 있습니다."
   ]
  },
  {
   "cell_type": "code",
   "execution_count": null,
   "metadata": {},
   "outputs": [],
   "source": [
    "# 라이센스는 보통 맨 위에 주석으로\n",
    "# TODO: 최적화 필요 <- TODO 주석의 예, VSC 같은 곳에서 할 목록을 볼 수 있습니다.\n",
    "# 나중에 Django 팀프로젝트 하실 때에는 꼭 black formatter를 공통으로 설치해서 진행해주세요."
   ]
  },
  {
   "cell_type": "markdown",
   "metadata": {},
   "source": [
    "# 변수와 상수"
   ]
  },
  {
   "cell_type": "code",
   "execution_count": null,
   "metadata": {},
   "outputs": [],
   "source": [
    "# 변수: 변하는 수\n",
    "# 상수: 변하지 않는 수(PI => 3.14)\n",
    "\n",
    "x = 10\n",
    "PI = 3.14 # 보통은 이런식으로 선언하지 않습니다."
   ]
  },
  {
   "cell_type": "code",
   "execution_count": null,
   "metadata": {},
   "outputs": [],
   "source": [
    "# 상수를 선언하는 enum 객체\n",
    "from enum import Enum\n",
    "\n",
    "class Color(Enum):\n",
    "    RED = 1\n",
    "    GREEN = 2\n",
    "    BLUE = 3\n",
    "\n",
    "print(Color.RED)\n",
    "print(Color.RED.value) # 그룹화 해서 관리할 수 있습니다.\n",
    "\n",
    "for color in Color: # 순회를 돌 수도 있습니다.\n",
    "    print(color.value)"
   ]
  },
  {
   "cell_type": "code",
   "execution_count": null,
   "metadata": {},
   "outputs": [],
   "source": [
    "# 파이썬 빌트인 list, tuple, dict, set...\n",
    "# 파이썬 내장 라이버러리 Enum, collections, itertools...\n",
    "# 3자 라이브러리 Numpy, Pandas..."
   ]
  },
  {
   "cell_type": "markdown",
   "metadata": {},
   "source": [
    "![PythonDataType](image/PythonDataType.png)"
   ]
  },
  {
   "cell_type": "code",
   "execution_count": 9,
   "metadata": {},
   "outputs": [],
   "source": [
    "class FibonacciIterator:\n",
    "    def __init__(self, limit):\n",
    "        self.limit = limit\n",
    "        self.a, self.b = 0, 1\n",
    "        self.count = 0\n",
    "\n",
    "    def __iter__(self):\n",
    "        return self\n",
    "\n",
    "    def __next__(self):\n",
    "        if self.count >= self.limit:\n",
    "            raise StopIteration\n",
    "        result = self.a\n",
    "        self.a, self.b = self.b, self.a + self.b\n",
    "        self.count += 1\n",
    "        return result\n",
    "\n",
    "# 사용 예\n",
    "fib = FibonacciIterator(10)"
   ]
  },
  {
   "cell_type": "code",
   "execution_count": 8,
   "metadata": {},
   "outputs": [
    {
     "name": "stdout",
     "output_type": "stream",
     "text": [
      "3\n",
      "[2, 3, 4]\n"
     ]
    }
   ],
   "source": [
    "class MyList:\n",
    "    def __init__(self, data):\n",
    "        self.data = data\n",
    "\n",
    "    def __getitem__(self, key):\n",
    "        if isinstance(key, int):  # 인덱싱\n",
    "            return self.data[key]\n",
    "        elif isinstance(key, slice):  # 슬라이싱\n",
    "            return self.data[key.start:key.stop:key.step]\n",
    "\n",
    "# 사용 예\n",
    "my_list = MyList([1, 2, 3, 4, 5])\n",
    "\n",
    "print(my_list[2])  # 출력: 3 (인덱싱)\n",
    "print(my_list[1:4])  # 출력: [2, 3, 4] (슬라이싱)"
   ]
  },
  {
   "cell_type": "markdown",
   "metadata": {},
   "source": [
    "# 숫자 자료형"
   ]
  },
  {
   "cell_type": "code",
   "execution_count": null,
   "metadata": {},
   "outputs": [],
   "source": [
    "x = .5\n",
    "\n",
    "type(x)"
   ]
  },
  {
   "cell_type": "code",
   "execution_count": null,
   "metadata": {},
   "outputs": [],
   "source": [
    "x = 100 ** .5\n",
    "x"
   ]
  },
  {
   "cell_type": "code",
   "execution_count": 10,
   "metadata": {},
   "outputs": [
    {
     "data": {
      "text/plain": [
       "inf"
      ]
     },
     "execution_count": 10,
     "metadata": {},
     "output_type": "execute_result"
    }
   ],
   "source": [
    "x = float(\"inf\")\n",
    "x = -float(\"inf\")\n",
    "x = -float(\"-inf\")\n",
    "x"
   ]
  },
  {
   "cell_type": "markdown",
   "metadata": {},
   "source": [
    "https://0.30000000000000004.com/"
   ]
  },
  {
   "cell_type": "code",
   "execution_count": 11,
   "metadata": {},
   "outputs": [
    {
     "data": {
      "text/plain": [
       "0.3"
      ]
     },
     "execution_count": 11,
     "metadata": {},
     "output_type": "execute_result"
    }
   ],
   "source": [
    "import decimal\n",
    "\n",
    "float(decimal.Decimal('.1') + decimal.Decimal('.2')) # 출력: 0.3"
   ]
  },
  {
   "cell_type": "markdown",
   "metadata": {},
   "source": [
    "# 문자열 자료형"
   ]
  },
  {
   "cell_type": "code",
   "execution_count": 12,
   "metadata": {},
   "outputs": [
    {
     "data": {
      "text/plain": [
       "'helloworld'"
      ]
     },
     "execution_count": 12,
     "metadata": {},
     "output_type": "execute_result"
    }
   ],
   "source": [
    "'hello' + 'world'"
   ]
  },
  {
   "cell_type": "code",
   "execution_count": 13,
   "metadata": {},
   "outputs": [
    {
     "data": {
      "text/plain": [
       "'helloworld'"
      ]
     },
     "execution_count": 13,
     "metadata": {},
     "output_type": "execute_result"
    }
   ],
   "source": [
    "'hello''world'"
   ]
  },
  {
   "cell_type": "code",
   "execution_count": 14,
   "metadata": {},
   "outputs": [
    {
     "name": "stdout",
     "output_type": "stream",
     "text": [
      "https://colab.research.google.com/drive/1XBfNmu7H4vZqnmtIS6bEdX-KgnY4lnb4#scrollTo=3uU2uYLxckF5\n"
     ]
    }
   ],
   "source": [
    "print('https://colab.research.google.com/drive/'\n",
    "'1XBfNmu7H4vZqnmtIS6bEdX-KgnY4lnb4#scrollTo=3uU2uYLxckF5')"
   ]
  },
  {
   "cell_type": "code",
   "execution_count": 15,
   "metadata": {},
   "outputs": [],
   "source": [
    "# black formatter는 \" 기본입니다.\n",
    "i = \"hello\"\n",
    "\n",
    "# \"가 shift를 눌러야 되기 때문에 저는 속도감 있는 코드를 짜기 위해 홑따옴표를 사용합니다.\n",
    "# 회사 컨벤션 따라가시면 됩니다.\n",
    "i = 'hello'\n",
    "i = f'''안녕하세요.\n",
    "저는 위니브의 대표 이호준입니다.\n",
    "파이썬 참 좋아요.\n",
    "여러분 정말 잘 선택하셨어요.\n",
    "'''"
   ]
  },
  {
   "cell_type": "code",
   "execution_count": null,
   "metadata": {},
   "outputs": [],
   "source": [
    "s = '위니브 월드!'\n",
    "print(s[0]) # 출력 : '위'\n",
    "print(s[-1]) # 출력 : '!'\n",
    "# 실제로 음의 정수가 인덱싱되는 것이 아니라 __getitem__에서 양수로 변환을 한 다음 인덱싱이나 슬라이싱이 됩니다."
   ]
  },
  {
   "cell_type": "code",
   "execution_count": null,
   "metadata": {},
   "outputs": [],
   "source": [
    "s = 'weniv CEO licat'\n",
    "print(s[0:5]) # 출력 : weniv # 첫번째 예제\n",
    "print(s[6:]) # 출력 : CEO licat # 두번째 예제\n",
    "print(s[:]) # 출력 : weniv CEO licat # 세번째 예제\n",
    "print(s[::-1]) # 출력 : tacil OEC vinew # 네번째 예제\n",
    "print(s[::2]) # 출력 : wnvCOlct # 다섯번째 예제"
   ]
  },
  {
   "cell_type": "code",
   "execution_count": null,
   "metadata": {},
   "outputs": [],
   "source": [
    "# 메서드\n",
    "\n",
    "s = 'weniv CEO licat'\n",
    "print(s.lower()) # 전체를 소문자로 바꿔주는 method\n",
    "print(s.upper()) # 전체를 대문자로 바꿔주는 method\n",
    "\n",
    "#문자열을 찾아주는 method\n",
    "s = 'weniv CEO licat'\n",
    "print(s.find('CTO')) # 없는 값을 찾을 때 find는 -1을 리턴합니다.\n",
    "print(s.index('CTO')) # 없는 값을 찾을 때 index는 애러를 리턴합니다."
   ]
  },
  {
   "cell_type": "code",
   "execution_count": null,
   "metadata": {},
   "outputs": [],
   "source": [
    "# 실수 많이 하는 코드입니다. 이런 코드를 짜지 않도록 주의해주세요.\n",
    "if s.find('CTO'): # 제대로 실행되는 코드가 아닙니다!!!\n",
    "    print('찾았습니다!')"
   ]
  },
  {
   "cell_type": "code",
   "execution_count": null,
   "metadata": {},
   "outputs": [],
   "source": [
    "'123123123'.count('1') # 한 자를 찾는 것 뿐만 아니라\n",
    "# '123123123'.count(1) # 주의!\n",
    "\n",
    "'weniv CEO licat'.count('CEO') # 단어를 찾거나 문장을 찾는 것도 가능합니다.\n",
    "# count같은 경우 리스트에 카운트가 없어요!\n",
    "# count를 해야하는 문제가 생기면 리스트에서 스트링으로 형변환을 해서 count를 해주시면 좋습니다.\n",
    "\n",
    "'[1, 111, 11, 11111, 111]'.count('1')\n",
    "x = [1, 111, 11, 11111, 111]\n",
    "str(x).count('1')\n",
    "\n",
    "x = {'hello': 'world', 'hi': 'hello', 'world': 'hojun'}\n",
    "# 예를 들어 위니북스에서 데커레이터를 검색하는데 데커레이터가 title일 수도 있고, 내용일 수도 있죠?\n",
    "str(x).count('hello')\n",
    "str(x)"
   ]
  },
  {
   "cell_type": "code",
   "execution_count": null,
   "metadata": {},
   "outputs": [],
   "source": [
    "s = '    weniv CEO licat      '\n",
    "s.strip()  # 양쪽 공백을 제거하는 method"
   ]
  },
  {
   "cell_type": "code",
   "execution_count": null,
   "metadata": {},
   "outputs": [],
   "source": [
    "s = 'weniv CEO licat'\n",
    "s.replace('CEO', 'CTO')\n",
    "# JS와 Python의 replace 다른 점?\n",
    "# 정규표현식 => JS는 정규표현식이 되고 Python은 정규표현식이 re모듈을 포함해야 됩니다."
   ]
  },
  {
   "cell_type": "code",
   "execution_count": null,
   "metadata": {},
   "outputs": [],
   "source": [
    "s = 'weniv CEO licat'\n",
    "# 공백을 기준으로 문자열 나누기\n",
    "print(s.split())\n",
    "\n",
    "s = ['weniv', 'CEO', 'licat']\n",
    "# 리스트를 하나의 문자열로 합치기\n",
    "print('-'.join(s))"
   ]
  },
  {
   "cell_type": "code",
   "execution_count": null,
   "metadata": {},
   "outputs": [],
   "source": [
    "for i in '1asdf2fw329':\n",
    "\tif i.isdigit():\n",
    "\t    print(i)"
   ]
  },
  {
   "cell_type": "code",
   "execution_count": null,
   "metadata": {},
   "outputs": [],
   "source": [
    "import re\n",
    "\n",
    "# '1asdf2fw329' => 1 + 2 + 329\n",
    "print(re.findall('\\d', '1asdf2fw329'))\n",
    "print(re.findall('\\d+', '1asdf2fw329'))\n",
    "\n",
    "# sub, findall\n",
    "# 캐릭터 클래스, 수량자"
   ]
  },
  {
   "cell_type": "code",
   "execution_count": null,
   "metadata": {},
   "outputs": [],
   "source": [
    "x = \"42\"\n",
    "result = x.zfill(5)\n",
    "print(result)  # 00042"
   ]
  },
  {
   "cell_type": "code",
   "execution_count": null,
   "metadata": {},
   "outputs": [],
   "source": [
    "print('hello\\nworld')\n",
    "print(r'hello\\nworld')"
   ]
  },
  {
   "cell_type": "markdown",
   "metadata": {},
   "source": [
    "# 논리 자료형"
   ]
  },
  {
   "cell_type": "code",
   "execution_count": null,
   "metadata": {},
   "outputs": [],
   "source": [
    "print(1 == True, 1 is True) # 출력: True, False\n",
    "print(0 == False, 0 is False) # 출력: True, False\n",
    "print('weniv'[True]) # 출력: e\n",
    "print('weniv'[-True]) # 출력: v\n",
    "print('weniv'[False]) # 출력: w\n",
    "print(issubclass(bool, int)) # 부모, 자식 관계 출력: True"
   ]
  },
  {
   "cell_type": "code",
   "execution_count": 23,
   "metadata": {},
   "outputs": [
    {
     "name": "stdout",
     "output_type": "stream",
     "text": [
      "4\n"
     ]
    }
   ],
   "source": [
    "x = [1, 2, 3, 4, 5, 6, 7, 8, 9, 10, 11, 12, 13, 14]\n",
    "# 여기서 2의 배수와 3의 배수, 5의 배수를 모두 제외하고 몇개인지 출력해주세요.\n",
    "y = [True] * 14\n",
    "for i in x:\n",
    "    if i % 2 == 0 or i % 3 == 0 or i % 5 == 0:\n",
    "        y[i - 1] = False\n",
    "print(sum(y))"
   ]
  },
  {
   "cell_type": "markdown",
   "metadata": {},
   "source": [
    "# 메서드 체이닝"
   ]
  },
  {
   "cell_type": "code",
   "execution_count": 24,
   "metadata": {},
   "outputs": [
    {
     "data": {
      "text/plain": [
       "'#  # #'"
      ]
     },
     "execution_count": 24,
     "metadata": {},
     "output_type": "execute_result"
    }
   ],
   "source": [
    "'100101'.replace('1','#').replace('0',' ')"
   ]
  },
  {
   "cell_type": "markdown",
   "metadata": {},
   "source": [
    "# 산술연산"
   ]
  },
  {
   "cell_type": "code",
   "execution_count": null,
   "metadata": {},
   "outputs": [],
   "source": [
    "x = 10\n",
    "y = 3\n",
    "\n",
    "print(x + y)\n",
    "print(x - y)\n",
    "print(x / y)\n",
    "print(x // y) # 나머지 버림\n",
    "print(x * y)\n",
    "print(x ** y)\n",
    "print(x % y)"
   ]
  },
  {
   "cell_type": "code",
   "execution_count": 28,
   "metadata": {},
   "outputs": [
    {
     "data": {
      "text/plain": [
       "[1, 2, 3, 4, 5, 6]"
      ]
     },
     "execution_count": 28,
     "metadata": {},
     "output_type": "execute_result"
    }
   ],
   "source": [
    "[1, 2, 3] + [4, 5, 6]\n"
   ]
  },
  {
   "cell_type": "code",
   "execution_count": 33,
   "metadata": {},
   "outputs": [
    {
     "data": {
      "text/plain": [
       "[1, 2, 3, 'h', 'e', 'l', 'l', 'o']"
      ]
     },
     "execution_count": 33,
     "metadata": {},
     "output_type": "execute_result"
    }
   ],
   "source": [
    "[1, 2, 3].extend([4, 5, 6])\n",
    "x = [1, 2, 3]\n",
    "x.extend('hello')\n",
    "x"
   ]
  },
  {
   "cell_type": "code",
   "execution_count": null,
   "metadata": {},
   "outputs": [],
   "source": [
    "'hello' + 'world'\n",
    "'hello' * 2"
   ]
  },
  {
   "cell_type": "code",
   "execution_count": 35,
   "metadata": {},
   "outputs": [
    {
     "name": "stdout",
     "output_type": "stream",
     "text": [
      "[[10000, 2, 3, 1, 2, 3], [10000, 2, 3, 1, 2, 3]]\n"
     ]
    }
   ],
   "source": [
    "# 주의! 리스트의 곱셈!\n",
    "\n",
    "a = [1, 2, 3]\n",
    "data = [a * 2] * 2 # 리스트 컴프리헨션 사용하셔서 만드시는 것을 권합니다.\n",
    "data[0][0] = 10000\n",
    "print(data)"
   ]
  },
  {
   "cell_type": "code",
   "execution_count": 36,
   "metadata": {},
   "outputs": [
    {
     "data": {
      "text/plain": [
       "{'one': 1, 'two': 2}"
      ]
     },
     "execution_count": 36,
     "metadata": {},
     "output_type": "execute_result"
    }
   ],
   "source": [
    "# {'one': 1} + {'two': 2}\n",
    "# 이러한 연산이 안디다가 update것을 사용하지 않고 기호를 사용해서 연산이 되게 해달라!\n",
    "{'one': 1} | {'two': 2}"
   ]
  },
  {
   "cell_type": "code",
   "execution_count": 40,
   "metadata": {},
   "outputs": [
    {
     "data": {
      "text/plain": [
       "{3}"
      ]
     },
     "execution_count": 40,
     "metadata": {},
     "output_type": "execute_result"
    }
   ],
   "source": [
    "# {1, 2, 3} + {4, 5, 6}\n",
    "{1, 2, 3} | {4, 5, 6}\n",
    "{1, 2, 3} - {3, 4, 5}\n",
    "{1, 2, 3} & {3, 4, 5}"
   ]
  },
  {
   "cell_type": "code",
   "execution_count": null,
   "metadata": {},
   "outputs": [],
   "source": [
    "10 == 10\n",
    "10 != 10\n",
    "10 >= 1\n",
    "10 == 1\n",
    "10 == 1\n",
    "10 == 1"
   ]
  },
  {
   "cell_type": "code",
   "execution_count": 42,
   "metadata": {},
   "outputs": [
    {
     "name": "stdout",
     "output_type": "stream",
     "text": [
      "True\n",
      "True\n",
      "False\n"
     ]
    }
   ],
   "source": [
    "class Hello:\n",
    "    def __eq__(self, next):\n",
    "        return True\n",
    "\n",
    "a = Hello()\n",
    "b = Hello()\n",
    "print(a == b)\n",
    "print(a == None) # 이 연산은 올바른 연산이 아닙니다.\n",
    "print(a is None)"
   ]
  },
  {
   "cell_type": "markdown",
   "metadata": {},
   "source": [
    "# 논리연산"
   ]
  },
  {
   "cell_type": "code",
   "execution_count": 43,
   "metadata": {},
   "outputs": [
    {
     "data": {
      "text/plain": [
       "True"
      ]
     },
     "execution_count": 43,
     "metadata": {},
     "output_type": "execute_result"
    }
   ],
   "source": [
    "# and 논리 곱(둘다 Ture일 때 Ture)\n",
    "# or 논리 합(둘 중 하나만 Ture일 때 Ture)\n",
    "# not은 부정\n",
    "True and False\n",
    "True and True"
   ]
  },
  {
   "cell_type": "code",
   "execution_count": null,
   "metadata": {},
   "outputs": [],
   "source": [
    "for i in range(100):\n",
    "    if i % 3 == 0 or i % 5 == 0:\n",
    "        print(i)\n",
    "\n",
    "for i in range(100):\n",
    "    if i % 3 == 0 and i % 5 == 0:\n",
    "        print(i)"
   ]
  },
  {
   "cell_type": "code",
   "execution_count": 44,
   "metadata": {},
   "outputs": [
    {
     "data": {
      "text/plain": [
       "False"
      ]
     },
     "execution_count": 44,
     "metadata": {},
     "output_type": "execute_result"
    }
   ],
   "source": [
    "False and 1/0"
   ]
  },
  {
   "cell_type": "code",
   "execution_count": 45,
   "metadata": {},
   "outputs": [
    {
     "ename": "ZeroDivisionError",
     "evalue": "division by zero",
     "output_type": "error",
     "traceback": [
      "\u001b[1;31m---------------------------------------------------------------------------\u001b[0m",
      "\u001b[1;31mZeroDivisionError\u001b[0m                         Traceback (most recent call last)",
      "Cell \u001b[1;32mIn[45], line 1\u001b[0m\n\u001b[1;32m----> 1\u001b[0m \u001b[38;5;241;43m1\u001b[39;49m\u001b[38;5;241;43m/\u001b[39;49m\u001b[38;5;241;43m0\u001b[39;49m\n",
      "\u001b[1;31mZeroDivisionError\u001b[0m: division by zero"
     ]
    }
   ],
   "source": [
    "1/0"
   ]
  },
  {
   "cell_type": "code",
   "execution_count": 46,
   "metadata": {},
   "outputs": [
    {
     "data": {
      "text/plain": [
       "'world'"
      ]
     },
     "execution_count": 46,
     "metadata": {},
     "output_type": "execute_result"
    }
   ],
   "source": [
    "# 단락평가\n",
    "\n",
    "'hello' and 'world'"
   ]
  },
  {
   "cell_type": "code",
   "execution_count": 47,
   "metadata": {},
   "outputs": [
    {
     "data": {
      "text/plain": [
       "'hello'"
      ]
     },
     "execution_count": 47,
     "metadata": {},
     "output_type": "execute_result"
    }
   ],
   "source": [
    "'hello' or 'world'"
   ]
  },
  {
   "cell_type": "code",
   "execution_count": 48,
   "metadata": {},
   "outputs": [
    {
     "data": {
      "text/plain": [
       "'미입력회원'"
      ]
     },
     "execution_count": 48,
     "metadata": {},
     "output_type": "execute_result"
    }
   ],
   "source": [
    "# username = 'hojun'\n",
    "username = ''\n",
    "\n",
    "# if not username:\n",
    "#     username = '미입력회원'\n",
    "\n",
    "username = username or '미입력회원'\n",
    "username"
   ]
  },
  {
   "cell_type": "code",
   "execution_count": null,
   "metadata": {},
   "outputs": [],
   "source": [
    "x = 10\n",
    "\n",
    "if x > 5:\n",
    "    if x > 7:\n",
    "        if x > 9:\n",
    "            print('참')\n",
    "\n",
    "if x > 5 and x > 7 and x > 9:\n",
    "    print('참')"
   ]
  }
 ],
 "metadata": {
  "kernelspec": {
   "display_name": "Python 3",
   "language": "python",
   "name": "python3"
  },
  "language_info": {
   "codemirror_mode": {
    "name": "ipython",
    "version": 3
   },
   "file_extension": ".py",
   "mimetype": "text/x-python",
   "name": "python",
   "nbconvert_exporter": "python",
   "pygments_lexer": "ipython3",
   "version": "3.12.3"
  }
 },
 "nbformat": 4,
 "nbformat_minor": 2
}
