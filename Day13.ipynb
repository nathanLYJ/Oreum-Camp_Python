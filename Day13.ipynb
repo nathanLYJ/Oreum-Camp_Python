{
 "cells": [
  {
   "cell_type": "markdown",
   "metadata": {},
   "source": [
    "### 모듈 외부 코드 끌어와서 사용하는 방식\n",
    "\n",
    "* 내PC 설치한 모듈 리스트 불러오기 {!pip list}\n",
    "\t- 2.0 설치시 pip, 3.0 부터 pip3\n",
    "* 패키지는 from, 여러 모듈의 묶음."
   ]
  },
  {
   "cell_type": "markdown",
   "metadata": {},
   "source": [
    "#### 모듈 양식\n",
    "\n",
    "- import 모듈1\n",
    "- import 모듈2, 모듈3\n",
    "- import 모듈4 as 별칭\n",
    "- from 폴더_또는_파일이름(모듈) import 파일_또는_변수명\n",
    "- from 폴더_또는_파일이름(모듈) import 변수 as 별칭2\n",
    " \n",
    "- 모듈1.변수\n",
    "- 모듈1.함수()\n",
    "- 모듈1.클래스()\n",
    "- 별칭.변수\n",
    "- 별칭.함수()"
   ]
  },
  {
   "cell_type": "code",
   "execution_count": 26,
   "metadata": {},
   "outputs": [
    {
     "name": "stdout",
     "output_type": "stream",
     "text": [
      "송현지\n",
      "경상남도 용인시 처인구 석촌호수8길\n",
      "96138\n",
      "니제르\n",
      "이장\n",
      "안내 / 접수 사무원 및 전화교환원\n",
      "019-514-7714\n",
      "eunjugim@example.org\n",
      "lgim\n",
      "13\n",
      "10.244.4.222\n",
      "Beatae aperiam libero consectetur. Iusto itaque id voluptatibus repellat nesciunt.\n",
      "DodgerBlue\n"
     ]
    }
   ],
   "source": [
    "# Faker모듈 설치\n",
    "from faker import Faker\n",
    "fake = Faker('ko-KR')\n",
    "print(fake.name())\n",
    "print(fake.address())\n",
    "print(fake.postcode())  #  우편 번호\n",
    "print(fake.country())  #  국가명\n",
    "print(fake.company())  #  회사명\n",
    "print(fake.job())   # 직업명\n",
    "print(fake.phone_number())    #휴대 전화 번호\n",
    "print(fake.email())    #이메일 주소\n",
    "print(fake.user_name()) #   사용자명\n",
    "print(fake.pyint(min_value=0, max_value=100)) #  0부터 100 사이의 임의의 숫자\n",
    "print(fake.ipv4_private())  #  IP 주소\n",
    "print(fake.text())    #임의의 문장 (한글 임의의 문장은 fake.catch_phrase() 사용)\n",
    "print(fake.color_name())    #색상명"
   ]
  },
  {
   "cell_type": "code",
   "execution_count": 27,
   "metadata": {},
   "outputs": [
    {
     "name": "stdout",
     "output_type": "stream",
     "text": [
      "C:\\Users\\Nathan\\Desktop\\python\n"
     ]
    }
   ],
   "source": [
    "import os\n",
    "\n",
    "# 올바른 경로 지정 방법\n",
    "os.chdir(r\"C:\\Users\\Nathan\\Desktop\\python\")\n",
    "\n",
    "# 또는 슬래시 사용\n",
    "# os.chdir(\"C:/Users/Nathan/Desktop/python\")\n",
    "\n",
    "# 현재 작업 디렉토리 확인\n",
    "print(os.getcwd())\n",
    "\n",
    "import theater_module as tmt\n"
   ]
  },
  {
   "cell_type": "code",
   "execution_count": 28,
   "metadata": {},
   "outputs": [
    {
     "name": "stdout",
     "output_type": "stream",
     "text": [
      "[서울 도심 패키지] 호캉스 100만원\n"
     ]
    }
   ],
   "source": [
    "\n",
    "# 예제 1: import 문 사용\n",
    "import travel_pkg.domestic.seoul\n",
    "\n",
    "trip = travel_pkg.domestic.seoul.SeoulPkg()\n",
    "trip.detail()\n"
   ]
  },
  {
   "cell_type": "code",
   "execution_count": 29,
   "metadata": {},
   "outputs": [
    {
     "name": "stdout",
     "output_type": "stream",
     "text": [
      "[서울 도심 패키지] 호캉스 100만원\n"
     ]
    },
    {
     "ename": "NameError",
     "evalue": "name 'OsakaPkg' is not defined",
     "output_type": "error",
     "traceback": [
      "\u001b[1;31m---------------------------------------------------------------------------\u001b[0m",
      "\u001b[1;31mNameError\u001b[0m                                 Traceback (most recent call last)",
      "Cell \u001b[1;32mIn[29], line 14\u001b[0m\n\u001b[0;32m     11\u001b[0m seoul_trip \u001b[38;5;241m=\u001b[39m SeoulPkg()\n\u001b[0;32m     12\u001b[0m seoul_trip\u001b[38;5;241m.\u001b[39mdetail()\n\u001b[1;32m---> 14\u001b[0m osaka_trip \u001b[38;5;241m=\u001b[39m \u001b[43mOsakaPkg\u001b[49m()\n\u001b[0;32m     15\u001b[0m osaka_trip\u001b[38;5;241m.\u001b[39mdetail()\n",
      "\u001b[1;31mNameError\u001b[0m: name 'OsakaPkg' is not defined"
     ]
    }
   ],
   "source": [
    "# 전체 패키지 import\n",
    "import travel_pkg\n",
    "\n",
    "# domestic 패키지의 클래스 직접 사용\n",
    "from travel_pkg.domestic import *\n",
    "\n",
    "# international 패키지의 모든 공개 클래스 import\n",
    "from travel_pkg.international import *\n",
    "\n",
    "# 사용 예\n",
    "seoul_trip = SeoulPkg()\n",
    "seoul_trip.detail()\n",
    "\n",
    "osaka_trip = OsakaPkg()\n",
    "osaka_trip.detail()"
   ]
  },
  {
   "cell_type": "code",
   "execution_count": null,
   "metadata": {},
   "outputs": [],
   "source": [
    "try: #예외가 발생할것 같은 구문\n",
    "  num = int(input(\"숫자를 입력해주세요\"))\n",
    "\n",
    "except: #예외가 발생했을때 출력하는 구문\n",
    "  print(\"숫자가 입력되지 않았습니다.\")\n",
    "\n",
    "else: #예외가 발생하지 않았을때 문장 실행\n",
    "  print(f\"입력된 숫자는 {num} 입니다.\")\n",
    "\n",
    "finally: #무조건 실행\n",
    "  print(\"이 구문은 무조건 실행됩니다.\")"
   ]
  },
  {
   "cell_type": "code",
   "execution_count": null,
   "metadata": {},
   "outputs": [],
   "source": [
    "sentence = list(\"hello world\")\n",
    "\n",
    "while (len(sentence) + 1):\n",
    "  try:\n",
    "    print(sentence.pop(0))\n",
    "  except Exception as e:\n",
    "    print(e)\n",
    "    break"
   ]
  },
  {
   "cell_type": "code",
   "execution_count": null,
   "metadata": {},
   "outputs": [],
   "source": [
    "try:\n",
    "    x = int(input(\"숫자를 입력하세요: \"))\n",
    "    result = 10 / x\n",
    "    print(result)\n",
    "except ValueError:\n",
    "    print(\"유효한 숫자를 입력해야 합니다.\")\n",
    "except ZeroDivisionError:\n",
    "    print(\"0으로 나눌 수 없습니다.\")\n",
    "except:\n",
    "    print(\"알 수 없는 오류가 발생했습니다.\")"
   ]
  },
  {
   "cell_type": "code",
   "execution_count": null,
   "metadata": {},
   "outputs": [],
   "source": [
    "# 연습문제 3\n",
    "import random\n",
    "answer = random.randint(1, 10)\n",
    "\n",
    "def guess_number(answer):\n",
    "  try:\n",
    "    guess = int(input(\"숫자를 넣어주세요 : \"))\n",
    "    if answer == guess:\n",
    "      print(\"정답 !\")\n",
    "    else:\n",
    "      print(\"오답 !\")\n",
    "  except ValueError:\n",
    "    print(\"숫자가 아닙니다.\")\n",
    "\n",
    "guess_number(answer) #hello를 입력한다면?"
   ]
  },
  {
   "cell_type": "code",
   "execution_count": null,
   "metadata": {},
   "outputs": [],
   "source": [
    "for i in range(3):\n",
    "  try:\n",
    "    print(i, 3//i)\n",
    "  except ZeroDivisionError:\n",
    "    print(\"Not divided by 0\")"
   ]
  },
  {
   "cell_type": "markdown",
   "metadata": {},
   "source": [
    "1. try-except 문의 동작 방식에 대해 설명드리겠습니다.\n",
    "2. try는 에러 이름이나 True/False 값으로 판단하는 것이 아닙니다. try-except의 동작 원리는 다음과 같습니다:\n",
    "\n",
    "#### 예외 발생 감지:\n",
    "\n",
    "* try 블록 내의 코드를 실행하는 동안 발생하는 모든 예외를 감지합니다.\n",
    "* 예외가 발생하지 않으면 try 블록의 코드가 정상적으로 모두 실행됩니다.\n",
    "\n",
    "\n",
    "#### 예외 처리:\n",
    "\n",
    "* 예외가 발생하면, 즉시 try 블록의 실행을 중단하고 해당 예외와 일치하는 except 블록으로 이동합니다.\n",
    "* except 블록에서 지정한 예외 타입과 발생한 예외의 타입이 일치하면 해당 except 블록이 실행됩니다.\n",
    "\n",
    "\n",
    "#### 예외 타입 매칭:\n",
    "\n",
    "* except 문에 명시적으로 예외 타입을 지정할 수 있습니다. 예: except ValueError:\n",
    "* 여러 except 블록을 사용하여 다양한 예외 타입을 처리할 수 있습니다.\n",
    "* 예외 타입을 지정하지 않으면 (except:), 모든 타입의 예외를 잡습니다."
   ]
  },
  {
   "cell_type": "markdown",
   "metadata": {},
   "source": [
    "### 크롤링"
   ]
  },
  {
   "cell_type": "markdown",
   "metadata": {},
   "source": [
    "##### URL 구조\n",
    "```js\n",
    "┌────────────────────────────────────────────────────────────────────────────────────────────────┐\n",
    "│                                              href                                              │\n",
    "├──────────┬──┬─────────────────────┬────────────────────────┬───────────────────────────┬───────┤\n",
    "│ protocol │  │        auth         │          host          │           path            │ hash  │\n",
    "│          │  │                     ├─────────────────┬──────┼──────────┬────────────────┤       │\n",
    "│          │  │                     │    hostname     │ port │ pathname │     search     │       │\n",
    "│          │  │                     │                 │      │          ├─┬──────────────┤       │\n",
    "│          │  │                     │                 │      │          │ │    query     │       │\n",
    "\"  https:   //    user   :   pass   @ sub.example.com : 8080   /p/a/t/h  ?  query=string   #hash \"\n",
    "│          │  │          │          │    hostname     │ port │          │                │       │\n",
    "│          │  │          │          ├─────────────────┴──────┤          │                │       │\n",
    "│ protocol │  │ username │ password │          host          │          │                │       │\n",
    "├──────────┴──┼──────────┴──────────┼────────────────────────┤          │                │       │\n",
    "│   origin    │                     │         origin         │ pathname │     search     │ hash  │\n",
    "├─────────────┴─────────────────────┴────────────────────────┴──────────┴────────────────┴───────┤\n",
    "│                                              href                                              │\n",
    "└────────────────────────────────────────────────────────────────────────────────────────────────┘\n",
    "```"
   ]
  },
  {
   "cell_type": "markdown",
   "metadata": {},
   "source": [
    "* GET /index.html HTTP/1.1\n",
    "* user-agent: MSIE 6.0; Windows NT 5.0\n",
    "* accept: text/html; */*\n",
    "* cookie: name = value\n",
    "* referer: http://www.naver.com\n",
    "* host: www.paullab.co.kr\n",
    "1. **Request line**: 데이터 처리 방식, 기본 페이지, 프로토콜 버전 등을 나타냅니다.\n",
    "2. **User-Agent**: 사용자 웹 브라우저 종류 및 버전 정보를 나타냅니다.\n",
    "3. **Accept**: 웹 서버로부터 수신되는 데이터 중 웹 브라우저가 처리할 수 있는 데이터 타입을 의미합니다.\n",
    "    \n",
    "    여기서 `text/html`은 text, html 형태의 문서를 처리할 수 있고,  `*/*`는 모든 문서를 처리할 수 있다는 의미입니다. (이를 MIME 타입이라 부르기도 합니다.)\n",
    "    \n",
    "4. **Cookie**: HTTP 프로토콜 자체가 세션을 유지하지 않는 State-less(접속 상태를 유지하지 않는) 방식이기 때문에 로그인 인증을 위한 사용자 정보를 기억하려고 만든 인위적인 값입니다. 즉, 사용자가 정상적인 로그인 인증 정보를 가지고 있다는 것을 판단하고자 사용합니다.\n",
    "5. **Referer**: 현재 페이지 접속 전에 어느 사이트를 경유했는지 알려주는 도메인 혹은 URL 정보입니다.\n",
    "6. **Host**: 사용자가 요청한 도메인 정보입니다."
   ]
  },
  {
   "cell_type": "code",
   "execution_count": null,
   "metadata": {},
   "outputs": [],
   "source": [
    "from IPython.display import HTML\n",
    "html_sample = '''\n",
    "<!DOCTYPE html>\n",
    "<html lang=\"ko\">\n",
    "<head>\n",
    "    <meta charset=\"UTF-8\">\n",
    "    <title>블로그 소개</title>\n",
    "</head>\n",
    "<body>\n",
    "    <header>\n",
    "        <h1>환영합니다!</h1>\n",
    "        <p>여기는 김진환의 블로그입니다.</p>\n",
    "    </header>\n",
    "\n",
    "    <main>\n",
    "        <section>\n",
    "            <h2>소개</h2>\n",
    "            <p>안녕하세요, 김진환입니다. 저는 25살이고, 서울대학교에 다니고 있습니다.</p>\n",
    "        </section>\n",
    "\n",
    "        <section>\n",
    "            <h2>내가 좋아하는 것들</h2>\n",
    "            <ul>\n",
    "                <li>독서</li>\n",
    "                <li>여행</li>\n",
    "                <li>프로그래밍</li>\n",
    "            </ul>\n",
    "        </section>\n",
    "\n",
    "        <section>\n",
    "            <h2>자주 방문하는 웹사이트</h2>\n",
    "            <p>제가 자주 방문하는 웹사이트는 <a href=\"https://www.github.com\">GitHub</a>입니다.</p>\n",
    "        </section>\n",
    "\n",
    "        <section>\n",
    "            <h2>내 프로필 사진</h2>\n",
    "            <img src=\"https://via.placeholder.com/150\" alt=\"내 프로필 사진\">\n",
    "        </section>\n",
    "    </main>\n",
    "\n",
    "    <footer>\n",
    "        <p>김진환의 블로그에 방문해 주셔서 감사합니다!</p>\n",
    "    </footer>\n",
    "</body>\n",
    "</html>\n",
    "'''\n",
    "display(HTML(html_sample))"
   ]
  },
  {
   "cell_type": "code",
   "execution_count": null,
   "metadata": {},
   "outputs": [],
   "source": [
    "import requests\n",
    "from bs4 import BeautifulSoup\n",
    "\n",
    "# 웹 페이지 가져오기\n",
    "response = requests.get('https://www.naver.com')\n",
    "\n",
    "# BeautifulSoup 객체 생성\n",
    "soup = BeautifulSoup(response.text, 'html.parser')\n",
    "\n",
    "# 페이지 제목 출력\n",
    "print(soup)"
   ]
  },
  {
   "cell_type": "code",
   "execution_count": null,
   "metadata": {},
   "outputs": [],
   "source": [
    "import requests\n",
    "from bs4 import BeautifulSoup\n",
    "\n",
    "response = requests.get('http://www.paullab.co.kr/stock.html')\n",
    "\n",
    "response.encoding = 'utf-8' # 인코딩 설정\n",
    "html = response.text\n",
    "\n",
    "soup = BeautifulSoup(html, 'html.parser')\n",
    "print(soup)"
   ]
  },
  {
   "cell_type": "markdown",
   "metadata": {},
   "source": [
    "\n",
    "## BeautifulSoup 이란?\n",
    "\n",
    "![출처: BeautifulSoup 공식 문서](./image/Untitled.png)\n",
    "\n",
    "`BeautifulSoup`은 HTML과 XML 문서를 파싱하는 라이브러리입니다. 웹 크롤링을 할 때, HTML 문서에서 원하는 데이터를 추출하는 데 자주 사용됩니다. str 타입의 html 데이터를 html 구조를 가진 데이터로 가공하는 것도 가능합니다"
   ]
  },
  {
   "cell_type": "code",
   "execution_count": null,
   "metadata": {},
   "outputs": [],
   "source": [
    "soup.a"
   ]
  },
  {
   "cell_type": "code",
   "execution_count": null,
   "metadata": {},
   "outputs": [],
   "source": [
    "soup.title"
   ]
  },
  {
   "cell_type": "code",
   "execution_count": null,
   "metadata": {},
   "outputs": [],
   "source": [
    "soup.title.string"
   ]
  },
  {
   "cell_type": "code",
   "execution_count": null,
   "metadata": {},
   "outputs": [],
   "source": [
    "soup.table"
   ]
  },
  {
   "cell_type": "code",
   "execution_count": null,
   "metadata": {},
   "outputs": [],
   "source": [
    "soup.tr"
   ]
  },
  {
   "cell_type": "code",
   "execution_count": null,
   "metadata": {},
   "outputs": [],
   "source": [
    "soup.em"
   ]
  },
  {
   "cell_type": "markdown",
   "metadata": {},
   "source": [
    "### find()"
   ]
  },
  {
   "cell_type": "code",
   "execution_count": 52,
   "metadata": {},
   "outputs": [
    {
     "data": {
      "text/plain": [
       "[<h2 class=\"heading-top\">(주)캣네생선</h2>,\n",
       " <h2 id=\"제주코딩베이스캠프연구원\">제주코딩베이스캠프 연구원</h2>,\n",
       " <h2 id=\"제주코딩베이스캠프공업\">제주코딩베이스캠프 미디어</h2>]"
      ]
     },
     "execution_count": 52,
     "metadata": {},
     "output_type": "execute_result"
    }
   ],
   "source": [
    "import requests\n",
    "from bs4 import BeautifulSoup\n",
    "\n",
    "response = requests.get('http://www.paullab.co.kr/stock.html')\n",
    "\n",
    "response.encoding = 'utf-8' # 인코딩 설정\n",
    "html = response.text\n",
    "\n",
    "soup = BeautifulSoup(html, 'html.parser')\n",
    "\n",
    "soup.find_all('h2')[0:3]"
   ]
  },
  {
   "cell_type": "code",
   "execution_count": null,
   "metadata": {},
   "outputs": [],
   "source": [
    "soup.find_all('table', class_='table')[0] # class_ : 예약어\n",
    "# 예약어: 특정한 기능을 수행하도록 미리 예약되어 있는 것"
   ]
  },
  {
   "cell_type": "code",
   "execution_count": 54,
   "metadata": {},
   "outputs": [
    {
     "data": {
      "text/plain": [
       "<title>크롤링 연습 페이지</title>"
      ]
     },
     "execution_count": 54,
     "metadata": {},
     "output_type": "execute_result"
    }
   ],
   "source": [
    "soup.find('head').find('title')"
   ]
  },
  {
   "cell_type": "code",
   "execution_count": null,
   "metadata": {},
   "outputs": [],
   "source": [
    "soup.select('.table > tbody > tr')[2]"
   ]
  },
  {
   "cell_type": "code",
   "execution_count": null,
   "metadata": {},
   "outputs": [],
   "source": [
    "oneStep = soup.select('tbody')[0]\n",
    "oneStep"
   ]
  },
  {
   "cell_type": "code",
   "execution_count": null,
   "metadata": {},
   "outputs": [],
   "source": [
    "twoStep = oneStep.select('tbody > tr')[1:] \n",
    "twoStep"
   ]
  },
  {
   "cell_type": "code",
   "execution_count": 64,
   "metadata": {},
   "outputs": [
    {
     "name": "stdout",
     "output_type": "stream",
     "text": [
      "2040.10.23\n",
      "6,650\n"
     ]
    }
   ],
   "source": [
    "print(twoStep[0].select('td')[0].text) # 날짜\n",
    "print(twoStep[0].select('td')[1].text) # 날짜"
   ]
  },
  {
   "cell_type": "code",
   "execution_count": 66,
   "metadata": {},
   "outputs": [
    {
     "name": "stdout",
     "output_type": "stream",
     "text": [
      "['2040.10.23', '2040.10.22', '2040.10.21', '2040.10.18', '2040.10.17', '2040.10.16', '2040.10.15', '2040.10.14', '2040.10.11', '2040.10.10', '2040.10.08', '2040.10.07', '2040.10.04', '2040.10.02', '2040.10.01', '2040.09.30', '2040.09.27', '2040.09.26', '2040.09.25', '2040.09.24']\n",
      "[6650, 6630, 6820, 6430, 5950, 5930, 5640, 5380, 5040, 5100, 5050, 4940, 5010, 4920, 5010, 5000, 5010, 5060, 5060, 5330]\n"
     ]
    }
   ],
   "source": [
    "날짜 = []\n",
    "종가 = []\n",
    "\n",
    "for i in twoStep:\n",
    "    날짜.append(i.select('td')[0].text)\n",
    "    종가.append(int(i.select('td')[1].text.replace(',', '')))\n",
    "\n",
    "print(날짜)\n",
    "print(종가)"
   ]
  },
  {
   "cell_type": "code",
   "execution_count": 77,
   "metadata": {},
   "outputs": [],
   "source": [
    "import plotly.express as px\n",
    "import plotly.io as pio\n",
    "\n",
    "# 브라우저에서 그래프 열기\n",
    "pio.renderers.default = \"browser\"\n",
    "\n",
    "fig = px.line(x=날짜, y=종가, title='jejucodingcamp')\n",
    "fig.show()"
   ]
  }
 ],
 "metadata": {
  "kernelspec": {
   "display_name": "Python 3",
   "language": "python",
   "name": "python3"
  },
  "language_info": {
   "codemirror_mode": {
    "name": "ipython",
    "version": 3
   },
   "file_extension": ".py",
   "mimetype": "text/x-python",
   "name": "python",
   "nbconvert_exporter": "python",
   "pygments_lexer": "ipython3",
   "version": "3.12.3"
  }
 },
 "nbformat": 4,
 "nbformat_minor": 2
}
