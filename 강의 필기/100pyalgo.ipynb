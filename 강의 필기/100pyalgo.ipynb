{
 "cells": [
  {
   "cell_type": "markdown",
   "metadata": {},
   "source": [
    "### 1번 더하기\n",
    "#### 문제 설명\n",
    "- 제한 사항\n",
    "- 1 ≤ 리스트 안의 수 ≤ 100\n",
    "- 숫자 외에 다른 값은 주어지지 않습니다.\n",
    "- 각각의 값은 1차원 리스트로 주어집니다.\n",
    "- 리스트 안에 값이 없는 경우는 0으로 출력해야 합니다.\n",
    "\n",
    "* 입력 \n",
    "\t1. [1, 2, 3, 4, 5]\n",
    "\t2. [3, 5, 7, 1]\t\n",
    "* 출력 \t\n",
    "\t1. 9\n",
    "\t2. 16\n",
    "<details>\n",
    "<summary>접기/펼치기</summary>\n",
    "입출력 설명[1, 2, 3, 4, 5] 중에서 홀수는 [1, 3, 5]입니다. 이 숫자를 모두 더하면 9가 됩니다.\n",
    "</details>"
   ]
  },
  {
   "cell_type": "code",
   "execution_count": 1,
   "metadata": {},
   "outputs": [
    {
     "name": "stdout",
     "output_type": "stream",
     "text": [
      "9\n"
     ]
    }
   ],
   "source": [
    "data = [1, 2, 3, 4, 5]\n",
    "\n",
    "def solution(data):\n",
    "    sum = 0\n",
    "    for i in data:\n",
    "        if i % 2 != 0:\n",
    "        \tsum += i\n",
    "    return sum\n",
    "\n",
    "print(solution(data))"
   ]
  }
 ],
 "metadata": {
  "kernelspec": {
   "display_name": "Python 3",
   "language": "python",
   "name": "python3"
  },
  "language_info": {
   "codemirror_mode": {
    "name": "ipython",
    "version": 3
   },
   "file_extension": ".py",
   "mimetype": "text/x-python",
   "name": "python",
   "nbconvert_exporter": "python",
   "pygments_lexer": "ipython3",
   "version": "3.12.3"
  }
 },
 "nbformat": 4,
 "nbformat_minor": 2
}
