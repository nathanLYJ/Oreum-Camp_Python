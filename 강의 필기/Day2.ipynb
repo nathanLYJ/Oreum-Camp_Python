{
 "cells": [
  {
   "cell_type": "code",
   "execution_count": 2,
   "metadata": {},
   "outputs": [
    {
     "name": "stdout",
     "output_type": "stream",
     "text": [
      "hello world\n"
     ]
    }
   ],
   "source": [
    "print(\"hello world\")"
   ]
  },
  {
   "cell_type": "markdown",
   "metadata": {},
   "source": [
    "# 커맨드\n",
    "1. **실행 단축키 (3번씩 실습)**\n",
    "    1. (필수) `Ctrl(Command)` + `Enter` : 해당 셀 실행\n",
    "    2. `Shift` + `Enter` : 해당 셀 실행 + 커서를 다음 셀로 이동\n",
    "    3. (필수) `Alt(Option)` + `Enter` : 해당 셀 실행 + 코드 불록 하단 추가\n",
    "2. **셀 삽입/삭제 관련 단축키(3번씩 실습)**\n",
    "    1. `Ctrl(Command)` + M A : 코드 셀 위에 삽입\n",
    "    2. `Ctrl(Command)` + M B : 코드 셀 아래 삽입\n",
    "    3. `Ctrl(Command)` + M D : 셀 지우기\n",
    "    4. `Ctrl(Command)` + M Y : 코드 셀로 변경\n",
    "    5. `Ctrl(Command)` + M M : 마크다운 셀로 변경\n",
    "    6. `Ctrl(Command)` + M Z : 실행 취소\n",
    "3. **자주 쓰는**\n",
    "    1. `Ctrl(Command)` + `Alt(Option)` + 화살표위아래 : 동시 수정\n",
    "    2. (자주) `Ctrl(Command)` + D : 같은 단어 찾아 동시 수정\n",
    "    3. `Ctrl(Command)` + `Shift` + L : 동일 단어를 전체로 찾아 동시 수정\n",
    "    4. `Alt(Option)` + `Shift` + 화살표위아래 : 해당내용을 위나 아래 복사해서 붙여넣기\n",
    "    5. `Alt(Option)` + 화살표위아래 : 해당 내용을 위나 아래로 보내기\n",
    "    6. (자주) `Ctrl(Command)` + `Alt(Option)` + 화살표위아래 : 위아래 동시 수정\n",
    "    7. (자주) Home, End : 문장의 양 끝\n",
    "    8. (필수) `Ctrl(Command)` + `/` : 주석\n",
    "    9. (필수) `Shift`(`Command`) + `Del` : 한 줄 지우기\n",
    "    10. (필수) `Tab`, `Ctrl` + `]` : 들여쓰기\n",
    "    11. (필수) `Shift` + `Tab`, `Ctrl` + `[` : 내어쓰기"
   ]
  },
  {
   "cell_type": "markdown",
   "metadata": {},
   "source": [
    "### 마크다운 \n",
    "#### 1. # 수 만큼 글자 크기\n",
    "#### 2. 강조 * _\n",
    "예)\n",
    "*강조* **강조** <br/> \n",
    "_강조_ __강조__\n",
    "#### 3. 목록\n",
    "예)\n",
    "1.\t\t\n",
    "2.\t\t\t\n",
    "3.\t\n",
    "*\t\n",
    "*\t\n",
    "*\t\n",
    "#### 4. 링크 [표시이름](링크 주소),![표시이름](링크 주소)\n",
    "예)\n",
    "[Google](http://www.google.com)<br/>\n",
    "![모연](./zoom_BG1.png)\n",
    "#### 5. 기타\n",
    "취소선 : ~~취소선~~\n",
    "\n",
    "---\n",
    "\n",
    "> 인용문\n",
    ">> 중첩된 인용문"
   ]
  },
  {
   "cell_type": "markdown",
   "metadata": {},
   "source": [
    "## 주석 코드"
   ]
  },
  {
   "cell_type": "code",
   "execution_count": null,
   "metadata": {},
   "outputs": [],
   "source": [
    "# 이것은 주석이입다.\n",
    "print(\"hello,word1!\")\n",
    "# print('hello,world2!') # 출력 안됨"
   ]
  },
  {
   "cell_type": "markdown",
   "metadata": {},
   "source": [
    "## 입력과 출력"
   ]
  },
  {
   "cell_type": "code",
   "execution_count": null,
   "metadata": {},
   "outputs": [],
   "source": [
    "age = input('나이를 입력해주세요.')\n",
    "print(age + age) # 입력받은 문자는 '문자열'로 처리되어 이어붙입니다.\n",
    "print(\"Hello\", \"World\", \"!\") # 출력은 , 로 구분함 > 출력에는 띄어쓰기로 연결됨\n",
    "print(\"010\", \"0000\", \"0000\", sep=\"-\",end='???') # sep 로 연결기호 변경 가능 end 로 다음 문장 연결)\n",
    "print(\"010\", \"0000\", \"0000\", sep=\"@\")"
   ]
  },
  {
   "cell_type": "markdown",
   "metadata": {},
   "source": [
    "## f-string"
   ]
  },
  {
   "cell_type": "code",
   "execution_count": null,
   "metadata": {},
   "outputs": [],
   "source": [
    "name = 'licat'\n",
    "age = 10\n",
    "print('제 이름은',name,end=\", \")\n",
    "print('제 나이는',age)\n",
    "print(f'제 이름은 {name}, 제 나이는 {age} 입니다.') # 변수를 쉽게 추가하는 방법"
   ]
  },
  {
   "cell_type": "code",
   "execution_count": null,
   "metadata": {},
   "outputs": [],
   "source": [
    "class Character:\n",
    "    def __str__(self):\n",
    "        return 'a'\n",
    " \n",
    "    def __repr__(self):\n",
    "        return 'b'\n",
    " \n",
    "hero = Character()\n",
    "print(hero)\n",
    "hero"
   ]
  },
  {
   "cell_type": "markdown",
   "metadata": {},
   "source": [
    "## 변수\n",
    "1. **변수 이름 짓기**\n",
    "\t* 변수 이름은 알파벳(대문자와 소문자), 숫자, 언더스코어(_)로 구성됩니다.\n",
    "\t* 변수 이름은 숫자로 시작할 수 없습니다. 예를 들어 1ten / 100_test / 0은 변수 이름으로 사용할 수 없습니다.\n",
    "\t* 파이썬의 키워드(예: if, else, while 등)는 변수 이름으로 사용할 수 없습니다.\n",
    "\t* 변수는 대소문자 구분\n",
    "2. **관습**\n",
    "\t* 일반 변수는 주로 첫 문자를 소문자로 사용합니다.\n",
    "\t* 사용하지 않는 변수는 언더스코어(_)로 명명합니다. <br/>\n",
    "\t\t`예: 반복문에서 i, j, k와 같은 변수가 사용되지 않는다면 이러한 변수명을 언더스코어로 대체합니다.`\n",
    "\t* 클래스는 첫문자를 대문자로 하고 띄어쓰기가 일어날 때마다 대문자로 표시하는 파스칼표기법을 주로 사용합니다. <br/>\n",
    "\t\t`예: class UserProfile: , daily_user_count = 100`\n",
    "3. **변수의 타입 변수 정의 후, type(변수) 사용**\n",
    "\t* `int` : 양의 정수, 0, 음의 정수를 표현합니다. `예: 1, 5, 100, 0, -30, -45`\n",
    "\t* `float` : 소수점을 포함한 실수를 표현합니다. `예: 1.5, 5.6, 100.23, 0.0, -30.53245`\n",
    "\t* `complex` : 실수부와 허수부로 구성된 복소수를 표현합니다. `예: 1+2j, 3-4j`\n",
    "\t* `Boolean Type` : 논리 자료형 True, False을 표현합니다.\n",
    "\t* `Sequence Types` : 순서가 있으면서 순서에 해당하는 값을 읽어올 수 있는 인덱싱이나 일부 순서에 그룹을 잘라낼 수 있는 슬라이싱이 가능한 자료형입니다.\n",
    "\t* `str` : 문자의 나열로 이루어진 문자열을 표현합니다. `예: \"Hello\", 'Python'`\n",
    "\t* `list`: 순서가 있는 변경 가능(mutable)한 객체의 집합입니다. `예: [1, 2, 3], ['a', 'b', 'c']`\n",
    "\t* `tuple`: 순서가 있는 변경 불가능(immutable)한 객체의 집합입니다. `예: (1, 2, 3), ('a', 'b', 'c')`\n",
    "\t* `Collection Types` 혹은 컨테이너 타입(Container Types): 다른 자료형을 담을 수 있는 자료형입니다.\n",
    "\t* `list`: 순서가 있는 변경 가능(mutable)한 객체의 집합입니다. `예: [1, 2, 3], ['a', 'b', 'c']`\n",
    "\t* `tuple`: 순서가 있는 변경 불가능(immutable)한 객체의 집합입니다. `예: (1, 2, 3), ('a', 'b', 'c')`\n",
    "\t* `set`: 순서가 없고 중복을 허용하지 않는 변경 가능(mutable)한 객체의 집합입니다. `예: {1, 2, 3}, {'a', 'b', 'c'}`\n",
    "\t* `dict`: 키(key)와 값(value)의 쌍으로 이루어진 변경 가능(mutable)한 객체의 집합입니다. `예: {'a': 1, 'b': 2, 'c': 3}`\n",
    "\t* `None`: None, 값이 없음을 나타내는 특별한 타입입니다.\n",
    "\t* 이 외에도 파이썬에서는 함수`(function)`, 클래스`(class)`, 모듈`(module)` 등의 타입도 존재합니다. 각 타입의 변수를 선언하고 사용하는 예시를 살펴보겠습니다.\n",
    "4. **dir활용**\n",
    "\t* 출력 예)<br/>\n",
    "\t<class 'int'> # int라는 이름을 가지고 있군요!<br/>\n",
    "\t'__abs__', # 매직 메서드: 절대값이 되는군요!<br/>\n",
    "\t'__add__', # 매직 메서드: 더하기가 되는군요!<br/>\n",
    "\t'__and__', # 매직 메서드: 논리 연산이 되는군요!<br/>\n",
    "\t'__mul__', # 매직 메서드: 곱하기가 되는군요!<br/>\n",
    "\t'real', # 메서드: 실수부를 출력하는 메서드<br/>\n",
    "\t'to_bytes' # 메서드: 바이트로 변환하는 메서드\n",
    "5. **변수 삭제 del**\n",
    "\n",
    "    \n",
    "\t"
   ]
  },
  {
   "cell_type": "code",
   "execution_count": null,
   "metadata": {},
   "outputs": [],
   "source": [
    "age = 30\n",
    "name = 'Jun'\n",
    "print(age, name)\n",
    "print(age)\n",
    "print(name)"
   ]
  },
  {
   "cell_type": "markdown",
   "metadata": {},
   "source": [
    "사용 불가 키워드"
   ]
  },
  {
   "cell_type": "code",
   "execution_count": null,
   "metadata": {},
   "outputs": [],
   "source": [
    "import keyword\n",
    "\n",
    "print(keyword.kwlist)"
   ]
  },
  {
   "cell_type": "markdown",
   "metadata": {},
   "source": [
    "변수 정의"
   ]
  },
  {
   "cell_type": "code",
   "execution_count": null,
   "metadata": {},
   "outputs": [],
   "source": [
    "name = 'Jun1'\n",
    "Name = 'Jun2'\n",
    "NAME = 'Jun3'\n",
    "print(name, Name, NAME)\n",
    "name = 'jun4' # 같은 변수 정의시 덮어쓰기 됨\n",
    "print(name)"
   ]
  },
  {
   "cell_type": "markdown",
   "metadata": {},
   "source": [
    "타입 확인"
   ]
  },
  {
   "cell_type": "code",
   "execution_count": null,
   "metadata": {},
   "outputs": [],
   "source": [
    "age = 10\n",
    "print(type(age)) # 출력: <class 'int'>\n",
    "\n",
    "name = \"licat\"\n",
    "print(type(name)) # 출력: <class 'str'>\n",
    "\n",
    "x = 10\n",
    "print(type(x))\n",
    "print(dir(x))\n",
    "del x\n",
    "print(x)  # NameError: name 'x' is not defined"
   ]
  },
  {
   "cell_type": "code",
   "execution_count": 27,
   "metadata": {},
   "outputs": [],
   "source": [
    "a = 10      # int, 정수형\n",
    "b = -1      # int, 정수형\n",
    "c = 0b110   # int, 2진수 정수형\n",
    "d = 0o56    # int, 8진수 정수형\n",
    "e = 0xAC    # int, 16진수 정수형\n",
    " \n",
    "f = 10.1    # float, 실수형\n",
    " \n",
    "g = 10 + 2j # complex, 복소수형\n",
    " \n",
    "h = 'Hello'  # str, 문자열\n",
    "i = \"10\"    # str, 문자열\n",
    " \n",
    "j = True    # bool, 불리언\n",
    " \n",
    "k = None    # NoneType\n",
    " \n",
    "l = [1, 2, 3, 4]       # list, 리스트\n",
    "m = ['one', 'two']     # list, 리스트\n",
    "n = (1, 2, 3, 4)       # tuple, 튜플\n",
    "o = ('one', 'two')     # tuple, 튜플\n",
    "p = {'one': 1, 'two': 2} # dict, 딕셔너리\n",
    "q = {1, 2, 3, 4}       # set, 집합\n",
    " \n",
    "def r():    # function, 함수\n",
    "    pass\n",
    " \n",
    "s = print   # built-in function, 내장 함수\n",
    "t = lambda x: x ** 2  # function, 람다 함수\n",
    "u = int     # type, 타입\n",
    " \n",
    "class Character:  # class, 클래스\n",
    "    pass\n",
    " \n",
    "hero = Character()    # instance, 인스턴스\n",
    "villain = Character() # instance, 인스턴스"
   ]
  },
  {
   "cell_type": "markdown",
   "metadata": {},
   "source": [
    "Python에서는 `bin(), oct(), hex()` 함수를 사용하여 10진수를 각각 `2진수, 8진수, 16진수`로 변환할 수 있습니다."
   ]
  },
  {
   "cell_type": "code",
   "execution_count": null,
   "metadata": {},
   "outputs": [],
   "source": [
    "x = 26\n",
    "print(bin(x))\n",
    "print(oct(x))\n",
    "print(hex(x))"
   ]
  },
  {
   "cell_type": "markdown",
   "metadata": {},
   "source": [
    "`id` 범위 `-5 ~ 256`, 그외 값을 변함"
   ]
  },
  {
   "cell_type": "code",
   "execution_count": null,
   "metadata": {},
   "outputs": [],
   "source": [
    "# -5 ~ 256\n",
    "x = 1000\n",
    "y = 1000\n",
    "a = 256\n",
    "b = 256\n",
    "print(id(x), id(y))\n",
    "print(id(a), id(b))"
   ]
  },
  {
   "cell_type": "markdown",
   "metadata": {},
   "source": [
    "실수의 특수 값 `inf_무한`, `e,E` 10에 승수"
   ]
  },
  {
   "cell_type": "code",
   "execution_count": null,
   "metadata": {},
   "outputs": [],
   "source": [
    "x = float(\"-inf\")\n",
    "y = float(\"inf\")\n",
    "float(\"inf\") > 10"
   ]
  },
  {
   "cell_type": "code",
   "execution_count": null,
   "metadata": {},
   "outputs": [],
   "source": [
    "print(2e3) # 지수표현, float형\n",
    "print(2E3)\n",
    "\n",
    "print(2 * (10 ** 3)) # int 형"
   ]
  },
  {
   "cell_type": "markdown",
   "metadata": {},
   "source": [
    "#### 문자열(`str`)\n",
    "1. `변수명[start(인덱스) : stop(인덱스) : step(인덱스)]` 슬라이싱\n",
    "2. `변수명.메서드()`\n",
    "\t* `lower`( ) 전체 *`소`*문자\n",
    "\t* `upper`( ) 전체 *`대`*문자\n",
    "\t* `find` ( ) index ( ) 문자열을 *`찾아주는`* method *`찾을 수 없는 문자열일 경우 find는 -1을 반환하는 반면, index는 error를 반환합니다.`*\n",
    "\t* `count`( ) 문자열이나 숫자를 *`셀`* 때 사용\n",
    "\t* `strip`( ) 양쪽 `공백 + @`을 *`제거`*하는 method\n",
    "\t* `replace`( ) `원하는 문자열`을 다른 문자열로 *`대체`*할 때 사용하는 *`method 대소문자 구분`*\n",
    "\t* `split`( ) `()` 내용을 기준으로 문자열 *`나누기`*\n",
    "\t* `.join` ( ) 리스트 [] 내용을 .join 앞에의 내용으로 하나의 문자열로 합치기 *`예문 확인`*\n",
    "\t* `format`( )  메서드는 문자열 내에서 변수의 값을 대입할 때 사용하는 메서드입니 *`예문 확인`*\n",
    "\t* `isalnum`( )  `al`는 *`알파벳`*, `num`은 *`숫자`*, **특수문자가 들어가 있으면 `False`, 한글이나 영어, 일본어, 중국어, 숫자 등이 들어가 있으면 `True`.**\n",
    "\t* `isdigit`( ) `문자열 숫자 만` 인지 확인.\n",
    "\t* `isalpha`( ) `문자열 문자 만` 인지 확인.\n",
    "\t* `isascii`( ) `아스키 코드표` 안에 있는비 확인.\n",
    "\t* `rjust`( **지정 길이 `:` 지정 문자** ) 문자열을 지정한 길이로 맞추고, 왼쪽을 지정한 문자로 채우는 메서드 *`예문 확인`*\n",
    "\t* `ljust`( **지정 길이 `:` 지정 문자** ) 문자열을 지정한 길이로 맞추고, 오른쪽을 지정한 문자로 채우는 메서드\n",
    "\t* `center`( **지정 길이 `:` 지정 문자** ) 문자열을 지정한 길이로 맞추고, 양쪽 지정한 문자로 채우는 메서드\n",
    "\t* `zfill`( **지정 길이** ) 문자열을 지정한 길이로 맞추고, 왼쪽을 0로 채우는 메서드\n",
    "\t* `maketrans + translate`() `여러개 문자열`을 다른 문자열로 *`대체`* 혹은 삭제 *`예문 학인`* **연습 필요**\n",
    "\t"
   ]
  },
  {
   "cell_type": "markdown",
   "metadata": {},
   "source": [
    "슬라이싱 테스트"
   ]
  },
  {
   "cell_type": "code",
   "execution_count": null,
   "metadata": {},
   "outputs": [],
   "source": [
    "j = \"\"\"안녕하세요.\n",
    "저는 위니브의 대표 이호준입니다.\n",
    "파이썬 참 좋아요.\n",
    "여러분 정말 잘 선택하셨어요.\n",
    "\"\"\"\n",
    "print(i)\n",
    "s = 'weniv CEO licat' # S[]<문자열의 순번 0부터 시작 \n",
    "print(s[0]) # 출력 : '위'\n",
    "print(s[-1]) # 출력 : '!'\n",
    "print(s[0:5]) # 출력 : weniv # 첫번째 예제\n",
    "print(s[6:]) # 출력 : CEO licat # 두번째 예제\n",
    "print(s[:]) # 출력 : weniv CEO licat # 세번째 예제\n",
    "print(s[::-1]) # 출력 : tacil OEC vinew # 네번째 예제\n",
    "print(s[::2]) # 출력 : wnvCOlct # 다섯번째 예제\n",
    "c = 'zoom_BG1.png'\n",
    "print(c[-3:])\n",
    "print(c[-1:-4:-1])\n",
    "print(c[-4::1])\n"
   ]
  },
  {
   "cell_type": "markdown",
   "metadata": {},
   "source": [
    "메서드 strip() 테스트"
   ]
  },
  {
   "cell_type": "code",
   "execution_count": null,
   "metadata": {},
   "outputs": [],
   "source": [
    "'    ,!!  hello world   '.strip(' ,!')\n",
    "#양쪽의 공백과 ',!'을 제거해주는 method"
   ]
  },
  {
   "cell_type": "markdown",
   "metadata": {},
   "source": [
    "join() 테스트"
   ]
  },
  {
   "cell_type": "code",
   "execution_count": 78,
   "metadata": {},
   "outputs": [
    {
     "ename": "SyntaxError",
     "evalue": "unexpected character after line continuation character (37032416.py, line 3)",
     "output_type": "error",
     "traceback": [
      "\u001b[1;36m  Cell \u001b[1;32mIn[78], line 3\u001b[1;36m\u001b[0m\n\u001b[1;33m    c = '010 1000 1000'\\r\u001b[0m\n\u001b[1;37m                        ^\u001b[0m\n\u001b[1;31mSyntaxError\u001b[0m\u001b[1;31m:\u001b[0m unexpected character after line continuation character\n"
     ]
    }
   ],
   "source": [
    "s = ['weniv', 'CEO', 'licat']\n",
    "print('-'.join(s)) #리스트를 하나의 문자열로 합치기\n",
    "c = '010 1000 1000'\n",
    "'-'.join(c.split()) #공백을 기준으로 문자열을 나눈 후 '-'로 합치기"
   ]
  },
  {
   "cell_type": "markdown",
   "metadata": {},
   "source": [
    "format() 테스트"
   ]
  },
  {
   "cell_type": "code",
   "execution_count": null,
   "metadata": {},
   "outputs": [],
   "source": [
    "name = 'licat'\n",
    "age = 29\n",
    "\n",
    "\n",
    "print('제 이름은 {}이고, 나이는 {}살입니다.'.format(name, age))"
   ]
  },
  {
   "cell_type": "markdown",
   "metadata": {},
   "source": [
    "licat( : ) 테스트"
   ]
  },
  {
   "cell_type": "code",
   "execution_count": null,
   "metadata": {},
   "outputs": [],
   "source": [
    "s = 'licat'\n",
    "s.rjust(10, '-')"
   ]
  },
  {
   "cell_type": "markdown",
   "metadata": {},
   "source": [
    "`maketrans + translate` 테스트"
   ]
  },
  {
   "cell_type": "code",
   "execution_count": null,
   "metadata": {},
   "outputs": [],
   "source": [
    "# 두 개의 인수를 사용하는 예제\n",
    "intab = \"aeiou\"\n",
    "outtab = \"12345\"\n",
    "translation_table = str.maketrans(intab, outtab)\n",
    "translated_string = \"hello world\".translate(translation_table)\n",
    "print(translated_string)  # h2ll4 w4rld\n",
    "\n",
    "# 세 개의 인수를 사용하는 예제\n",
    "intab = \"aeiou\"\n",
    "outtab = \"12345\"\n",
    "removetab = \"xyz\"\n",
    "translation_table = str.maketrans(intab, outtab, removetab)\n",
    "translated_string = \"hello xyz world\".translate(translation_table)\n",
    "print(translated_string)  # h2ll4  w4rld (xyz 문자가 제거됨)\n",
    "# 사전을 사용하는 예제\n",
    "translation_table = str.maketrans({\n",
    "    'a': '1',\n",
    "    'e': '2',\n",
    "    'i': '3',\n",
    "    'o': '4',\n",
    "    'u': '5',\n",
    "    'y': None  # 제거할 문자\n",
    "})\n",
    "translated_string = \"hello world\".translate(translation_table)\n",
    "print(translated_string)  # h2ll4 w4rld"
   ]
  },
  {
   "cell_type": "markdown",
   "metadata": {},
   "source": [
    "\\r: 커서를 현재 줄의 처음으로 이동합니다."
   ]
  },
  {
   "cell_type": "code",
   "execution_count": 79,
   "metadata": {},
   "outputs": [
    {
     "name": "stdout",
     "output_type": "stream",
     "text": [
      "카운트 완료!\n"
     ]
    }
   ],
   "source": [
    "import time\n",
    "\n",
    "# 간단한 카운터 예제\n",
    "for i in range(10):\n",
    "    print(f\"카운트: {i}\", end='\\r')\n",
    "    time.sleep(1)\n",
    "\n",
    "print(\"카운트 완료!\")\n"
   ]
  },
  {
   "cell_type": "code",
   "execution_count": 80,
   "metadata": {},
   "outputs": [
    {
     "name": "stdout",
     "output_type": "stream",
     "text": [
      "진행률: [100%]\n",
      "완료!\n"
     ]
    }
   ],
   "source": [
    "import time\n",
    "\n",
    "# 진행 막대 예제\n",
    "for i in range(101):\n",
    "    print(f\"진행률: [{i}%]\", end='\\r')\n",
    "    time.sleep(0.1)\n",
    "\n",
    "print(\"\\n완료!\")\n"
   ]
  }
 ],
 "metadata": {
  "kernelspec": {
   "display_name": "Python 3",
   "language": "python",
   "name": "python3"
  },
  "language_info": {
   "codemirror_mode": {
    "name": "ipython",
    "version": 3
   },
   "file_extension": ".py",
   "mimetype": "text/x-python",
   "name": "python",
   "nbconvert_exporter": "python",
   "pygments_lexer": "ipython3",
   "version": "3.12.3"
  }
 },
 "nbformat": 4,
 "nbformat_minor": 2
}
