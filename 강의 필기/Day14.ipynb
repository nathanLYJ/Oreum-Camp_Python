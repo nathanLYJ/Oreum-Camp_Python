{
 "cells": [
  {
   "cell_type": "code",
   "execution_count": null,
   "metadata": {},
   "outputs": [],
   "source": [
    "for i in range(10):\n",
    "    print(i)\n",
    "\n",
    "# for 반복문 시작\n",
    "# 범위(0부터 9까지) 안에 i번째 밑에 내용 반복 실행\n",
    "# 실행 내용은 i 를 출력\n",
    "# 범위의 마지막 값(9)에 도달하면 반복 종료\n",
    "# 반복 횟수는 10번"
   ]
  },
  {
   "cell_type": "code",
   "execution_count": null,
   "metadata": {},
   "outputs": [],
   "source": [
    "i = iter('hello')\n"
   ]
  },
  {
   "cell_type": "code",
   "execution_count": null,
   "metadata": {},
   "outputs": [],
   "source": [
    "next(i)"
   ]
  },
  {
   "cell_type": "code",
   "execution_count": null,
   "metadata": {},
   "outputs": [],
   "source": [
    "class MyIterator:\n",
    "    def __init__(self, stop):\n",
    "        self.stop = stop\n",
    "\n",
    "    def __iter__(self):\n",
    "        self.currentValue = 0\n",
    "        return self\n",
    "\n",
    "    def __next__(self):\n",
    "        if self.currentValue >= self.stop:\n",
    "            raise StopIteration\n",
    "        result = self.currentValue\n",
    "        self.currentValue += 1\n",
    "        return result\n",
    "\n",
    "my_iterator = MyIterator(5)\n",
    "\n",
    "for i in my_iterator:\n",
    "    print(i)\n",
    "\n",
    "for i in my_iterator:\n",
    "    print(i)\n",
    "\n",
    "# 결국 for는 iter먼저 실행하고, next로 StopIteration\n",
    "# i = iter(li)\n",
    "# next(i)"
   ]
  },
  {
   "cell_type": "code",
   "execution_count": null,
   "metadata": {},
   "outputs": [],
   "source": [
    "class MyIterator:\n",
    "    def __init__(self, stop):\n",
    "        self.stop = stop\n",
    "        self.data = list(range(stop))  # 데이터를 미리 생성하여 저장\n",
    "\n",
    "    def __iter__(self):\n",
    "        self.current_index = 0\n",
    "        return self\n",
    "\n",
    "    def __next__(self):\n",
    "        if self.current_index >= self.stop:\n",
    "            raise StopIteration\n",
    "        result = self.data[self.current_index]\n",
    "        self.current_index += 1\n",
    "        return result\n",
    "\n",
    "    def __getitem__(self, index):\n",
    "        if isinstance(index, slice):\n",
    "            # 슬라이싱 지원\n",
    "            return [self.data[i] for i in range(*index.indices(self.stop))]\n",
    "        elif 0 <= index < self.stop:\n",
    "            return self.data[index]\n",
    "        else:\n",
    "            raise IndexError(\"Index out of range\")\n",
    "\n",
    "    def __len__(self):\n",
    "        return self.stop\n",
    "\n",
    "# 사용 예시\n",
    "my_iterator = MyIterator(5)\n",
    "\n",
    "# 반복 사용\n",
    "print(\"Iteration:\")\n",
    "for i in my_iterator:\n",
    "    print(i)\n",
    "\n",
    "# 인덱싱 사용\n",
    "print(\"\\nIndexing:\")\n",
    "print(my_iterator[2])  # 2 출력\n",
    "print(my_iterator[1:4])  # [1, 2, 3] 출력\n",
    "\n",
    "# 길이 확인\n",
    "print(\"\\nLength:\")\n",
    "print(len(my_iterator))  # 5 출력\n",
    "\n",
    "# 두 번째 반복도 가능\n",
    "print(\"\\nSecond iteration:\")\n",
    "for i in my_iterator:\n",
    "    print(i)"
   ]
  },
  {
   "cell_type": "code",
   "execution_count": null,
   "metadata": {},
   "outputs": [],
   "source": [
    "'0100101'.replace('0', ' ').replace('1', '#')"
   ]
  },
  {
   "cell_type": "code",
   "execution_count": null,
   "metadata": {},
   "outputs": [],
   "source": [
    "'0100101'\\\n",
    "\t.replace('0', ' ')\\\n",
    "\t.replace('1', '#')"
   ]
  },
  {
   "cell_type": "markdown",
   "metadata": {},
   "source": [
    "### 일급함수와 고차함수"
   ]
  },
  {
   "cell_type": "code",
   "execution_count": 30,
   "metadata": {},
   "outputs": [
    {
     "name": "stdout",
     "output_type": "stream",
     "text": [
      "hello world\n",
      "<function f at 0x00000174CA385580>\n"
     ]
    }
   ],
   "source": [
    "x = 10 # 변수 x에 10을 할당\n",
    "\n",
    "def f():\n",
    "    print('hello world')\n",
    "\n",
    "x = f # 변수 x에 f함수 할당, '일급 함수'는 함수를 마치 값처럼 취급\n",
    "\n",
    "print(x())"
   ]
  },
  {
   "cell_type": "code",
   "execution_count": null,
   "metadata": {},
   "outputs": [],
   "source": [
    "def add(a, b):\n",
    "    return a + b\n",
    "\n",
    "def sub(a, b):\n",
    "    return a - b\n",
    "\n",
    "def mul(a, b):\n",
    "    return a * b\n",
    "\n",
    "def div(a, b):\n",
    "    return a / b\n",
    "\n",
    "x = [add, sub, mul, div] # 값이 들어갈 수 있는 공간에 함수 이름을 다 넣어보는 것!\n",
    "x[0](1, 2)"
   ]
  },
  {
   "cell_type": "code",
   "execution_count": null,
   "metadata": {},
   "outputs": [],
   "source": [
    "def add(a, b):\n",
    "    return a + b\n",
    "\n",
    "def hello(f):\n",
    "    return f(10, 20) + f(20, 30)\n",
    "\n",
    "hello(add)"
   ]
  },
  {
   "cell_type": "markdown",
   "metadata": {},
   "source": [
    "### 클로저"
   ]
  },
  {
   "cell_type": "code",
   "execution_count": null,
   "metadata": {},
   "outputs": [],
   "source": [
    "# 함수를 리턴\n",
    "def f():\n",
    "    def ff():\n",
    "        print('hello')\n",
    "    return ff\n",
    "\n",
    "x = f()\n",
    "x()"
   ]
  },
  {
   "cell_type": "code",
   "execution_count": null,
   "metadata": {},
   "outputs": [],
   "source": [
    "# 클로저, 파이썬에서 팩토리 함수라고도 합니다.\n",
    "# 위 원리를 이용한 것입니다.\n",
    "def f(x):\n",
    "    def ff(y):\n",
    "        return x ** y\n",
    "    return ff\n",
    "\n",
    "x = f(3)\n",
    "# 이 다음부터는 3 ** ? 인데, 3을 변경시킬 수 없습니다.\n",
    "# def ff(y):\n",
    "#     return 3 ** y\n",
    "x(2)\n",
    "\n",
    "xx = f(4)\n",
    "# 이 다음부터는 4 ** ? 인데, 4을 변경시킬 수 없습니다.\n",
    "xx(2)\n",
    "\n",
    "# point1: 원래 휘발되었어야 하는 메모리 공간이 참조로 인해 살아있게 됩니다.\n",
    "# point2: 휘발되었어야 하는 공간에 남아있는 변수는 변경 불가능한 변수로 남아있게 됩니다.\n",
    "# point3: 그리고 이 공간에 접근하는 기술을 클로저라고 합니다."
   ]
  },
  {
   "cell_type": "markdown",
   "metadata": {},
   "source": [
    "### 데커레이터"
   ]
  },
  {
   "cell_type": "code",
   "execution_count": 33,
   "metadata": {},
   "outputs": [],
   "source": [
    "def login(function):\n",
    "    pass\n",
    "\n",
    "@login\n",
    "def 게시판읽기():\n",
    "    pass"
   ]
  },
  {
   "cell_type": "code",
   "execution_count": null,
   "metadata": {},
   "outputs": [],
   "source": [
    "def simple_decorator(function):\n",
    "    def wrapper():\n",
    "        print(\"전\")\n",
    "        # function()\n",
    "        print(\"후\")\n",
    "    return wrapper\n",
    "\n",
    "\n",
    "@simple_decorator\n",
    "def hello():\n",
    "    print(\"Hello, World!\")\n",
    "\n",
    "\n",
    "hello() # 데코레이터가 없는 상태에서는 simple_decorator(hello)() 와 같습니다."
   ]
  },
  {
   "cell_type": "code",
   "execution_count": null,
   "metadata": {},
   "outputs": [],
   "source": [
    "# 전처리 작업을 하고 싶다!\n",
    "# 후처리 작업을 하고 싶다!\n",
    "\n",
    "def hello():\n",
    "    pass"
   ]
  },
  {
   "cell_type": "code",
   "execution_count": null,
   "metadata": {},
   "outputs": [],
   "source": [
    "# 여기까지만 보셨을 때 데커레이터를 사용하는 이유가 어느정도 이해가 가셨으면 좋겠습니다.\n",
    "data = [1, '2', 3, '4', 5]\n",
    "\n",
    "@전처리\n",
    "def custom_sum(d):\n",
    "    return sum(d)\n",
    "\n",
    "print(custom_sum(data))"
   ]
  },
  {
   "cell_type": "code",
   "execution_count": null,
   "metadata": {},
   "outputs": [],
   "source": [
    "# 여기까지만 보셨을 때 데커레이터를 사용하는 이유가 어느정도 이해가 가셨으면 좋겠습니다.\n",
    "data = [1, '2', 3, '4', 5]\n",
    "\n",
    "####### 이부분을 숨길수 있다\n",
    "def 전처리(function):\n",
    "    def wrapper(d):\n",
    "        return function(list(map(int, d)))\n",
    "    return wrapper\n",
    "######\n",
    "\n",
    "@전처리\n",
    "def custom_sum(d):\n",
    "    return sum(d)\n",
    "\n",
    "print(custom_sum(data))\n",
    "\n",
    "# 하나의 코드에 다 집어넣으면 되는 것 아닌가요? 아는척하는거에요? 너무 어렵게 짰어요!!\n",
    "# 가독성을 해치는 것 아닌가요?\n",
    "\n",
    "# 답: 재사용성이 크게 높아집니다.\n",
    "# 그리고 이 데커레이터가 숨겨졌을 때(추상화 되었을 때) 가독성이 그 전보다 훨씬 뛰어나집니다."
   ]
  },
  {
   "cell_type": "markdown",
   "metadata": {},
   "source": [
    "### lambda"
   ]
  },
  {
   "cell_type": "code",
   "execution_count": null,
   "metadata": {},
   "outputs": [],
   "source": [
    "def f(x):\n",
    "    return x ** 2\n",
    "\n",
    "f = lambda x: x ** 2"
   ]
  },
  {
   "cell_type": "code",
   "execution_count": null,
   "metadata": {},
   "outputs": [],
   "source": [
    "data = [\n",
    "    [1, 400, 'h'],\n",
    "    [2, 300, 'he'],\n",
    "    [4, 100, 'hel'],\n",
    "    [3, 200, 'hell'],\n",
    "    [5, 500, 'hello'],\n",
    "]\n",
    "\n",
    "def f(x):\n",
    "    return x[1]\n",
    "\n",
    "sorted(data, key=f) # lambda에 가장 큰 사용 이유는 재사용하지 않겠다!라는 것입니다."
   ]
  },
  {
   "cell_type": "code",
   "execution_count": null,
   "metadata": {},
   "outputs": [],
   "source": [
    "# 이 람다가 바로 일급함수이기 때문입니다.\n",
    "# 그렇다면 람다는 무엇으로 취급되죠? 값으로 취급됩니다.\n",
    "# 그래서 람다가 쓰이는 곳은 어디인가요? 함수의 이름 값을 요하는 곳\n",
    "# 예를 들어서\n",
    "\n",
    "data = [\n",
    "    [1, 400, 'h'],\n",
    "    [2, 300, 'he'],\n",
    "    [4, 100, 'hel'],\n",
    "    [3, 200, 'hell'],\n",
    "    [5, 500, 'hello'],\n",
    "]\n",
    "\n",
    "sorted(data, key=lambda x: x[1])"
   ]
  },
  {
   "cell_type": "code",
   "execution_count": null,
   "metadata": {},
   "outputs": [],
   "source": [
    "#1차원의 점들이 주어졌을 때, 그 중 가장 거리가 짧은 것의 쌍을 출력하는 함수를 작성하시오. (단 점들의 배열은 모두 정렬되어있다고 가정한다.)\n",
    "\n",
    "#예를들어 S={1, 3, 4, 8, 13, 17, 20} 이 주어졌다면, 결과값은 (3, 4)가 될 것이다.\n",
    "s = [1, 3, 4, 8, 13, 17, 20]\n",
    "ss = s[1:]\n",
    "\n",
    "list(zip(s, ss))"
   ]
  },
  {
   "cell_type": "code",
   "execution_count": null,
   "metadata": {},
   "outputs": [],
   "source": [
    "s = [1, 3, 4, 8, 13, 17, 20]\n",
    "ss = s[1:]\n",
    "\n",
    "sorted(zip(s, ss), key=lambda x: x[1]-x[0])\n",
    "# sorted(zip(s, ss), key=lambda x: x[1]-x[0])[0]"
   ]
  }
 ],
 "metadata": {
  "kernelspec": {
   "display_name": "Python 3",
   "language": "python",
   "name": "python3"
  },
  "language_info": {
   "codemirror_mode": {
    "name": "ipython",
    "version": 3
   },
   "file_extension": ".py",
   "mimetype": "text/x-python",
   "name": "python",
   "nbconvert_exporter": "python",
   "pygments_lexer": "ipython3",
   "version": "3.12.3"
  }
 },
 "nbformat": 4,
 "nbformat_minor": 2
}
