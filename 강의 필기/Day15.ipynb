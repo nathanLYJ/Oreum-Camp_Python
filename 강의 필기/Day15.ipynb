{
 "cells": [
  {
   "cell_type": "code",
   "execution_count": 2,
   "metadata": {},
   "outputs": [
    {
     "data": {
      "text/plain": [
       "22"
      ]
     },
     "execution_count": 2,
     "metadata": {},
     "output_type": "execute_result"
    }
   ],
   "source": [
    "# 다음중 텍스트에서 숫자만 골라 모두 더하라\n",
    "# 'h1e2l3lo11wo2r3l9d'\n",
    "\n",
    "s = 'h1e2l3lo11wo2r3l9d'\n",
    "sum(map(int, filter(lambda x: x.isdigit(), 'h1e2l3lo11wo2r3l9d')))\n",
    "\n",
    "# type(s) == 'str'\n",
    "# isinstance(s, str)"
   ]
  },
  {
   "cell_type": "markdown",
   "metadata": {},
   "source": [
    "### args,kwargs"
   ]
  },
  {
   "cell_type": "code",
   "execution_count": 2,
   "metadata": {},
   "outputs": [
    {
     "name": "stdout",
     "output_type": "stream",
     "text": [
      "(100, True, 'Licat')\n"
     ]
    }
   ],
   "source": [
    "def print_args(*args):\n",
    "    print(args) # 출력: (100, True, 'Licat')\n",
    "\n",
    "print_args(100, True, 'Licat')"
   ]
  },
  {
   "cell_type": "code",
   "execution_count": null,
   "metadata": {},
   "outputs": [],
   "source": [
    "# 파선아실\n",
    "def f(a, b, *args):\n",
    "    print(a, b)\n",
    "    print(args)\n",
    "\n",
    "f(1, 2, 3, 'abc', 'def')"
   ]
  },
  {
   "cell_type": "code",
   "execution_count": null,
   "metadata": {},
   "outputs": [],
   "source": [
    "# 파라미터로 들어갔을 때에는 패킹을 했고\n",
    "# 아규먼트로 들어갔을 때에는 언패킹을 했습니다.\n",
    "# 언패킹\n",
    "def func(a, b, c):\n",
    "    print(a, b, c)\n",
    "\n",
    "args = (10, 20, 30)\n",
    "func(*args)\n",
    "# (10, 20, 30) => *args => 10, 20, 30"
   ]
  },
  {
   "cell_type": "code",
   "execution_count": null,
   "metadata": {},
   "outputs": [],
   "source": [
    "a, b, c = range(3)\n",
    "a"
   ]
  },
  {
   "cell_type": "code",
   "execution_count": null,
   "metadata": {},
   "outputs": [],
   "source": [
    "def f(a, **kwargs):\n",
    "    print(a)\n",
    "    print(kwargs)\n",
    "\n",
    "f(100, name='Licat', age='10')"
   ]
  },
  {
   "cell_type": "code",
   "execution_count": null,
   "metadata": {},
   "outputs": [],
   "source": [
    "data = [\n",
    "    {\n",
    "        'name': 'Licat',\n",
    "        'age': 3\n",
    "    },\n",
    "    {\n",
    "        'name': 'John',\n",
    "        'age': 7\n",
    "    },\n",
    "    {\n",
    "        'name': 'Jane',\n",
    "        'age': 4\n",
    "    }\n",
    "]\n",
    "sorted(data, key=lambda x: x['age'], reverse=True)\n",
    "sorted(data, reverse=True, key=lambda x: x['age'])"
   ]
  },
  {
   "cell_type": "code",
   "execution_count": null,
   "metadata": {},
   "outputs": [],
   "source": [
    "def f(*args, **kwargs):\n",
    "    print(args)\n",
    "    print(kwargs)\n",
    "\n",
    "f(100, name='Licat', age='10')\n",
    "f(100, 200, name='Licat', age='10')\n",
    "# f(100, name='Licat', 200, age='10') #error"
   ]
  },
  {
   "cell_type": "code",
   "execution_count": null,
   "metadata": {},
   "outputs": [],
   "source": [
    "one, two, *three = 1, 2, 3, 4, 5\n",
    "print(one, two, three)"
   ]
  },
  {
   "cell_type": "code",
   "execution_count": null,
   "metadata": {},
   "outputs": [],
   "source": [
    "a, b, *c = 'hello world'\n",
    "c # 출력: ['l', 'l', 'o', ' ', 'w', 'o', 'r', 'l', 'd']"
   ]
  },
  {
   "cell_type": "code",
   "execution_count": null,
   "metadata": {},
   "outputs": [],
   "source": [
    "a = 1,2,3,4,5,6\n",
    "i,j,*k,l = a\n",
    "print(i)\n",
    "print(j)\n",
    "print(k)\n",
    "print(l)"
   ]
  },
  {
   "cell_type": "code",
   "execution_count": null,
   "metadata": {},
   "outputs": [],
   "source": [
    "# 파선아실\n",
    "def f(a, b, *args,):\n",
    "    print(a, b)\n",
    "    print(args)\n",
    "    print(c)\n",
    "f(1, 2, 3, 'abc', 'def',4)"
   ]
  },
  {
   "cell_type": "code",
   "execution_count": null,
   "metadata": {},
   "outputs": [],
   "source": [
    "# 필\n",
    "def g():\n",
    "    yield '홀'\n",
    "    yield '짝'\n",
    "    yield '홀'\n",
    "    yield '짝'\n",
    "    yield '홀'\n",
    "    yield '짝'\n",
    "    yield '홀'\n",
    "    yield '짝'\n",
    "    yield '홀'\n",
    "    yield '짝'\n",
    "    yield '홀'\n",
    "    yield '짝'\n",
    "list(zip([1, 2, 3, 4, 5, 6], g()))"
   ]
  },
  {
   "cell_type": "code",
   "execution_count": null,
   "metadata": {},
   "outputs": [],
   "source": [
    "class MyIterator:\n",
    "    def __init__(self, stop):\n",
    "        self.current_value = 0  # 현재 값\n",
    "        self.stop = stop  # 순회를 멈출 값\n",
    "\n",
    "    def __iter__(self):\n",
    "        return self\n",
    "\n",
    "    def __next__(self):\n",
    "        if self.current_value >= self.stop:\n",
    "            raise StopIteration\n",
    "        result = self.current_value\n",
    "        self.current_value += 1\n",
    "        return result\n",
    "\n",
    "my_iterator = MyIterator(5)\n",
    "\n",
    "for i in my_iterator:\n",
    "    print(i)\n",
    "\n",
    "for i in my_iterator:\n",
    "    print(i)\n",
    "\n",
    "for i in my_iterator:\n",
    "    print(i)"
   ]
  },
  {
   "cell_type": "code",
   "execution_count": null,
   "metadata": {},
   "outputs": [],
   "source": [
    "class MyIterator:\n",
    "    def __init__(self, stop):\n",
    "        self.stop = stop\n",
    "\n",
    "    def __iter__(self):\n",
    "        self.current_value = 0  # __iter__에서 초기화\n",
    "        return self\n",
    "\n",
    "    def __next__(self):\n",
    "        if self.current_value >= self.stop:\n",
    "            raise StopIteration\n",
    "        result = self.current_value\n",
    "        self.current_value += 1\n",
    "        return result\n",
    "\n",
    "my_iterator = MyIterator(5)\n",
    "\n",
    "for i in my_iterator:\n",
    "    print(i)"
   ]
  },
  {
   "cell_type": "markdown",
   "metadata": {},
   "source": [
    "#### 제너레이터는 이터레이터를 생성하는 함수이다\n",
    "- __iter__() 와 __next__() 메서드를 구현합니다.\n",
    "- next() 함수를 사용하여 다음 요소를 가져올 수 있습니다.\n",
    "- 모든 요소를 순회한 후에는 StopIteration 예외를 발생시킵니다.\n",
    "1. 제너레이터는 휘발성있는 함수, yield 한번 순회하면 소진되어 재사용 불가능\n"
   ]
  },
  {
   "cell_type": "markdown",
   "metadata": {},
   "source": [
    "### nonlocal"
   ]
  },
  {
   "cell_type": "code",
   "execution_count": null,
   "metadata": {},
   "outputs": [],
   "source": [
    "# 다음과 같은 자료형이 있습니다. \n",
    "# A학점 10명\n",
    "# B학점 15명\n",
    "# C학점 20명\n",
    "# F학점 나머지\n",
    "\n",
    "import random as r\n",
    "\n",
    "data = [r.randint(0, 100) for i in range(100)]\n",
    "data\n",
    "\n",
    "# 이 데이터를 가지고 아래와 같은 형태를 만들어주세요.\n",
    "# 제너레이터를 활용해주세요.\n",
    "\n",
    "# data = [\n",
    "#     [37, 'A'], \n",
    "#     [27, 'B'], \n",
    "#     [17, 'C'], \n",
    "#     ]\n",
    "def g():\n",
    "    for i in range(10):\n",
    "        yield 'A'\n",
    "    for i in range(15):\n",
    "        yield 'B'\n",
    "    for i in range(20):\n",
    "        yield 'C'\n",
    "    while True:\n",
    "        yield 'F'\n",
    "\n",
    "list(zip(sorted(data, reverse=True), g()))\n"
   ]
  },
  {
   "cell_type": "code",
   "execution_count": null,
   "metadata": {},
   "outputs": [],
   "source": [
    "# nonlocal\n",
    "a = 10\n",
    "def f():\n",
    "    a = 100\n",
    "    print(f'f a: {a}')\n",
    "    def ff():\n",
    "        a = 1000\n",
    "        print(f'ff a: {a}')\n",
    "        def fff():\n",
    "            global a  # global a nonlocal a로 변경해보세요.\n",
    "            a = 10000\n",
    "            print(f'fff a: {a}')\n",
    "        fff()\n",
    "        print(f'ff a: {a}')\n",
    "    ff()\n",
    "f()\n",
    "print(f'global a: {a}')"
   ]
  },
  {
   "cell_type": "code",
   "execution_count": 34,
   "metadata": {},
   "outputs": [
    {
     "name": "stdout",
     "output_type": "stream",
     "text": [
      "hello\n"
     ]
    },
    {
     "data": {
      "text/plain": [
       "world"
      ]
     },
     "execution_count": 34,
     "metadata": {},
     "output_type": "execute_result"
    }
   ],
   "source": [
    "class A:\n",
    "\tdef __str__(self):\n",
    "\t\treturn 'hello'\n",
    "\tdef __repr__(self):\n",
    "\t\treturn 'world'\n",
    "a = A()\n",
    "print(a)\n",
    "a"
   ]
  },
  {
   "cell_type": "code",
   "execution_count": 36,
   "metadata": {},
   "outputs": [],
   "source": [
    "f = open('student.csv', 'w')\n",
    "l = ['licat', 'mura', 'binky']\n",
    "s = ''\n",
    "for i, j in enumerate(l, 1):\n",
    "    s += f'{i}번 {j}입니다.'\n",
    "f.write(s)\n",
    "f.close()"
   ]
  },
  {
   "cell_type": "code",
   "execution_count": 37,
   "metadata": {},
   "outputs": [],
   "source": [
    "f = open('index.html', 'w')\n",
    "s = '''<html>\n",
    "<head>\n",
    "</head>\n",
    "<body>\n",
    "<h1>hello world</h1>\n",
    "</body>\n",
    "</html>\n",
    "'''\n",
    "f.write(s)\n",
    "f.close()"
   ]
  },
  {
   "cell_type": "code",
   "execution_count": 57,
   "metadata": {},
   "outputs": [],
   "source": [
    "# 하나의 코드로 합친 것\n",
    "# 데이터를 어디에다 저장해야 할까?\n",
    "# 리스트, 튜플, 딕셔너리, 셋, 별도 클래스\n",
    "# 확정성 고려해서: 리스트 안에 별도 클래스로 저장이 가장 적절함\n",
    "import requests\n",
    "from bs4 import BeautifulSoup\n",
    "\n",
    "url = 'https://www.flaticon.com/free-animated-icon/money-bag_6172509'\n",
    "data = requests.get(url)\n",
    "soup = BeautifulSoup(data.text, 'html.parser')\n",
    "\n",
    "\n",
    "result = []\n",
    "\n",
    "for i, img in enumerate(soup.select('.book_cover')):\n",
    "    d = {\n",
    "        '이름': soup.select('.book_name')[i].text,\n",
    "        '이미지': 'https://paullab.co.kr/bookservice/' + img['src'],\n",
    "        '가격': soup.select('.book_info')[i*3].text\\\n",
    "            .replace('가격: ', '')\\\n",
    "            .replace('원', '')\\\n",
    "            .replace(',', '')\\\n",
    "            .replace('무료', '0')\n",
    "    }\n",
    "    result.append(d)\n",
    "\n",
    "book_info_string = ''\n",
    "\n",
    "for i in result:\n",
    "    book_info_string += f'''\n",
    "    <section>\n",
    "        <img width=\"200px\" src=\"{i['이미지']}\">\n",
    "        <h2>{i['이름']}</h2>\n",
    "        <p>{i['가격']}</p>\n",
    "    </section>\n",
    "    '''\n",
    "\n",
    "f = open('index.html', 'w')\n",
    "s = f'''<html>\n",
    "<head>\n",
    "</head>\n",
    "<body>\n",
    "<h1>위니브 책 출판</h1>\n",
    "{book_info_string}\n",
    "</body>\n",
    "</html>\n",
    "'''\n",
    "f.write(s)\n",
    "f.close()"
   ]
  },
  {
   "cell_type": "code",
   "execution_count": 56,
   "metadata": {},
   "outputs": [],
   "source": [
    "# 개선안\n",
    "# 개선된 코드\n",
    "\n",
    "import requests\n",
    "from bs4 import BeautifulSoup\n",
    "\n",
    "data = requests.get('https://paullab.co.kr/bookservice/')\n",
    "soup = BeautifulSoup(data.text, 'html.parser')\n",
    "\n",
    "class Book:\n",
    "    def __init__(self, name, image, price):\n",
    "        self.name = name\n",
    "        self.image = f'https://paullab.co.kr/bookservice/{image}'\n",
    "        self.price = price\n",
    "\n",
    "    def __str__(self):\n",
    "        return f'<{self.name}, {self.price}>'\n",
    "\n",
    "    def __repr__(self):\n",
    "        return f'<{self.name}, {self.price}>'\n",
    "\n",
    "    def make_html(self):\n",
    "        return f'''\n",
    "        <section>\n",
    "            <img width=\"200px\" src=\"{self.image}\">\n",
    "            <h2>{self.name}</h2>\n",
    "            <p>{self.price}</p>\n",
    "        </section>\n",
    "        '''\n",
    "\n",
    "    def make_json(self):\n",
    "        return {\n",
    "            '이름': self.name,\n",
    "            '이미지': self.image,\n",
    "            '가격': self.price\n",
    "        }\n",
    "\n",
    "result = []\n",
    "\n",
    "for i, img in enumerate(soup.select('.book_cover')):\n",
    "    name = soup.select('.book_name')[i].text\n",
    "    img = img['src']\n",
    "    price = soup.select('.book_info')[i*3].text\\\n",
    "            .replace('가격: ', '')\\\n",
    "            .replace('원', '')\\\n",
    "            .replace(',', '')\\\n",
    "            .replace('무료', '0')\n",
    "    result.append(Book(name, img, price))\n",
    "\n",
    "book_info_string = ''\n",
    "\n",
    "for i in result:\n",
    "    book_info_string += i.make_html()\n",
    "\n",
    "with open('index.html', 'w', encoding='utf-8') as f:\n",
    "    f.write(book_info_string)"
   ]
  },
  {
   "cell_type": "code",
   "execution_count": 63,
   "metadata": {},
   "outputs": [
    {
     "name": "stdout",
     "output_type": "stream",
     "text": [
      "Job 1 started\n",
      "Job 1 completed\n",
      "Job 2 started\n",
      "Job 2 completed\n",
      "Job 3 started\n",
      "Job 3 completed\n"
     ]
    }
   ],
   "source": [
    "import time\n",
    " \n",
    "def job(number):\n",
    "    print(f\"Job {number} started\")\n",
    "    time.sleep(3)  # 이 time.sleep이 매우 오래 걸리는 작업 이라 가정하고 그 효율을 생각해봅시다. 일반 sleep은 CPU를 쉬게 합니다.\n",
    "    print(f\"Job {number} completed\")\n",
    " \n",
    "job(1)\n",
    "job(2)\n",
    "job(3)"
   ]
  },
  {
   "cell_type": "code",
   "execution_count": null,
   "metadata": {},
   "outputs": [],
   "source": [
    "import nest_asyncio\n",
    "nest_asyncio.apply()\n",
    "import asyncio\n",
    " \n",
    "async def job(number):\n",
    "    print(f\"Job {number} started\")\n",
    "    await asyncio.sleep(1) # 매우 오래 걸리는 작업, asyncio.sleep은 비동기 처리를 할 수 있도록 합니다.(다른 작업이 가능합니다.)\n",
    "    print(f\"Job {number} completed\")\n",
    " \n",
    "async def main():\n",
    "    await asyncio.gather(job(1), job(2), job(3)) # await asyncio.wait([job(1), job(2), job(3)])\n",
    " \n",
    "asyncio.run(main())\n",
    "print('hello world')"
   ]
  },
  {
   "cell_type": "code",
   "execution_count": null,
   "metadata": {},
   "outputs": [],
   "source": [
    "import asyncio\n",
    "import random\n",
    "\n",
    "async def generate_number():\n",
    "    return ''.join(random.sample('123456789', 3))\n",
    "\n",
    "async def get_user_guess():\n",
    "    return await asyncio.to_thread(input, \"3자리 숫자를 입력하세요: \")\n",
    "\n",
    "async def check_guess(secret, guess):\n",
    "    strikes = 0\n",
    "    balls = 0\n",
    "    for i in range(3):\n",
    "        if guess[i] == secret[i]:\n",
    "            strikes += 1\n",
    "        elif guess[i] in secret:\n",
    "            balls += 1\n",
    "    return strikes, balls\n",
    "\n",
    "async def game_round(secret):\n",
    "    guess = await get_user_guess()\n",
    "    strikes, balls = await check_guess(secret, guess)\n",
    "    print(f\"{strikes} 스트라이크, {balls} 볼\")\n",
    "    return strikes == 3\n",
    "\n",
    "async def main():\n",
    "    print(\"숫자 야구 게임을 시작합니다!\")\n",
    "    secret = await generate_number()\n",
    "    rounds = 0\n",
    "    while True:\n",
    "        rounds += 1\n",
    "        is_correct = await game_round(secret)\n",
    "        if is_correct:\n",
    "            print(f\"정답입니다! {rounds}번 만에 맞추셨습니다.\")\n",
    "            break\n",
    "\n",
    "    play_again = await asyncio.to_thread(input, \"다시 플레이하시겠습니까? (y/n): \")\n",
    "    if play_again.lower() == 'y':\n",
    "        await main()\n",
    "    else:\n",
    "        print(\"게임을 종료합니다. 감사합니다!\")\n",
    "\n",
    "if __name__ == \"__main__\":\n",
    "    asyncio.run(main())"
   ]
  },
  {
   "cell_type": "markdown",
   "metadata": {},
   "source": [
    "### 정규표현식\n",
    "1. 시작 ^010-[0-9]{4}-[0-9]{4}$ 끝\n",
    "2. 범위 중간 부 무식 모든 h...o 구조 잡힘\n",
    "3. [^] 아닌것 의미함 h[^ao]llo"
   ]
  },
  {
   "cell_type": "code",
   "execution_count": 16,
   "metadata": {},
   "outputs": [
    {
     "name": "stdout",
     "output_type": "stream",
     "text": [
      "109r1e338918v2v11v9\n"
     ]
    }
   ],
   "source": [
    "import re\n",
    "\n",
    "list(s)\n",
    "s2 = re.sub(r'[a-zA-Z]', lambda m: m.group() if m.group() in 'rev' else '', s)\n",
    "print(s2)\n",
    "s3 = ''.join(filter(lambda x: x in 'rev' or not x.isalpha(), s))\n",
    "for match in re.finditer(pattern, s):\n",
    "        num = int(match.group(1))\n",
    "        if 1 <= num < 10:\n",
    "            total += num\n",
    "    \n",
    "    return total"
   ]
  },
  {
   "cell_type": "code",
   "execution_count": 66,
   "metadata": {},
   "outputs": [
    {
     "name": "stdout",
     "output_type": "stream",
     "text": [
      "1월 4일\n"
     ]
    }
   ],
   "source": [
    "data = 'a10b9r01ce33uab8wc918v2cv11v9'\n",
    "import re\n",
    "def solution(data):\n",
    "    pattern = r'[rev](\\d+)'\n",
    "    total = 0\n",
    "    for i in re.finditer(pattern, data):\n",
    "        num = int(i.group(1))\n",
    "        if  num <= 10:\n",
    "            total += num\n",
    "    s2 = list(str(total))\n",
    "    return f'{s2[0]}월 {s2[1]}일'\n",
    "\n",
    "print(solution(data))"
   ]
  },
  {
   "cell_type": "code",
   "execution_count": 106,
   "metadata": {},
   "outputs": [
    {
     "name": "stdout",
     "output_type": "stream",
     "text": [
      "2월 4일\n"
     ]
    }
   ],
   "source": [
    "import re\n",
    "\n",
    "def solution(data):\n",
    "    pattern = r'[rev](\\d+)'\n",
    "    total = 0\n",
    "    for match in re.finditer(pattern, data):\n",
    "        num = int(match.group(1))\n",
    "        if 1 <= num <= 10:\n",
    "            total += num\n",
    "        else:\n",
    "            total += int(str(num)[0])\n",
    "    s2 = str(total)\n",
    "    return f'{s2[0]}월 {s2[1]}일'\n",
    "\n",
    "data = 'a10b9r01ce33uab8wc1018v10cv111v9'\n",
    "result = solution(data)\n",
    "print(f\"{result}\")"
   ]
  },
  {
   "cell_type": "code",
   "execution_count": 108,
   "metadata": {},
   "outputs": [],
   "source": [
    "def solution(data):\n",
    "    import re\n",
    "    pattern = r'[rev](\\d+)'\n",
    "    total = 0\n",
    "    for i in re.finditer(pattern, data):\n",
    "        num = int(i.group(1))\n",
    "        if 1 <= num <= 10:\n",
    "            total += num\n",
    "        else:\n",
    "            total += int(str(num)[0])\n",
    "    s2 = str(total)  \n",
    "    return f'{s2[0]}월 {s2[1]}일'"
   ]
  }
 ],
 "metadata": {
  "kernelspec": {
   "display_name": "Python 3",
   "language": "python",
   "name": "python3"
  },
  "language_info": {
   "codemirror_mode": {
    "name": "ipython",
    "version": 3
   },
   "file_extension": ".py",
   "mimetype": "text/x-python",
   "name": "python",
   "nbconvert_exporter": "python",
   "pygments_lexer": "ipython3",
   "version": "3.12.3"
  }
 },
 "nbformat": 4,
 "nbformat_minor": 2
}
