{
 "cells": [
  {
   "cell_type": "markdown",
   "metadata": {},
   "source": [
    "#### flex\n",
    "- [flex-direction 구조](./image/01-1.png)\n",
    "- flex-direction 컨테이너 기본 방향 ->, 기본 block 요소\n",
    "\t1. row 기본값. 왼쪽에서 오른쪽 (주축이 행 방향)\n",
    "\t2. column 위에서 아래 방향 (주축이 열 방향)\n",
    "\t3. row-reverse 오른쪽에서 왼쪽\n",
    "\t4. column-reverse 아래에서 위 방향\n",
    "- justify-content 주축을 기준으로 배열의 위치를 조절하거나 아이템 간의 설정을 할 수 있습니다.\n",
    "- [justify-content 실습](./cssFlex-justify-content.html) \n",
    "\t1. flex-start 주측 시작지점\n",
    "\t2. flex-end 주측 끝난 지점 정열\n",
    "\t3. center 주측 중간 정열\n",
    "\t4. space-between item들 같은 간격으로 정열\n",
    "\t5. space-around item들 같은 간격으로 감싸다\n",
    "\t6. space-evenly item들 모든 여백 같은 간격으로 정열\n",
    "\t- align-items 교차 축을 기준으로 정렬합니다.\n",
    "\t\t1. flex-start \n",
    "\t\t2. flex-end \n",
    "\t- align-content 컨테이너의 교차 축의 아이템들이 여러 줄일때 사용 가능합니다. \n",
    "\n",
    "### 자바스크립트\n",
    "#### script 태그\n",
    "- 자바 변수 선언\n",
    "\t1. var 재할당 가능하다. ( var 키워드가 생략된 변수는 엄격모드(strict mode)에서는 에러가 발생됨으로 권장되지 않습니다.)\n",
    "\t2. let 재할당 불가. (2015년 이후부터 재할당 불가 선언자 사용)\n",
    "\t3. const 상수선언, 값을 지정.\n",
    "\t* let, const 블록-레벨 선언으로 불리며, 선언된 코드 블록 밖에서 접근할 수 없으며 재정의가 불가능한 특징을 가지고 있습니다. 특히 const 의 경우에는 반드시 초기화가 필요합니다.\n"
   ]
  }
 ],
 "metadata": {
  "language_info": {
   "name": "python"
  }
 },
 "nbformat": 4,
 "nbformat_minor": 2
}
