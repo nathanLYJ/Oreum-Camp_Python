{
 "cells": [
  {
   "cell_type": "markdown",
   "metadata": {},
   "source": [
    "### 실습"
   ]
  },
  {
   "cell_type": "markdown",
   "metadata": {},
   "source": [
    "### if문 복습"
   ]
  },
  {
   "cell_type": "code",
   "execution_count": null,
   "metadata": {},
   "outputs": [],
   "source": [
    "# 어떤 상점에서는 상품을 한꺼번에 많이 구매하면 다음과 같이 상품 가격을 할인해준다\n",
    "# 10개 미만: 상품 하나에 100원\n",
    "# 10개 이상 30개 미만: 상품 하나에 95원\n",
    "# 30개 이상 100개 미만: 상품 하나에 90\n",
    "# 100개 이상; 상품 하나에 85원\n",
    "# 이 쇼핑몰에서 구매할 상품 개수를 입력받아, 춫 지불해야 할 가격을 계산하는 함수 Price() 를 정의 하라.\n",
    "\n",
    "def price(quantity):\n",
    "\tif quantity < 10:\n",
    "\t\treturn 100\n",
    "\telif quantity < 30:\n",
    "\t\treturn 95\n",
    "\telif quantity < 100:\n",
    "\t\treturn 90\n",
    "\telse:\n",
    "\t\treturn 85\n",
    "\n",
    "\n",
    "quantity = int(input('몇개 구입 하실건가요?'))\n",
    "discount = price(quantity)\n",
    "\n",
    "print(f'{quantity}의 총가격은{quantity*discount}입니다')"
   ]
  },
  {
   "cell_type": "markdown",
   "metadata": {},
   "source": [
    "### class 활용"
   ]
  },
  {
   "cell_type": "code",
   "execution_count": null,
   "metadata": {},
   "outputs": [],
   "source": [
    "# TestPriceFunction 클래스는 unittest.TestCase를 상속받아 단위 테스트 기능을 제공 받습니다.\n",
    "import unittest\n",
    "\n",
    "def price(quantity):\n",
    "    if quantity < 10:\n",
    "        return 100\n",
    "    elif quantity < 30:\n",
    "        return 95\n",
    "    elif quantity < 100:\n",
    "        return 90\n",
    "    else:\n",
    "        return 85\n",
    "class TestPriceFunction(unittest.TestCase):\n",
    "    # 1개를 구매할때 100원이 맞는지 확인합니다.\n",
    "    def test_price_1(self):\n",
    "        self.assertEqual(price(1), 100)\n",
    "        self.assertEqual(price(2), 200)\n",
    "        self.assertEqual(price(3), 100)\n",
    "\n",
    "if __name__ == '__main__':\n",
    "    unittest.main(argv=['first-arg-is-ignored'], exit=False)"
   ]
  },
  {
   "cell_type": "markdown",
   "metadata": {},
   "source": [
    "### for 문 range 테스트"
   ]
  },
  {
   "cell_type": "code",
   "execution_count": null,
   "metadata": {},
   "outputs": [],
   "source": [
    "for i in range(1, 11, 2) : \n",
    "    print(f'{i}-1')"
   ]
  },
  {
   "cell_type": "markdown",
   "metadata": {},
   "source": [
    "### for 문 홀수 출력"
   ]
  },
  {
   "cell_type": "code",
   "execution_count": null,
   "metadata": {},
   "outputs": [],
   "source": [
    "for i in (1,2,3,4,5,6,7,8,9):\n",
    "\tif i % 2 == 0:\n",
    "\t\tprint(i)"
   ]
  },
  {
   "cell_type": "markdown",
   "metadata": {},
   "source": [
    "### 출력 시간 계산 프로그램"
   ]
  },
  {
   "cell_type": "code",
   "execution_count": null,
   "metadata": {},
   "outputs": [],
   "source": [
    "from time import process_time\n",
    "\n",
    "start = process_time()\n",
    "\n",
    "for i in [1,3,5,7,9]:\n",
    "    print(f\"홀수를 출력합니다. {i}\")\n",
    "\n",
    "end = process_time()\n",
    "print(f\"프로그램이 실행되는데 {end-start:.20f} 초가 걸렸습니다.\")"
   ]
  },
  {
   "cell_type": "markdown",
   "metadata": {},
   "source": [
    "### for 문 문자열"
   ]
  },
  {
   "cell_type": "code",
   "execution_count": null,
   "metadata": {},
   "outputs": [],
   "source": [
    "s = '123'\n",
    "result = 0\n",
    "for i in s:\n",
    "    result += int(i)\n",
    "    print(i)\n",
    "    print('----------')\n",
    "print(result)"
   ]
  },
  {
   "cell_type": "code",
   "execution_count": null,
   "metadata": {},
   "outputs": [],
   "source": [
    "s = '010-1000?2000' \n",
    "result = ''\n",
    "for i in s:\n",
    "    if i.isdigit():\n",
    "        result += i\n",
    "print(result)"
   ]
  },
  {
   "cell_type": "markdown",
   "metadata": {},
   "source": [
    "### for 문 리스트"
   ]
  },
  {
   "cell_type": "code",
   "execution_count": null,
   "metadata": {},
   "outputs": [],
   "source": [
    "l = ['one', 'two', 'three']\n",
    "for i in l:\n",
    "    print(i)"
   ]
  },
  {
   "cell_type": "code",
   "execution_count": null,
   "metadata": {},
   "outputs": [],
   "source": [
    "for i in [[1, 2], [10, 20], [100, 200]]:\n",
    "    print(i)\n",
    "    print(i[0] + i[1])"
   ]
  },
  {
   "cell_type": "code",
   "execution_count": null,
   "metadata": {},
   "outputs": [],
   "source": [
    "for i, j in [[1, 2], [10, 20], [100, 200]]:\n",
    "    print(i)\n",
    "    print(j)\n",
    "    print(i, j)"
   ]
  },
  {
   "cell_type": "code",
   "execution_count": null,
   "metadata": {},
   "outputs": [],
   "source": [
    "program1 = ['python','pandas','numpy']\n",
    "program2 = [['python',1] , ['pandas',2] , ['numpy',3]]\n",
    "\n",
    "for i in program1:\n",
    "\tprint(f'프로그램은{i}입니다.')\n",
    "\n",
    "for i,j in program2:\n",
    "\tprint(f'프로그램은 {i} 입니다. 순위는 {j}위 입니다.')"
   ]
  },
  {
   "cell_type": "markdown",
   "metadata": {},
   "source": [
    "### for문 dict"
   ]
  },
  {
   "cell_type": "code",
   "execution_count": null,
   "metadata": {},
   "outputs": [],
   "source": [
    "단어_사전 = {\n",
    "    '하나' : 'one',\n",
    "    '둘' : 'two',\n",
    "    '셋' : 'three',\n",
    "}\n",
    "# 방법 1\n",
    "for key, value in 단어_사전.items():\n",
    "    print(f'{key} : {value}')\n",
    "# 방법 2\n",
    "for i in 단어_사전:\n",
    "    print(i, ':', 단어_사전[i])"
   ]
  },
  {
   "cell_type": "markdown",
   "metadata": {},
   "source": [
    "### for문 range"
   ]
  },
  {
   "cell_type": "code",
   "execution_count": null,
   "metadata": {},
   "outputs": [],
   "source": [
    "fruits = [\"apple\", \"banana\", \"cherry\"]\n",
    "for i in range(len(fruits)):\n",
    "    print(f\"{i}: {fruits[i]}\")"
   ]
  },
  {
   "cell_type": "code",
   "execution_count": null,
   "metadata": {},
   "outputs": [],
   "source": [
    "result = 0\n",
    "for i in range(0, 11, 2):\n",
    "    result += i\n",
    "    print(i)\n",
    "print(result)"
   ]
  },
  {
   "cell_type": "code",
   "execution_count": null,
   "metadata": {},
   "outputs": [],
   "source": [
    "from time import process_time\n",
    "start = process_time()\n",
    "result = 0\n",
    "for i in range(10000):\n",
    "    if i % 2 == 0:\n",
    "        result += i\n",
    "print(result)\n",
    "end = process_time()\n",
    "print(f\"{end-start:.20f}\")"
   ]
  },
  {
   "cell_type": "code",
   "execution_count": null,
   "metadata": {},
   "outputs": [],
   "source": [
    "# 구구단 만들기\n",
    "for i in range(2, 10): # 1\n",
    "    print(f'---{i}단---')\n",
    "    for j in range(1, 10): # 2\n",
    "        print(f'{i} X {j} = {i * j}')"
   ]
  },
  {
   "cell_type": "markdown",
   "metadata": {},
   "source": [
    "### 리스트컴프리헨션"
   ]
  },
  {
   "cell_type": "code",
   "execution_count": null,
   "metadata": {},
   "outputs": [],
   "source": [
    "x = []\n",
    "for i in range(1, 10):\n",
    "  x.append(i)\n",
    "print(x)"
   ]
  },
  {
   "cell_type": "code",
   "execution_count": null,
   "metadata": {},
   "outputs": [],
   "source": [
    "# step1 list안에 for문을 가져옵니다.\n",
    "# [for i in range(1, 10)]\n",
    "# step2 append 항목을 맨 앞으로 가져옵니다.\n",
    "a = [i for i in range(1, 10)] # 출력: [1, 2, 3, 4, 5, 6, 7, 8, 9]\n",
    "print(a)\n",
    "b = [i*2 for i in range(1, 10)] # 출력: [1, 2, 3, 4, 5, 6, 7, 8, 9]\n",
    "print(b)"
   ]
  },
  {
   "cell_type": "code",
   "execution_count": null,
   "metadata": {},
   "outputs": [],
   "source": [
    "l = [i for i in range(1, 100) if i % 3 == 0 or i % 5 == 0]\n",
    "print(l)"
   ]
  },
  {
   "cell_type": "code",
   "execution_count": null,
   "metadata": {},
   "outputs": [],
   "source": [
    "nums = [1, 2, 3, 4, 5]\n",
    "result = [f'{x}는 3보다 큰 짝수' if x % 2 == 0 else f'{x}는 3보다 큰 홀수' for x in nums if x > 3]\n",
    "print(result) # 출력: ['4는 3보다 큰 짝수', '5는 3보다 큰 홀수']"
   ]
  },
  {
   "cell_type": "markdown",
   "metadata": {},
   "source": [
    "### 실습"
   ]
  },
  {
   "cell_type": "code",
   "execution_count": 102,
   "metadata": {},
   "outputs": [
    {
     "name": "stdout",
     "output_type": "stream",
     "text": [
      "15\n"
     ]
    }
   ],
   "source": [
    "def my_sum(numbers):\n",
    "\ttotal = 0\n",
    "\tfor number in numbers:\n",
    "\t\ttotal += number\n",
    "\treturn total\n",
    "\t\n",
    "print(my_sum([1,2,3,4,5]))"
   ]
  },
  {
   "cell_type": "code",
   "execution_count": null,
   "metadata": {},
   "outputs": [],
   "source": [
    "def my_sum(numbers):\n",
    "\treturn sum([i for i in numbers])\n",
    "print(my_sum([1,2,3,4,5]))"
   ]
  },
  {
   "cell_type": "code",
   "execution_count": null,
   "metadata": {},
   "outputs": [],
   "source": [
    "def my_sum(numbers):\n",
    "\treturn sum([i for i in numbers if i%2 == 1])\n",
    "print(my_sum([1,2,3,4,5]))"
   ]
  },
  {
   "cell_type": "code",
   "execution_count": 112,
   "metadata": {},
   "outputs": [],
   "source": [
    "# 일반적인 사용 방법 \n",
    "c_list = []\n",
    "for i in range(2, 10): # 1\n",
    "    for j in range(1, 10): # 2\n",
    "        c_list.append(f'{i} × {j} = {i*j}') # 3"
   ]
  },
  {
   "cell_type": "code",
   "execution_count": null,
   "metadata": {},
   "outputs": [],
   "source": [
    "[f\"{i}×{j}={i*j}\" for i in range(2, 10) for j in range(1, 10)]"
   ]
  },
  {
   "cell_type": "markdown",
   "metadata": {},
   "source": [
    "### 딕셔너리 컴프리헨션"
   ]
  },
  {
   "cell_type": "code",
   "execution_count": 113,
   "metadata": {},
   "outputs": [],
   "source": [
    "# 전통적인 방법\n",
    "d = {}\n",
    "for i in range(5):\n",
    "    d[i] = i**2"
   ]
  },
  {
   "cell_type": "code",
   "execution_count": null,
   "metadata": {},
   "outputs": [],
   "source": [
    "{for i in range(5)}"
   ]
  },
  {
   "cell_type": "code",
   "execution_count": null,
   "metadata": {},
   "outputs": [],
   "source": [
    "even_squares = {x: x**2 for x in range(10) if x % 2 == 0}\n",
    "even_squares"
   ]
  },
  {
   "cell_type": "code",
   "execution_count": null,
   "metadata": {},
   "outputs": [],
   "source": [
    "original_list = ['abc', 'def', 'ghi']\n",
    "packed_list = []\n",
    "\n",
    "for i, j, k in original_list:\n",
    "    print(i, j, k)\n",
    "    packed_list.extend([i, j, k])\n",
    "\n",
    "print(packed_list)"
   ]
  },
  {
   "cell_type": "code",
   "execution_count": null,
   "metadata": {},
   "outputs": [],
   "source": [
    "original_list = ['abc', 'def', 'ghi']\n",
    "\n",
    "# 원래 리스트의 내용을 출력\n",
    "print(\"Original list:\", original_list)\n",
    "\n",
    "# 리스트 컴프리헨션을 사용하여 문자들을 풀어서 새 리스트 만들기\n",
    "original_list = [char for word in original_list for char in word]\n",
    "\n",
    "# 수정된 리스트 출력\n",
    "print(\"Modified list:\", original_list)"
   ]
  },
  {
   "cell_type": "code",
   "execution_count": null,
   "metadata": {},
   "outputs": [],
   "source": [
    "영화누적관객수 = ['레미제라블', '뷰티인사이트', '매트릭스', '인셉션', '어거스트 러쉬']\n",
    "for i in enumerate(영화누적관객수):\n",
    "    print(i)\n",
    "\n",
    "\n",
    "for i, j in enumerate(영화누적관객수, 1):\n",
    "    print(f'누적관객수 {i}위! {j}!')"
   ]
  },
  {
   "cell_type": "code",
   "execution_count": null,
   "metadata": {},
   "outputs": [],
   "source": [
    "for a in range (8):\n",
    "\ta *= 1\n",
    "print(a)"
   ]
  },
  {
   "cell_type": "code",
   "execution_count": 125,
   "metadata": {},
   "outputs": [
    {
     "name": "stdout",
     "output_type": "stream",
     "text": [
      "6\n"
     ]
    }
   ],
   "source": [
    "list_data_a = [1,2]\n",
    "list_data_b = [3,4]\n",
    "\n",
    "for i in list_data_a:\n",
    "\tfor j in list_data_b:\n",
    "\t\tresult = i + j\n",
    "\n",
    "print(result)"
   ]
  },
  {
   "cell_type": "markdown",
   "metadata": {},
   "source": [
    "### while 문"
   ]
  },
  {
   "cell_type": "code",
   "execution_count": null,
   "metadata": {},
   "outputs": [],
   "source": [
    "a = 1\n",
    "while a < 10:\n",
    "\tprint(a)\n",
    "\ta += 1\n"
   ]
  },
  {
   "cell_type": "code",
   "execution_count": null,
   "metadata": {},
   "outputs": [],
   "source": [
    "list_1 = [1,2,3,4,5,6,7,8,9]\n",
    "\n",
    "while len(list_1) > 1:\n",
    "\tprint(list_1.pop())\n",
    "print(list_1)"
   ]
  },
  {
   "cell_type": "markdown",
   "metadata": {},
   "source": [
    "### 로또 번호 추출기"
   ]
  },
  {
   "cell_type": "code",
   "execution_count": 137,
   "metadata": {},
   "outputs": [
    {
     "name": "stdout",
     "output_type": "stream",
     "text": [
      "[44, 35, 27, 5, 34, 29]\n"
     ]
    }
   ],
   "source": [
    "import random\n",
    "\n",
    "list_Lotto = []\n",
    "\n",
    "while len(list_Lotto) < 6:\n",
    "\tLotto_number = random.choice(range(1,46))\n",
    "\tif Lotto_number not in list_Lotto:\n",
    "\t\tlist_Lotto.append(Lotto_number)\n",
    "print(list_Lotto)\n"
   ]
  },
  {
   "cell_type": "markdown",
   "metadata": {},
   "source": [
    "### 야구 게임"
   ]
  },
  {
   "cell_type": "code",
   "execution_count": null,
   "metadata": {},
   "outputs": [],
   "source": [
    "import random\n",
    "\n",
    "anwer = random.sample(range(1,10),3)\n",
    "print(anwer)\n",
    "\n",
    "user = input('야구게임 시작 숫자 3개 입력하세요')\n",
    "\n",
    "for i in user[i] == anwer[i] :\n",
    "\tprint('{i}스트라이크')\n",
    "\n"
   ]
  },
  {
   "cell_type": "code",
   "execution_count": null,
   "metadata": {},
   "outputs": [],
   "source": [
    "import random\n",
    " \n",
    "answer = random.randint(1, 100)\n",
    "while True:\n",
    "    userinput = int(input('숫자를 입력해주세요.'))\n",
    "    if userinput > answer:\n",
    "        print('Down')\n",
    " \n",
    "    elif userinput < answer:\n",
    "        print('Up')\n",
    "    else:\n",
    "        print(f'축하합니다! {answer}맞추셨어요!')\n",
    "        break"
   ]
  },
  {
   "cell_type": "code",
   "execution_count": null,
   "metadata": {},
   "outputs": [],
   "source": [
    "x = 0\n",
    "while x < 10:\n",
    "\tprint(x)\n",
    "\tif x == 5:\n",
    "\t\tbreak\n",
    "\tx += 1"
   ]
  },
  {
   "cell_type": "markdown",
   "metadata": {},
   "source": [
    "###  break, continue, pass 비교"
   ]
  },
  {
   "cell_type": "code",
   "execution_count": null,
   "metadata": {},
   "outputs": [],
   "source": [
    "x = 0\n",
    "while x < 5:\n",
    "    x += 1\n",
    "    if x == 3:\n",
    "        continue # pass와 continue는 다름\n",
    "    print(x)"
   ]
  },
  {
   "cell_type": "code",
   "execution_count": null,
   "metadata": {},
   "outputs": [],
   "source": [
    "x = 0\n",
    "while x < 5:\n",
    "    x += 1\n",
    "    if x == 3:\n",
    "        pass # pass와 continue는 다름\n",
    "    print(x)"
   ]
  },
  {
   "cell_type": "code",
   "execution_count": null,
   "metadata": {},
   "outputs": [],
   "source": [
    "\n",
    "for i in range(4):\n",
    "    print(f'{i} 물고기를 잡았습니다.')\n",
    "    if i == 5:\n",
    "        print('만선입니다. 물고기를 다 잡았습니다.')\n",
    "        break\n",
    "else:\n",
    "    print('아직 여유가 좀 있지만, 물고기가 더 없는 것 같으니 이정도로 만족하고 돌아갑시다.')\n",
    "\n",
    "print('수고하셨습니다.')"
   ]
  },
  {
   "cell_type": "code",
   "execution_count": null,
   "metadata": {},
   "outputs": [],
   "source": [
    "n = 0\n",
    "while n < 5:\n",
    "    print(f'현재 숫자는 {n}입니다.')\n",
    "    n += 1\n",
    "else:\n",
    "    print('반복문을 종료합니다.')"
   ]
  }
 ],
 "metadata": {
  "kernelspec": {
   "display_name": "Python 3",
   "language": "python",
   "name": "python3"
  },
  "language_info": {
   "codemirror_mode": {
    "name": "ipython",
    "version": 3
   },
   "file_extension": ".py",
   "mimetype": "text/x-python",
   "name": "python",
   "nbconvert_exporter": "python",
   "pygments_lexer": "ipython3",
   "version": "3.12.3"
  }
 },
 "nbformat": 4,
 "nbformat_minor": 2
}
