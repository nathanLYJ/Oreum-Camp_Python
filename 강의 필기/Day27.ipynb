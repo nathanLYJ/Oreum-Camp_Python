{
 "cells": [
  {
   "cell_type": "markdown",
   "metadata": {},
   "source": [
    "# Day-27 강의 필기\n",
    "\n",
    "## 오늘 뉴스\n",
    " 1. AI-POT(AI프롬프트활용능력) \n",
    " 2. (7/27) 파이 웹 세미나\n",
    " 3. ChatGPT 4 mini 출시\n",
    "\n",
    "## 머신러닝\n",
    "* 데이터 안에서 패턴을 찾아내어 학습하고 결과를 예측하는 분석 방법이 머신런닝이다.\n",
    " 1. 지도학습(supervised learning)\n",
    " 2. 비지도학습(Unsupervised learning)\n",
    " 3. 강화학습(reinforcement learning)\n",
    "\n",
    "## 머신러닝의 기본 개념\n",
    "* 컴퓨터가 명시적으로 프로그래밍되지 않고도 학습하고 예측할 수 있도록 하는 인공지능(AI)의 한 분야입니다\n",
    "* 머신러닝 용어\n",
    "  * 데이터셋: 모델을 학습시키기 위해 사용하는 데이터의 모음입니다.\n",
    "  * 모델: 데이터를 학습하여 예측을 수행하는 알고리즘입니다.\n",
    "  * 훈련: 모델이 데이터셋을 사용하여 학습하는 과정입니다. \n",
    "  * 예측: 학습된 모델을 사용하여 새로운 데이터를 기반으로 결과를 예측하는 과정입니다.\n",
    "  * 정확도: 모델의 예측 성능을 평가하는 지표 중 하나입니다.\n",
    "  * 오차(Error): 모델의 예측이 실제 값과 얼마나 차이가 나는지를 나타내는 지표입니다. \n",
    "\n",
    "## 지도 학습\n",
    "* 정의: 지도 학습은 입력 데이터와 이에 대응하는 정답(레이블)을 사용하여 모델을 학습시키는 방법입니다.\n",
    "\n",
    "![지도 학습 알고리즘](../image/비지도_학습.png)"
   ]
  },
  {
   "cell_type": "code",
   "execution_count": 14,
   "metadata": {},
   "outputs": [
    {
     "ename": "ModuleNotFoundError",
     "evalue": "No module named 'tensorflow'",
     "output_type": "error",
     "traceback": [
      "\u001b[1;31m---------------------------------------------------------------------------\u001b[0m",
      "\u001b[1;31mModuleNotFoundError\u001b[0m                       Traceback (most recent call last)",
      "Cell \u001b[1;32mIn[14], line 2\u001b[0m\n\u001b[0;32m      1\u001b[0m \u001b[38;5;66;03m# 데이터 로딩 방법\u001b[39;00m\n\u001b[1;32m----> 2\u001b[0m \u001b[38;5;28;01mimport\u001b[39;00m \u001b[38;5;21;01mtensorflow\u001b[39;00m \u001b[38;5;28;01mas\u001b[39;00m \u001b[38;5;21;01mtf\u001b[39;00m\n\u001b[0;32m      4\u001b[0m mnist \u001b[38;5;241m=\u001b[39m tf\u001b[38;5;241m.\u001b[39mkeras\u001b[38;5;241m.\u001b[39mdatasets\u001b[38;5;241m.\u001b[39mmnist\n",
      "\u001b[1;31mModuleNotFoundError\u001b[0m: No module named 'tensorflow'"
     ]
    }
   ],
   "source": [
    "# 데이터 로딩 방법\n",
    "import tensorflow as tf\n",
    "\n",
    "mnist = tf.keras.datasets.mnist"
   ]
  }
 ],
 "metadata": {
  "kernelspec": {
   "display_name": "Python 3",
   "language": "python",
   "name": "python3"
  },
  "language_info": {
   "codemirror_mode": {
    "name": "ipython",
    "version": 3
   },
   "file_extension": ".py",
   "mimetype": "text/x-python",
   "name": "python",
   "nbconvert_exporter": "python",
   "pygments_lexer": "ipython3",
   "version": "3.12.3"
  }
 },
 "nbformat": 4,
 "nbformat_minor": 2
}
