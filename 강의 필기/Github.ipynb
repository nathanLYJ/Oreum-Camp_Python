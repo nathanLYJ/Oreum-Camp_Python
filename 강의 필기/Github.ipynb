{
 "cells": [
  {
   "cell_type": "markdown",
   "metadata": {},
   "source": [
    "### GitHub 명령어\n",
    "1. git pull - 데이터를 원격저장소에서 내PC로 내려받기\n",
    "2. git add . - 새로작성한 데이터들, 수정 하고싶은 데이터 1개의 버전으로 묶은 것\n",
    "3. git commit -m'hello' - 그 버전에 설명, 기타 버전와 분별 가능하게\n",
    "4. git push - 데이터를 원격 저장소에 올려놓기\n",
    "5. git init - 수정 내용 저장 폴더 생성, 원격 저장소에 push 할때 필요\n",
    "6. git log - commit 내용 확인 - 'q' log화면 나가기\n",
    "### git bash 명령어\n",
    "1. clear 터미널 기록 삭제\n",
    "2. touch xx.xx 파일 생성\n",
    "3. mkdir xxx 폴더 만들기\n",
    "4. cd xxx 폴더 이동 -> cd .. 폴더 나가기\n",
    "5. rmdir xxx 폴더 삭제\n",
    "6. rm 복구안되는 삭제...\n",
    "7. vi 터미널에서 파일 생성\n",
    "\n",
    "### GitHub 페이지\n",
    "1. Collaborators - 공동 작업 파트터 추가"
   ]
  },
  {
   "cell_type": "markdown",
   "metadata": {},
   "source": [
    "물론이죠. 여기 주어진 정보를 마크다운 표로 정리했습니다:\n",
    "\n",
    "| 아이콘 | 코드 | 설명 | 원문 |\n",
    "|:---:|:---:|:---|:---|\n",
    "| 🎨 | :art: | 코드의 구조/형태 개선 | Improve structure / format of the code. |\n",
    "| ⚡️ | :zap: | 성능 개선 | Improve performance. |\n",
    "| 🔥 | :fire: | 코드/파일 삭제 | Remove code or files. |\n",
    "| 🐛 | :bug: | 버그 수정 | Fix a bug. |\n",
    "| 🚑 | :ambulance: | 긴급 수정 | Critical hotfix. |\n",
    "| ✨ | :sparkles: | 새 기능 | Introduce new features. |\n",
    "| 📝 | :memo: | 문서 추가/수정 | Add or update documentation. |\n",
    "| 💄 | :lipstick: | UI/스타일 파일 추가/수정 | Add or update the UI and style files. |\n",
    "| 🎉 | :tada: | 프로젝트 시작 | Begin a project. |\n",
    "| ✅ | :white_check_mark: | 테스트 추가/수정 | Add or update tests. |\n",
    "| 🔒 | :lock: | 보안 이슈 수정 | Fix security issues. |\n",
    "| 🔖 | :bookmark: | 릴리즈/버전 태그 | Release / Version tags. |\n",
    "| 💚 | :green_heart: | CI 빌드 수정 | Fix CI Build. |\n",
    "| 📌 | :pushpin: | 특정 버전 의존성 고정 | Pin dependencies to specific versions. |\n",
    "| 👷 | :construction_worker: | CI 빌드 시스템 추가/수정 | Add or update CI build system. |\n",
    "| 📈 | :chart_with_upwards_trend: | 분석, 추적 코드 추가/수정 | Add or update analytics or track code. |\n",
    "| ♻️ | :recycle: | 코드 리팩토링 | Refactor code. |\n",
    "| ➕ | :heavy_plus_sign: | 의존성 추가 | Add a dependency. |\n",
    "| ➖ | :heavy_minus_sign: | 의존성 제거 | Remove a dependency. |\n",
    "| 🔧 | :wrench: | 구성 파일 추가/삭제 | Add or update configuration files. |\n",
    "| 🔨 | :hammer: | 개발 스크립트 추가/수정 | Add or update development scripts. |\n",
    "| 🌐 | :globe_with_meridians: | 국제화/현지화 | Internationalization and localization. |\n",
    "| 💩 | :poop: | 똥싼 코드 | Write bad code that needs to be improved. |\n",
    "| ⏪ | :rewind: | 변경 내용 되돌리기 | Revert changes. |\n",
    "| 🔀 | :twisted_rightwards_arrows: | 브랜치 합병 | Merge branches. |\n",
    "| 📦 | :package: | 컴파일된 파일 추가/수정 | Add or update compiled files or packages. |\n",
    "| 👽 | :alien: | 외부 API 변화로 인한 수정 | Update code due to external API changes. |\n",
    "| 🚚 | :truck: | 리소스 이동, 이름 변경 | Move or rename resources (e.g.: files paths routes). |\n",
    "| 📄 | :page_facing_up: | 라이센스 추가/수정 | Add or update license. |\n",
    "| 💡 | :bulb: | 주석 추가/수정 | Add or update comments in source code. |\n",
    "| 🍻 | :beers: | 술 취해서 쓴 코드 | Write code drunkenly. |\n",
    "| 🗃 | :card_file_box: | 데이버베이스 관련 수정 | Perform database related changes. |\n",
    "| 🔊 | :loud_sound: | 로그 추가/수정 | Add or update logs. |\n",
    "| 🙈 | :see_no_evil: | .gitignore 추가/수정 | Add or update a .gitignore file. |\n",
    "\n",
    "이 표는 주어진 정보를 깔끔하게 정리했습니다. 각 행은 아이콘, 코드, 한국어 설명, 그리고 영어 원문을 포함하고 있습니다. 이 형식은 마크다운을 지원하는 대부분의 플랫폼에서 잘 표시될 것입니다."
   ]
  }
 ],
 "metadata": {
  "language_info": {
   "name": "python"
  }
 },
 "nbformat": 4,
 "nbformat_minor": 2
}
