{
 "cells": [
  {
   "cell_type": "code",
   "execution_count": null,
   "metadata": {},
   "outputs": [],
   "source": [
    "# 다음중 텍스트에서 숫자만 골라 모두 더하라\n",
    "# 'h1e2l3lo11wo2r3l9d'\n",
    "\n",
    "s = 'h1e2l3lo11wo2r3l9d'\n",
    "sum(map(int, filter(lambda x: x.isdigit(), 'h1e2l3lo11wo2r3l9d')))\n",
    "\n",
    "# type(s) == 'str'\n",
    "# isinstance(s, str)"
   ]
  },
  {
   "cell_type": "markdown",
   "metadata": {},
   "source": [
    "### args,kwargs"
   ]
  },
  {
   "cell_type": "code",
   "execution_count": 2,
   "metadata": {},
   "outputs": [
    {
     "name": "stdout",
     "output_type": "stream",
     "text": [
      "(100, True, 'Licat')\n"
     ]
    }
   ],
   "source": [
    "def print_args(*args):\n",
    "    print(args) # 출력: (100, True, 'Licat')\n",
    "\n",
    "print_args(100, True, 'Licat')"
   ]
  },
  {
   "cell_type": "code",
   "execution_count": null,
   "metadata": {},
   "outputs": [],
   "source": [
    "# 파선아실\n",
    "def f(a, b, *args):\n",
    "    print(a, b)\n",
    "    print(args)\n",
    "\n",
    "f(1, 2, 3, 'abc', 'def')"
   ]
  },
  {
   "cell_type": "code",
   "execution_count": null,
   "metadata": {},
   "outputs": [],
   "source": [
    "# 파라미터로 들어갔을 때에는 패킹을 했고\n",
    "# 아규먼트로 들어갔을 때에는 언패킹을 했습니다.\n",
    "# 언패킹\n",
    "def func(a, b, c):\n",
    "    print(a, b, c)\n",
    "\n",
    "args = (10, 20, 30)\n",
    "func(*args)\n",
    "# (10, 20, 30) => *args => 10, 20, 30"
   ]
  },
  {
   "cell_type": "code",
   "execution_count": null,
   "metadata": {},
   "outputs": [],
   "source": [
    "a, b, c = range(3)\n",
    "a"
   ]
  },
  {
   "cell_type": "code",
   "execution_count": null,
   "metadata": {},
   "outputs": [],
   "source": [
    "def f(a, **kwargs):\n",
    "    print(a)\n",
    "    print(kwargs)\n",
    "\n",
    "f(100, name='Licat', age='10')"
   ]
  },
  {
   "cell_type": "code",
   "execution_count": null,
   "metadata": {},
   "outputs": [],
   "source": [
    "data = [\n",
    "    {\n",
    "        'name': 'Licat',\n",
    "        'age': 3\n",
    "    },\n",
    "    {\n",
    "        'name': 'John',\n",
    "        'age': 7\n",
    "    },\n",
    "    {\n",
    "        'name': 'Jane',\n",
    "        'age': 4\n",
    "    }\n",
    "]\n",
    "sorted(data, key=lambda x: x['age'], reverse=True)\n",
    "sorted(data, reverse=True, key=lambda x: x['age'])"
   ]
  },
  {
   "cell_type": "code",
   "execution_count": null,
   "metadata": {},
   "outputs": [],
   "source": [
    "def f(*args, **kwargs):\n",
    "    print(args)\n",
    "    print(kwargs)\n",
    "\n",
    "f(100, name='Licat', age='10')\n",
    "f(100, 200, name='Licat', age='10')\n",
    "# f(100, name='Licat', 200, age='10') #error"
   ]
  },
  {
   "cell_type": "code",
   "execution_count": null,
   "metadata": {},
   "outputs": [],
   "source": [
    "one, two, *three = 1, 2, 3, 4, 5\n",
    "print(one, two, three)"
   ]
  },
  {
   "cell_type": "code",
   "execution_count": null,
   "metadata": {},
   "outputs": [],
   "source": [
    "a, b, *c = 'hello world'\n",
    "c # 출력: ['l', 'l', 'o', ' ', 'w', 'o', 'r', 'l', 'd']"
   ]
  },
  {
   "cell_type": "code",
   "execution_count": null,
   "metadata": {},
   "outputs": [],
   "source": [
    "a = 1,2,3,4,5,6\n",
    "i,j,*k,l = a\n",
    "print(i)\n",
    "print(j)\n",
    "print(k)\n",
    "print(l)\n",
    "\n",
    "def f(i,j,*k,l):\n",
    "\tprint(i)\n",
    "\tprint(j)\n",
    "\tprint(k)\n",
    "\tprint(l)\n",
    "f(1,2,3,4,5,6)\n",
    "\t"
   ]
  },
  {
   "cell_type": "code",
   "execution_count": 19,
   "metadata": {},
   "outputs": [
    {
     "ename": "TypeError",
     "evalue": "f() missing 2 required keyword-only arguments: 'd' and 'f'",
     "output_type": "error",
     "traceback": [
      "\u001b[1;31m---------------------------------------------------------------------------\u001b[0m",
      "\u001b[1;31mTypeError\u001b[0m                                 Traceback (most recent call last)",
      "Cell \u001b[1;32mIn[19], line 6\u001b[0m\n\u001b[0;32m      4\u001b[0m     \u001b[38;5;28mprint\u001b[39m(args)\n\u001b[0;32m      5\u001b[0m     \u001b[38;5;28mprint\u001b[39m(c)\n\u001b[1;32m----> 6\u001b[0m \u001b[43mf\u001b[49m\u001b[43m(\u001b[49m\u001b[38;5;241;43m1\u001b[39;49m\u001b[43m,\u001b[49m\u001b[43m \u001b[49m\u001b[38;5;241;43m2\u001b[39;49m\u001b[43m,\u001b[49m\u001b[43m \u001b[49m\u001b[38;5;241;43m3\u001b[39;49m\u001b[43m,\u001b[49m\u001b[43m \u001b[49m\u001b[38;5;124;43m'\u001b[39;49m\u001b[38;5;124;43mabc\u001b[39;49m\u001b[38;5;124;43m'\u001b[39;49m\u001b[43m,\u001b[49m\u001b[43m \u001b[49m\u001b[38;5;124;43m'\u001b[39;49m\u001b[38;5;124;43mdef\u001b[39;49m\u001b[38;5;124;43m'\u001b[39;49m\u001b[43m,\u001b[49m\u001b[38;5;241;43m4\u001b[39;49m\u001b[43m)\u001b[49m\n",
      "\u001b[1;31mTypeError\u001b[0m: f() missing 2 required keyword-only arguments: 'd' and 'f'"
     ]
    }
   ],
   "source": [
    "# 파선아실\n",
    "def f(a, b, *args,):\n",
    "    print(a, b)\n",
    "    print(args)\n",
    "    print(c)\n",
    "f(1, 2, 3, 'abc', 'def',4)"
   ]
  },
  {
   "cell_type": "code",
   "execution_count": null,
   "metadata": {},
   "outputs": [],
   "source": [
    "# 필\n",
    "def g():\n",
    "    yield '홀'\n",
    "    yield '짝'\n",
    "    yield '홀'\n",
    "    yield '짝'\n",
    "    yield '홀'\n",
    "    yield '짝'\n",
    "    yield '홀'\n",
    "    yield '짝'\n",
    "    yield '홀'\n",
    "    yield '짝'\n",
    "    yield '홀'\n",
    "    yield '짝'\n",
    "list(zip([1, 2, 3, 4, 5, 6], g()))"
   ]
  },
  {
   "cell_type": "code",
   "execution_count": null,
   "metadata": {},
   "outputs": [],
   "source": [
    "class MyIterator:\n",
    "    def __init__(self, stop):\n",
    "        self.current_value = 0  # 현재 값\n",
    "        self.stop = stop  # 순회를 멈출 값\n",
    "\n",
    "    def __iter__(self):\n",
    "        return self\n",
    "\n",
    "    def __next__(self):\n",
    "        if self.current_value >= self.stop:\n",
    "            raise StopIteration\n",
    "        result = self.current_value\n",
    "        self.current_value += 1\n",
    "        return result\n",
    "\n",
    "my_iterator = MyIterator(5)\n",
    "\n",
    "for i in my_iterator:\n",
    "    print(i)\n",
    "\n",
    "for i in my_iterator:\n",
    "    print(i)\n",
    "\n",
    "for i in my_iterator:\n",
    "    print(i)"
   ]
  }
 ],
 "metadata": {
  "kernelspec": {
   "display_name": "Python 3",
   "language": "python",
   "name": "python3"
  },
  "language_info": {
   "codemirror_mode": {
    "name": "ipython",
    "version": 3
   },
   "file_extension": ".py",
   "mimetype": "text/x-python",
   "name": "python",
   "nbconvert_exporter": "python",
   "pygments_lexer": "ipython3",
   "version": "3.12.3"
  }
 },
 "nbformat": 4,
 "nbformat_minor": 2
}
