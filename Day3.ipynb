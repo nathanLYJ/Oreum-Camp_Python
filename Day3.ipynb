{
 "cells": [
  {
   "cell_type": "markdown",
   "metadata": {},
   "source": [
    "#### 문자열(`str`) -> Day2\n",
    "1. `변수명[start(인덱스) : stop(인덱스) : step(인덱스)]` 슬라이싱\n",
    "2. `변수명.메서드()`\n",
    "\t* `lower`( ) 전체 *`소`*문자\n",
    "\t* `upper`( ) 전체 *`대`*문자\n",
    "\t* `find` ( ) index ( ) 문자열을 *`찾아주는`* method *`찾을 수 없는 문자열일 경우 find는 -1을 반환하는 반면, index는 error를 반환합니다.`*\n",
    "\t* `count`( ) 문자열이나 숫자를 *`셀`* 때 사용\n",
    "\t* `strip`( ) 양쪽 `공백 + @`을 *`제거`*하는 method\n",
    "\t* `replace`( ) `원하는 문자열`을 다른 문자열로 *`대체`*할 때 사용하는 *`method 대소문자 구분`*\n",
    "\t* `split`( ) `()` 내용을 기준으로 문자열 *`나누기`*\n",
    "\t* `.join` ( ) 리스트 [] 내용을 .join 앞에의 내용으로 하나의 문자열로 합치기 *`예문 확인`*\n",
    "\t* `format`( )  메서드는 문자열 내에서 변수의 값을 대입할 때 사용하는 메서드입니 *`예문 확인`*\n",
    "\t* `isalnum`( )  `al`는 *`알파벳`*, `num`은 *`숫자`*, **특수문자가 들어가 있으면 `False`, 한글이나 영어, 일본어, 중국어, 숫자 등이 들어가 있으면 `True`.**\n",
    "\t* `isdigit`( ) `문자열 숫자 만` 인지 확인.\n",
    "\t* `isalpha`( ) `문자열 문자 만` 인지 확인.\n",
    "\t* `isascii`( ) `아스키 코드표` 안에 있는비 확인.\n",
    "\t* `rjust`( **지정 길이 `:` 지정 문자** ) 문자열을 지정한 길이로 맞추고, 왼쪽을 지정한 문자로 채우는 메서드 *`예문 확인`*\n",
    "\t* `ljust`( **지정 길이 `:` 지정 문자** ) 문자열을 지정한 길이로 맞추고, 오른쪽을 지정한 문자로 채우는 메서드\n",
    "\t* `center`( **지정 길이 `:` 지정 문자** ) 문자열을 지정한 길이로 맞추고, 양쪽 지정한 문자로 채우는 메서드\n",
    "\t* `zfill`( **지정 길이** ) 문자열을 지정한 길이로 맞추고, 왼쪽을 0로 채우는 메서드, type 문자열로 변경\n",
    "\t* `maketrans + translate`() `여러개 문자열`을 다른 문자열로 *`대체`* 혹은 삭제 *`예문 학인`* **연습 필요**\n",
    "\t"
   ]
  },
  {
   "cell_type": "markdown",
   "metadata": {},
   "source": [
    "### 이스케이프 문자\n",
    "\n",
    "* \\\": 큰따옴표를 나타냅니다.\n",
    "* \\': 작은따옴표를 나타냅니다.\n",
    "* \\\\: 백슬래시를 나타냅니다.\n",
    "\n",
    "* \\n: 새로운 줄바꿈\n",
    "* \\t: 탭 간격\n",
    "* \\r: 커서를 현재 줄의 처음으로 이동합니다"
   ]
  },
  {
   "cell_type": "code",
   "execution_count": null,
   "metadata": {},
   "outputs": [],
   "source": [
    "# ChatGPT에서 가져옴 \n",
    "import time\n",
    "import sys\n",
    "\n",
    "def progress_bar(iteration, total, length=50):\n",
    "    percent = (\"{0:.1f}\").format(100 * (iteration / float(total)))\n",
    "    filled_length = int(length * iteration // total)\n",
    "    bar = '█' * filled_length + '-' * (length - filled_length)\n",
    "    sys.stdout.write(f'\\r|{bar}| {percent}%')\n",
    "    sys.stdout.flush()\n",
    "    if iteration == total:\n",
    "        print()\n",
    "\n",
    "# 사용 예시\n",
    "total_iterations = 100\n",
    "for i in range(total_iterations + 1):\n",
    "    progress_bar(i, total_iterations)\n",
    "    time.sleep(0.1)"
   ]
  },
  {
   "cell_type": "markdown",
   "metadata": {},
   "source": [
    "### 실습"
   ]
  },
  {
   "cell_type": "code",
   "execution_count": null,
   "metadata": {},
   "outputs": [],
   "source": [
    "name = input(\"이름을 입력하세요\")\n",
    "age = input(\"나이를 입력하세요\")\n",
    "color = input(\"좋아하는 색깔 입력하세요\")\n",
    "print(f\"이름:{name}나이:{age}좋아하는 색깔:{color}\" )"
   ]
  },
  {
   "cell_type": "code",
   "execution_count": null,
   "metadata": {},
   "outputs": [],
   "source": [
    "movie = input(\"좋아하는 영화 입력하세요\")\n",
    "food = input(\"좋아하는 음식 입력하세요\")\n",
    "hobby = input(\"좋아하는 취미 입력하세요\")\n",
    "print(f\"영화:{movie}음식:{food}취미:{hobby}\" )"
   ]
  },
  {
   "cell_type": "code",
   "execution_count": null,
   "metadata": {},
   "outputs": [],
   "source": [
    "PN = input(\"전화번호를 입력하세요\")"
   ]
  },
  {
   "cell_type": "code",
   "execution_count": null,
   "metadata": {},
   "outputs": [],
   "source": [
    "user_input = input(\"수정하고 싶은 문장을 입력하세요\")\n",
    "user_replace = input(\"수정해야 할 단어 입력하세요\")\n",
    "user_new = input(\"수정 내용 입력하세요\")\n",
    "\n",
    "print(user_input.replace(user_replace,user_new))"
   ]
  },
  {
   "cell_type": "markdown",
   "metadata": {},
   "source": [
    "### 논리 자료형 bool\n",
    "* `True`: 참을 나타냅니다. `1`과 같은 값으로 취급됩니다.\n",
    "* `False`: 거짓을 나타냅니다. `0`과 같은 값으로 취급됩니다.\n",
    "* `비교 연산`에 사용\n",
    "### None 자료형\n",
    "[None](./image/none.png)\n",
    " `비어 있다`, `아무것도 없다`, `정보가 없다`를 표현하고 싶을 때 사용하는 것이 `None`입니다."
   ]
  },
  {
   "cell_type": "code",
   "execution_count": null,
   "metadata": {},
   "outputs": [],
   "source": [
    "x = None\n",
    "\n",
    "\n",
    "print(x == None)    # True, 하지만 이 방식은 권장되지 않습니다.\n",
    "print(x is None)    # True, 이 방식을 사용하여 None을 확인하는 것이 좋습니다."
   ]
  },
  {
   "cell_type": "markdown",
   "metadata": {},
   "source": [
    "### 문자열의 메서드 체이닝\n",
    "* 메서드를 `.` 으로 연결하는것\n",
    "* `한줄`로 코딩하는 것을 권장함 -`2개 혹은 3개 연속`"
   ]
  },
  {
   "cell_type": "code",
   "execution_count": null,
   "metadata": {},
   "outputs": [],
   "source": [
    "sentence = '  Hello, World!  '\n",
    "result = sentence.strip().lower().replace('world', 'python')\n",
    "# 1번 스탭 : sentence.strip() == 'Hello, World!'\n",
    "# 2번 스탭 : 'Hello, World!'.lower() == 'hello, world!'\n",
    "# 3번 스탭 : 'hello, world!'.replace('world', 'python')\n",
    "print(result)  # 'hello, python!'"
   ]
  },
  {
   "cell_type": "markdown",
   "metadata": {},
   "source": [
    "### 형변환\n",
    "\n",
    "* int()\t정수로 변환\n",
    "* str()\t문자열로 변환\n",
    "* float()\t실수로 변환\n",
    "* list()\t리스트로 변환\n",
    "* tuple()\t튜플로 변환\n",
    "* dict()\t딕셔너리로 변환\n",
    "* set()\t셋으로 변환"
   ]
  },
  {
   "cell_type": "code",
   "execution_count": null,
   "metadata": {},
   "outputs": [],
   "source": [
    "data = [('name','licat'),('age',10)]\n",
    "d = dict(data)\n",
    "d"
   ]
  },
  {
   "cell_type": "markdown",
   "metadata": {},
   "source": [
    "### 연습문제\n",
    "\n",
    "* 문제1 : x = 100 <-\n",
    "* 문제2 : 3번,5번,#6번\n",
    "* 문제3 : user_input = input('종복 출력 문장을 입력하세요')<br/>\n",
    "print(user_input*2)"
   ]
  },
  {
   "cell_type": "code",
   "execution_count": 16,
   "metadata": {},
   "outputs": [
    {
     "name": "stdout",
     "output_type": "stream",
     "text": [
      "123a123a\n"
     ]
    }
   ],
   "source": [
    "user_input = input('종복 출력 문장을 입력하세요')\n",
    "print(user_input*2)"
   ]
  },
  {
   "cell_type": "markdown",
   "metadata": {},
   "source": [
    "### 연산자\n",
    "* 연산자는 프로그래밍에서 데이터를 처리하고 분석하는 데 쓰이는 기호나 키워드입니다.\n",
    "* 종류에는 \n",
    "\t1. 산술연산자`(+,-,*,/,%,**) 타입 동일, dict()딕셔너리 사용 불가, -- = + 마이너스 2개는 플러스 이다, / 소수, // 정수`\n",
    "\t2. 대입연산자(할당연산자 = ) \n",
    "\t\t* 할당 연산자의 우선순위는 대부분의 다른 연산자들보다 낮음\n",
    "\t3. 비교연산자`(==,!=,<,<=,>,>=,math.isclose())`\n",
    "\t4. 논리연산자`(and곱셈으로 간주,or덧셈으로 간주,not주어진 조건의 반대 값)` 단락평가 중요..\n",
    "\t\t* 단락 평가: 자원 절약, and 앞 false 뒤 생략, or 앞 true 뒤 생략\n",
    "\t\t* not, and, or는 순서대로 우선순위를 가지고 있습니다. not이 가장 먼저 실행되며 그 다음으로는 and, or 순\n",
    "\t5. 비트연산자\n",
    "\t6. 멤버연산자 `(in, not in)`\n",
    "\t\t* 어떤 값이 목록 안에 있는지 확인해주는 기능입니다\n",
    "\t7. 식별연산자 `(is,is not)`\n",
    "\t\t* 주소를 비교하는 연산자\n",
    "\t\t* id(data) 로 주소 확인\n",
    "\t8. [우선순위](./image/우선순위표.PNG)\n",
    "\t\n"
   ]
  },
  {
   "cell_type": "markdown",
   "metadata": {},
   "source": []
  },
  {
   "cell_type": "markdown",
   "metadata": {},
   "source": []
  }
 ],
 "metadata": {
  "kernelspec": {
   "display_name": "Python 3",
   "language": "python",
   "name": "python3"
  },
  "language_info": {
   "codemirror_mode": {
    "name": "ipython",
    "version": 3
   },
   "file_extension": ".py",
   "mimetype": "text/x-python",
   "name": "python",
   "nbconvert_exporter": "python",
   "pygments_lexer": "ipython3",
   "version": "3.12.3"
  }
 },
 "nbformat": 4,
 "nbformat_minor": 2
}
