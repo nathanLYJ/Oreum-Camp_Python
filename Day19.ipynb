{
 "cells": [
  {
   "cell_type": "markdown",
   "metadata": {},
   "source": [
    "### CSS 2일차 수업\n",
    "#### box-sizing\n",
    "- box 모델 높낮이 쉽게정해주는 속성\n",
    "#### border-radius\n",
    "- radius(빈지름)의길이 만큼 원을 만들고, 이원을 초과한 부분 깍은 구조이다.\n",
    "\t1. border-top-left-radius \n",
    "\t2. border-top-right-radius \n",
    "\t3. border-bottom-right-radius \n",
    "\t4. border-bottom-left-radius\n",
    "#### 레이아웃\n",
    "- display 속성, 여러 block inline inline-block 들 묶어서 하나의 block, inline, inline-block 속성으로 만든다\n",
    "\t1. block, inline, inline-block\n",
    "\t2. flex 내부 자식 요소들의 위치를 부모 컨테이너 요소 안에서 x, y축 단방향(1차원적)으로 설정합니다.\n",
    "\t3. grid 내부 자식 요소들의 위치를 부모 컨테이너 요소 안에서 x, y축 모두 이용해(2차원적) 설정합니다.\n",
    "\t4. none 요소 화면 상에서 제거\n",
    "- [cssdisplay](./cssdisplay.html)\n",
    "- [실습](./login/로그인.html)\n",
    "#### position 속성\n",
    "- 원한는 위치에 딱 박을수 있게 해주는 속성.\n",
    "\t1. static 기본값\n",
    "\t2. relative 기준점을 정해서 상대적으로 배치합니다\n",
    "\t\t* [position relative](./cssPosition.html)\n",
    "\t3. absolute 부모의 요소를 기준으로 자기 위치를 설정\n",
    "\t4. fixed 사용자 보고있는 화면기준으로\n",
    "\t5. sticky 조상에 스크롤이 있다면 가장가까운 부모에 달라붙게 된\n",
    "#### z-index\n",
    "- 요소들 겹칠때 보이는 순서를 결정하는 속성\n",
    "#### flex\n",
    "- [flex-direction 구조](./image/01-1.png)\n",
    "- flex-direction 컨테이너 기본 방향 ->, 기본 block 요소\n",
    "\t1. row 기본값. 왼쪽에서 오른쪽 (주축이 행 방향)\n",
    "\t2. column 위에서 아래 방향 (주축이 열 방향)\n",
    "\t3. row-reverse 오른쪽에서 왼쪽\n",
    "\t4. column-reverse 아래에서 위 방향\n",
    "- justify-content 주축을 기준으로 배열의 위치를 조절하거나 아이템 간의 설정을 할 수 있습니다.\n",
    "- [justify-content 실습](./cssFlex-justify-content.html)\n",
    "\t1. flex-start 주측 시작지점\n",
    "\t2. flex-end 주측 끝난 지점 정열\n",
    "\t3. center 주측 중간 정열\n",
    "\t4. space-between item들 같은 간격으로 정열\n",
    "\t5. space-around item들 같은 간격으로 감싸다\n",
    "\t6. space-evenly item들 모든 여백 같은 간격으로 정열\n",
    "\t\n"
   ]
  }
 ],
 "metadata": {
  "language_info": {
   "name": "python"
  }
 },
 "nbformat": 4,
 "nbformat_minor": 2
}
