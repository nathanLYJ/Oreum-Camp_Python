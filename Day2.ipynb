{
 "cells": [
  {
   "cell_type": "code",
   "execution_count": 2,
   "metadata": {},
   "outputs": [
    {
     "name": "stdout",
     "output_type": "stream",
     "text": [
      "hello world\n"
     ]
    }
   ],
   "source": [
    "print(\"hello world\")"
   ]
  },
  {
   "cell_type": "markdown",
   "metadata": {},
   "source": [
    "# 커맨드\n",
    "1. **실행 단축키 (3번씩 실습)**\n",
    "    1. (필수) `Ctrl(Command)` + `Enter` : 해당 셀 실행\n",
    "    2. `Shift` + `Enter` : 해당 셀 실행 + 커서를 다음 셀로 이동\n",
    "    3. (필수) `Alt(Option)` + `Enter` : 해당 셀 실행 + 코드 불록 하단 추가\n",
    "2. **셀 삽입/삭제 관련 단축키(3번씩 실습)**\n",
    "    1. `Ctrl(Command)` + M A : 코드 셀 위에 삽입\n",
    "    2. `Ctrl(Command)` + M B : 코드 셀 아래 삽입\n",
    "    3. `Ctrl(Command)` + M D : 셀 지우기\n",
    "    4. `Ctrl(Command)` + M Y : 코드 셀로 변경\n",
    "    5. `Ctrl(Command)` + M M : 마크다운 셀로 변경\n",
    "    6. `Ctrl(Command)` + M Z : 실행 취소\n",
    "3. **자주 쓰는**\n",
    "    1. `Ctrl(Command)` + `Alt(Option)` + 화살표위아래 : 동시 수정\n",
    "    2. (자주) `Ctrl(Command)` + D : 같은 단어 찾아 동시 수정\n",
    "    3. `Ctrl(Command)` + `Shift` + L : 동일 단어를 전체로 찾아 동시 수정\n",
    "    4. `Alt(Option)` + `Shift` + 화살표위아래 : 해당내용을 위나 아래 복사해서 붙여넣기\n",
    "    5. `Alt(Option)` + 화살표위아래 : 해당 내용을 위나 아래로 보내기\n",
    "    6. (자주) `Ctrl(Command)` + `Alt(Option)` + 화살표위아래 : 위아래 동시 수정\n",
    "    7. (자주) Home, End : 문장의 양 끝\n",
    "    8. (필수) `Ctrl(Command)` + `/` : 주석\n",
    "    9. (필수) `Shift`(`Command`) + `Del` : 한 줄 지우기\n",
    "    10. (필수) `Tab`, `Ctrl` + `]` : 들여쓰기\n",
    "    11. (필수) `Shift` + `Tab`, `Ctrl` + `[` : 내어쓰기"
   ]
  },
  {
   "cell_type": "markdown",
   "metadata": {},
   "source": [
    "### 마크다운 \n",
    "#### 1. # 수 만큼 글자 크기\n",
    "#### 2. 강조 * _\n",
    "예)\n",
    "*강조* **강조** <br/> \n",
    "_강조_ __강조__\n",
    "#### 3. 목록\n",
    "예)\n",
    "1.\t\t\n",
    "2.\t\t\t\n",
    "3.\t\n",
    "*\t\n",
    "*\t\n",
    "*\t\n",
    "#### 4. 링크 [표시이름](링크 주소),![표시이름](링크 주소)\n",
    "예)\n",
    "[Google](http://www.google.com)<br/>\n",
    "![모연](./zoom_BG1.png)\n",
    "#### 5. 기타\n",
    "취소선 : ~~취소선~~\n",
    "\n",
    "---\n",
    "\n",
    "> 인용문\n",
    ">> 중첩된 인용문"
   ]
  }
 ],
 "metadata": {
  "kernelspec": {
   "display_name": "Python 3",
   "language": "python",
   "name": "python3"
  },
  "language_info": {
   "codemirror_mode": {
    "name": "ipython",
    "version": 3
   },
   "file_extension": ".py",
   "mimetype": "text/x-python",
   "name": "python",
   "nbconvert_exporter": "python",
   "pygments_lexer": "ipython3",
   "version": "3.12.3"
  }
 },
 "nbformat": 4,
 "nbformat_minor": 2
}
