{
 "cells": [
  {
   "cell_type": "code",
   "execution_count": 2,
   "metadata": {},
   "outputs": [
    {
     "name": "stdout",
     "output_type": "stream",
     "text": [
      "hello world\n"
     ]
    }
   ],
   "source": [
    "print(\"hello world\")"
   ]
  },
  {
   "cell_type": "markdown",
   "metadata": {},
   "source": [
    "# 커맨드\n",
    "1. **실행 단축키 (3번씩 실습)**\n",
    "    1. (필수) `Ctrl(Command)` + `Enter` : 해당 셀 실행\n",
    "    2. `Shift` + `Enter` : 해당 셀 실행 + 커서를 다음 셀로 이동\n",
    "    3. (필수) `Alt(Option)` + `Enter` : 해당 셀 실행 + 코드 불록 하단 추가\n",
    "2. **셀 삽입/삭제 관련 단축키(3번씩 실습)**\n",
    "    1. `Ctrl(Command)` + M A : 코드 셀 위에 삽입\n",
    "    2. `Ctrl(Command)` + M B : 코드 셀 아래 삽입\n",
    "    3. `Ctrl(Command)` + M D : 셀 지우기\n",
    "    4. `Ctrl(Command)` + M Y : 코드 셀로 변경\n",
    "    5. `Ctrl(Command)` + M M : 마크다운 셀로 변경\n",
    "    6. `Ctrl(Command)` + M Z : 실행 취소\n",
    "3. **자주 쓰는**\n",
    "    1. `Ctrl(Command)` + `Alt(Option)` + 화살표위아래 : 동시 수정\n",
    "    2. (자주) `Ctrl(Command)` + D : 같은 단어 찾아 동시 수정\n",
    "    3. `Ctrl(Command)` + `Shift` + L : 동일 단어를 전체로 찾아 동시 수정\n",
    "    4. `Alt(Option)` + `Shift` + 화살표위아래 : 해당내용을 위나 아래 복사해서 붙여넣기\n",
    "    5. `Alt(Option)` + 화살표위아래 : 해당 내용을 위나 아래로 보내기\n",
    "    6. (자주) `Ctrl(Command)` + `Alt(Option)` + 화살표위아래 : 위아래 동시 수정\n",
    "    7. (자주) Home, End : 문장의 양 끝\n",
    "    8. (필수) `Ctrl(Command)` + `/` : 주석\n",
    "    9. (필수) `Shift`(`Command`) + `Del` : 한 줄 지우기\n",
    "    10. (필수) `Tab`, `Ctrl` + `]` : 들여쓰기\n",
    "    11. (필수) `Shift` + `Tab`, `Ctrl` + `[` : 내어쓰기"
   ]
  },
  {
   "cell_type": "markdown",
   "metadata": {},
   "source": [
    "### 마크다운 \n",
    "#### 1. # 수 만큼 글자 크기\n",
    "#### 2. 강조 * _\n",
    "예)\n",
    "*강조* **강조** <br/> \n",
    "_강조_ __강조__\n",
    "#### 3. 목록\n",
    "예)\n",
    "1.\t\t\n",
    "2.\t\t\t\n",
    "3.\t\n",
    "*\t\n",
    "*\t\n",
    "*\t\n",
    "#### 4. 링크 [표시이름](링크 주소),![표시이름](링크 주소)\n",
    "예)\n",
    "[Google](http://www.google.com)<br/>\n",
    "![모연](./zoom_BG1.png)\n",
    "#### 5. 기타\n",
    "취소선 : ~~취소선~~\n",
    "\n",
    "---\n",
    "\n",
    "> 인용문\n",
    ">> 중첩된 인용문"
   ]
  },
  {
   "cell_type": "markdown",
   "metadata": {},
   "source": [
    "## 주석 코드"
   ]
  },
  {
   "cell_type": "code",
   "execution_count": 2,
   "metadata": {},
   "outputs": [
    {
     "name": "stdout",
     "output_type": "stream",
     "text": [
      "hello,word1!\n"
     ]
    }
   ],
   "source": [
    "# 이것은 주석이입다.\n",
    "print(\"hello,word1!\")\n",
    "# print('hello,world2!') # 출력 안됨"
   ]
  },
  {
   "cell_type": "markdown",
   "metadata": {},
   "source": [
    "## 입력과 출력"
   ]
  },
  {
   "cell_type": "code",
   "execution_count": 3,
   "metadata": {},
   "outputs": [
    {
     "name": "stdout",
     "output_type": "stream",
     "text": [
      "2020\n",
      "Hello World !\n",
      "010-0000-0000???010@0000@0000\n"
     ]
    }
   ],
   "source": [
    "age = input('나이를 입력해주세요.')\n",
    "print(age + age) # 입력받은 문자는 '문자열'로 처리되어 이어붙입니다.\n",
    "print(\"Hello\", \"World\", \"!\") # 출력은 , 로 구분함 > 출력에는 띄어쓰기로 연결됨\n",
    "print(\"010\", \"0000\", \"0000\", sep=\"-\",end='???') # sep 로 연결기호 변경 가능 end 로 다음 문장 연결)\n",
    "print(\"010\", \"0000\", \"0000\", sep=\"@\")"
   ]
  },
  {
   "cell_type": "markdown",
   "metadata": {},
   "source": [
    "## f-string"
   ]
  },
  {
   "cell_type": "code",
   "execution_count": 10,
   "metadata": {},
   "outputs": [
    {
     "name": "stdout",
     "output_type": "stream",
     "text": [
      "제 이름은 licat, 제 나이는 10\n",
      "제 이름은 licat, 제 나이는 10 입니다.\n"
     ]
    }
   ],
   "source": [
    "name = 'licat'\n",
    "age = 10\n",
    "print('제 이름은',name,end=\", \")\n",
    "print('제 나이는',age)\n",
    "print(f'제 이름은 {name}, 제 나이는 {age} 입니다.') # 변수를 쉽게 추가하는 방법"
   ]
  },
  {
   "cell_type": "code",
   "execution_count": 11,
   "metadata": {},
   "outputs": [
    {
     "name": "stdout",
     "output_type": "stream",
     "text": [
      "a\n"
     ]
    },
    {
     "data": {
      "text/plain": [
       "b"
      ]
     },
     "execution_count": 11,
     "metadata": {},
     "output_type": "execute_result"
    }
   ],
   "source": [
    "class Character:\n",
    "    def __str__(self):\n",
    "        return 'a'\n",
    " \n",
    "    def __repr__(self):\n",
    "        return 'b'\n",
    " \n",
    "hero = Character()\n",
    "print(hero)\n",
    "hero"
   ]
  },
  {
   "cell_type": "code",
   "execution_count": 12,
   "metadata": {},
   "outputs": [],
   "source": [
    "a = None\n",
    "a"
   ]
  },
  {
   "cell_type": "code",
   "execution_count": 13,
   "metadata": {},
   "outputs": [],
   "source": [
    "def f():\n",
    "    return None\n",
    "\n",
    "f()"
   ]
  },
  {
   "cell_type": "markdown",
   "metadata": {},
   "source": [
    "## 변수\n",
    "1. 변수 이름 짓기\n",
    "\t* 변수 이름은 알파벳(대문자와 소문자), 숫자, 언더스코어(_)로 구성됩니다.\n",
    "\t* 변수 이름은 숫자로 시작할 수 없습니다. 예를 들어 1ten / 100_test / 0은 변수 이름으로 사용할 수 없습니다.\n",
    "\t* 파이썬의 키워드(예: if, else, while 등)는 변수 이름으로 사용할 수 없습니다.\n",
    "\t* 변수는 대소문자 구분\n",
    "2. 관습\n",
    "\t* 일반 변수는 주로 첫 문자를 소문자로 사용합니다.\n",
    "\t* 사용하지 않는 변수는 언더스코어(_)로 명명합니다. <br/>\n",
    "\t\t예) 반복문에서 i, j, k와 같은 변수가 사용되지 않는다면 이러한 변수명을 언더스코어로 대체합니다. <br/>\n",
    "\t* 클래스는 첫문자를 대문자로 하고 띄어쓰기가 일어날 때마다 대문자로 표시하는 파스칼표기법을 주로 사용합니다. <br/>\n",
    "\t\t예) class UserProfile: , daily_user_count = 100\n",
    "3. 변수의 타입 변수 정의 후, type(변수) 사용\n",
    "\t* 정수형(int): 양의 정수, 0, 음의 정수를 표현합니다. 예: 1, 5, 100, 0, -30, -45\n",
    "\t* 실수형(float): 소수점을 포함한 실수를 표현합니다. 예: 1.5, 5.6, 100.23, 0.0, -30.53245\n",
    "\t* 복소수형(complex): 실수부와 허수부로 구성된 복소수를 표현합니다. 예: 1+2j, 3-4j\n",
    "\t* 불리언타입(Boolean Type): 논리 자료형 True, False을 표현합니다.\n",
    "\t* 시퀀스 타입(Sequence Types): 순서가 있으면서 순서에 해당하는 값을 읽어올 수 있는 인덱싱이나 일부 순서에 그룹을 잘라낼 수 있는 슬라이싱이 가능한 자료형입니다.\n",
    "\t* 문자열(str): 문자의 나열로 이루어진 문자열을 표현합니다. 예: \"Hello\", 'Python'\n",
    "\t* 리스트(list): 순서가 있는 변경 가능(mutable)한 객체의 집합입니다. 예: [1, 2, 3], ['a', 'b', 'c']\n",
    "\t* 튜플(tuple): 순서가 있는 변경 불가능(immutable)한 객체의 집합입니다. 예: (1, 2, 3), ('a', 'b', 'c')\n",
    "\t* 컬렉션 타입(Collection Types) 혹은 컨테이너 타입(Container Types): 다른 자료형을 담을 수 있는 자료형입니다.\n",
    "\t* 리스트(list): 순서가 있는 변경 가능(mutable)한 객체의 집합입니다. 예: [1, 2, 3], ['a', 'b', 'c']\n",
    "\t* 튜플(tuple): 순서가 있는 변경 불가능(immutable)한 객체의 집합입니다. 예: (1, 2, 3), ('a', 'b', 'c')\n",
    "\t* 집합(set): 순서가 없고 중복을 허용하지 않는 변경 가능(mutable)한 객체의 집합입니다. 예: {1, 2, 3}, {'a', 'b', 'c'}\n",
    "\t* 딕셔너리(dict): 키(key)와 값(value)의 쌍으로 이루어진 변경 가능(mutable)한 객체의 집합입니다. 예: {'a': 1, 'b': 2, 'c': 3}\n",
    "\t* None 타입: None, 값이 없음을 나타내는 특별한 타입입니다.\n",
    "\t* 이 외에도 파이썬에서는 함수(function), 클래스(class), 모듈(module) 등의 타입도 존재합니다. 각 타입의 변수를 선언하고 사용하는 예시를 살펴보겠습니다.\n",
    "4. dir활용\n",
    "\t* 출력 예)<br/>\n",
    "\t<class 'int'> # int라는 이름을 가지고 있군요!<br/>\n",
    "\t'__abs__', # 매직 메서드: 절대값이 되는군요!<br/>\n",
    "\t'__add__', # 매직 메서드: 더하기가 되는군요!<br/>\n",
    "\t'__and__', # 매직 메서드: 논리 연산이 되는군요!<br/>\n",
    "\t'__mul__', # 매직 메서드: 곱하기가 되는군요!<br/>\n",
    "\t'real', # 메서드: 실수부를 출력하는 메서드<br/>\n",
    "\t'to_bytes' # 메서드: 바이트로 변환하는 메서드\n",
    "5. 변수 삭제 del\n",
    "\n",
    "    \n",
    "\t"
   ]
  },
  {
   "cell_type": "code",
   "execution_count": 14,
   "metadata": {},
   "outputs": [
    {
     "name": "stdout",
     "output_type": "stream",
     "text": [
      "30 Jun\n",
      "30\n",
      "Jun\n"
     ]
    }
   ],
   "source": [
    "age = 30\n",
    "name = 'Jun'\n",
    "print(age, name)\n",
    "print(age)\n",
    "print(name)"
   ]
  },
  {
   "cell_type": "markdown",
   "metadata": {},
   "source": [
    "사용 불가 키워드"
   ]
  },
  {
   "cell_type": "code",
   "execution_count": 15,
   "metadata": {},
   "outputs": [
    {
     "name": "stdout",
     "output_type": "stream",
     "text": [
      "['False', 'None', 'True', 'and', 'as', 'assert', 'async', 'await', 'break', 'class', 'continue', 'def', 'del', 'elif', 'else', 'except', 'finally', 'for', 'from', 'global', 'if', 'import', 'in', 'is', 'lambda', 'nonlocal', 'not', 'or', 'pass', 'raise', 'return', 'try', 'while', 'with', 'yield']\n"
     ]
    }
   ],
   "source": [
    "import keyword\n",
    "\n",
    "print(keyword.kwlist)"
   ]
  },
  {
   "cell_type": "code",
   "execution_count": 18,
   "metadata": {},
   "outputs": [
    {
     "name": "stdout",
     "output_type": "stream",
     "text": [
      "Jun1 Jun2 Jun3\n",
      "jun4\n"
     ]
    }
   ],
   "source": [
    "name = 'Jun1'\n",
    "Name = 'Jun2'\n",
    "NAME = 'Jun3'\n",
    "print(name, Name, NAME)\n",
    "name = 'jun4' # 같은 변수 정의시 덮어쓰기 됨\n",
    "print(name)"
   ]
  },
  {
   "cell_type": "code",
   "execution_count": 26,
   "metadata": {},
   "outputs": [
    {
     "name": "stdout",
     "output_type": "stream",
     "text": [
      "<class 'int'>\n",
      "<class 'str'>\n",
      "<class 'int'>\n",
      "['__abs__', '__add__', '__and__', '__bool__', '__ceil__', '__class__', '__delattr__', '__dir__', '__divmod__', '__doc__', '__eq__', '__float__', '__floor__', '__floordiv__', '__format__', '__ge__', '__getattribute__', '__getnewargs__', '__getstate__', '__gt__', '__hash__', '__index__', '__init__', '__init_subclass__', '__int__', '__invert__', '__le__', '__lshift__', '__lt__', '__mod__', '__mul__', '__ne__', '__neg__', '__new__', '__or__', '__pos__', '__pow__', '__radd__', '__rand__', '__rdivmod__', '__reduce__', '__reduce_ex__', '__repr__', '__rfloordiv__', '__rlshift__', '__rmod__', '__rmul__', '__ror__', '__round__', '__rpow__', '__rrshift__', '__rshift__', '__rsub__', '__rtruediv__', '__rxor__', '__setattr__', '__sizeof__', '__str__', '__sub__', '__subclasshook__', '__truediv__', '__trunc__', '__xor__', 'as_integer_ratio', 'bit_count', 'bit_length', 'conjugate', 'denominator', 'from_bytes', 'imag', 'is_integer', 'numerator', 'real', 'to_bytes']\n"
     ]
    },
    {
     "ename": "NameError",
     "evalue": "name 'x' is not defined",
     "output_type": "error",
     "traceback": [
      "\u001b[1;31m---------------------------------------------------------------------------\u001b[0m",
      "\u001b[1;31mNameError\u001b[0m                                 Traceback (most recent call last)",
      "Cell \u001b[1;32mIn[26], line 11\u001b[0m\n\u001b[0;32m      9\u001b[0m \u001b[38;5;28mprint\u001b[39m(\u001b[38;5;28mdir\u001b[39m(x))\n\u001b[0;32m     10\u001b[0m \u001b[38;5;28;01mdel\u001b[39;00m x\n\u001b[1;32m---> 11\u001b[0m \u001b[38;5;28mprint\u001b[39m(\u001b[43mx\u001b[49m)  \u001b[38;5;66;03m# NameError: name 'x' is not defined\u001b[39;00m\n",
      "\u001b[1;31mNameError\u001b[0m: name 'x' is not defined"
     ]
    }
   ],
   "source": [
    "age = 10\n",
    "print(type(age)) # 출력: <class 'int'>\n",
    "\n",
    "name = \"licat\"\n",
    "print(type(name)) # 출력: <class 'str'>\n",
    "\n",
    "x = 10\n",
    "print(type(x))\n",
    "print(dir(x))\n",
    "del x\n",
    "print(x)  # NameError: name 'x' is not defined"
   ]
  },
  {
   "cell_type": "code",
   "execution_count": 27,
   "metadata": {},
   "outputs": [],
   "source": [
    "a = 10      # int, 정수형\n",
    "b = -1      # int, 정수형\n",
    "c = 0b110   # int, 2진수 정수형\n",
    "d = 0o56    # int, 8진수 정수형\n",
    "e = 0xAC    # int, 16진수 정수형\n",
    " \n",
    "f = 10.1    # float, 실수형\n",
    " \n",
    "g = 10 + 2j # complex, 복소수형\n",
    " \n",
    "h = 'Hello'  # str, 문자열\n",
    "i = \"10\"    # str, 문자열\n",
    " \n",
    "j = True    # bool, 불리언\n",
    " \n",
    "k = None    # NoneType\n",
    " \n",
    "l = [1, 2, 3, 4]       # list, 리스트\n",
    "m = ['one', 'two']     # list, 리스트\n",
    "n = (1, 2, 3, 4)       # tuple, 튜플\n",
    "o = ('one', 'two')     # tuple, 튜플\n",
    "p = {'one': 1, 'two': 2} # dict, 딕셔너리\n",
    "q = {1, 2, 3, 4}       # set, 집합\n",
    " \n",
    "def r():    # function, 함수\n",
    "    pass\n",
    " \n",
    "s = print   # built-in function, 내장 함수\n",
    "t = lambda x: x ** 2  # function, 람다 함수\n",
    "u = int     # type, 타입\n",
    " \n",
    "class Character:  # class, 클래스\n",
    "    pass\n",
    " \n",
    "hero = Character()    # instance, 인스턴스\n",
    "villain = Character() # instance, 인스턴스"
   ]
  }
 ],
 "metadata": {
  "kernelspec": {
   "display_name": "Python 3",
   "language": "python",
   "name": "python3"
  },
  "language_info": {
   "codemirror_mode": {
    "name": "ipython",
    "version": 3
   },
   "file_extension": ".py",
   "mimetype": "text/x-python",
   "name": "python",
   "nbconvert_exporter": "python",
   "pygments_lexer": "ipython3",
   "version": "3.12.3"
  }
 },
 "nbformat": 4,
 "nbformat_minor": 2
}
