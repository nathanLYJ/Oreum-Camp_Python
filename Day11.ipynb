{
 "cells": [
  {
   "cell_type": "markdown",
   "metadata": {},
   "source": [
    "# Day-11\n",
    "### 판다스\n"
   ]
  },
  {
   "cell_type": "code",
   "execution_count": null,
   "metadata": {},
   "outputs": [],
   "source": [
    "# 넘파이 설치 (명령 프롬프트에서 실행)# pip install numpy# 판다스 설치# pip install pandas# 파이썬 스크립트에서 임포트\n",
    "import numpy as np\n",
    "import pandas as pd\n",
    "\n",
    "print(\"NumPy 버전:\", np.__version__)\n",
    "print(\"Pandas 버전:\", pd.__version__)\n",
    "\n",
    "# NumPy를 사용한 배열 생성\n",
    "np_array = np.array([1, 2, 3, 4, 5])\n",
    "print(\"NumPy 배열:\", np_array)\n",
    "\n",
    "# Pandas를 사용한 Series 생성\n",
    "# pandas series -> 1. 열로 정리 된다, index가 2. 자동으로 생성된다\n",
    "pd_series = pd.Series([1, 2, 3, 4, 5])\n",
    "print(\"Pandas Series:\\n\", pd_series)\n",
    "\n",
    "# Pandas를 사용한 DataFrame 생성\n",
    "# 딕셔너리 형태의 데이터를 DataFrame 메서드에 넣으면 엑셀파일과 같은 데이터 구조가 생선된다.\n",
    "data = pd.DataFrame({\n",
    "    '이름': ['김철수', '박영희', '모두연'],\n",
    "    '나이': [25, 28, 32],\n",
    "    '직업': ['개발자', '디자이너', '마케터']\n",
    "})\n",
    "print(\"Pandas DataFrame:\\n\", df)\n",
    "df = pd.DataFrame(data)\n",
    "print(df)\n",
    "print(df.info())\n",
    "print(df.shape)\n",
    "\n",
    "# 2. 조건을 만족하는 데이터 필터링\n",
    "\n",
    "modu_df = df[df['이름'] == '모두연']\n",
    "print(modu_df)"
   ]
  },
  {
   "cell_type": "code",
   "execution_count": null,
   "metadata": {},
   "outputs": [],
   "source": [
    "#예시 데이터프레임 생성\n",
    "data = {\n",
    "    'Name': ['Alice', 'Bob'],  # 문자열 타입\n",
    "    'Age': ['25', '30'],       # 숫자 데이터를 문자열로 표현\n",
    "    'Member': ['True', 'False'],  # 불린 데이터를 문자열로 표현\n",
    "    'Join Date': ['2021-01-01', '2021-07-01']  # 날짜 데이터를 문자열로 표현\n",
    "}\n",
    "\n",
    "df = pd.DataFrame(data)\n",
    "\n",
    "#데이터 타입 변환\n",
    "df['Age'] = df['Age'].astype(int)  # 'Age' 열을 정수형으로 변환\n",
    "df['Member'] = df['Member'].astype(bool)  # 'Member' 열을 불린형으로 변환\n",
    "df['Join Date'] = pd.to_datetime(df['Join Date'])  # 'Join Date' 열을 datetime으로 변환\n",
    "\n",
    "#결과 출력\n",
    "print(df)\n",
    "print(df.dtypes)"
   ]
  },
  {
   "cell_type": "code",
   "execution_count": null,
   "metadata": {},
   "outputs": [],
   "source": [
    "import pandas as pd\n",
    "\n",
    "#시리즈 생성\n",
    "names = pd.Series(['홍길동', '임꺽정', '이순신'])\n",
    "\n",
    "#시리즈 출력\n",
    "print(\"시리즈 출력:\")\n",
    "print(names)\n",
    "\n",
    "#시리즈의 데이터 타입 확인\n",
    "print(\"\\n시리즈의 데이터 타입:\")\n",
    "print(names.dtype)\n",
    "\n",
    "#시리즈의 인덱스 확인\n",
    "print(\"\\n시리즈의 인덱스:\")\n",
    "print(names.index)\n",
    "#사용자 정의 인덱스 설정\n",
    "names_with_index = pd.Series(['홍길동', '임꺽정', '이순신'], index=['a', 'b', 'c'])\n",
    "\n",
    "#시리즈 출력\n",
    "print(\"사용자 정의 인덱스를 가진 시리즈:\")\n",
    "print(names_with_index)\n",
    "\n",
    "#특정 인덱스를 사용하여 데이터 접근\n",
    "print(\"\\n인덱스 'b'의 데이터:\")\n",
    "print(names_with_index['b'])\n",
    "\n",
    "#벡터화 연산 예시: 모든 이름에 '님'을 추가\n",
    "print(\"\\n벡터화 연산 예시 (모든 이름에 '님' 추가):\")\n",
    "print(names_with_index + '님')\n",
    "\n",
    "#나이 데이터 시리즈 생성\n",
    "ages = pd.Series([30, 35, 40], index=['홍길동', '임꺽정', '이순신'])\n",
    "\n",
    "#시리즈 출력\n",
    "print(\"나이 데이터 시리즈:\")\n",
    "print(ages)\n",
    "\n",
    "#조건에 따른 데이터 필터링 (나이가 35 이상인 데이터)\n",
    "print(\"\\n나이가 35 이상인 데이터:\")\n",
    "print(ages[ages >= 35])\n"
   ]
  },
  {
   "cell_type": "markdown",
   "metadata": {},
   "source": [
    "### 실습 데이터 처리"
   ]
  },
  {
   "cell_type": "code",
   "execution_count": null,
   "metadata": {},
   "outputs": [],
   "source": [
    "# 데이터 불러오기\n",
    "\n",
    "# 구분자 csv = , 기존의 열의 이름을 사용하지 않겠다.\n",
    "df = pd.read_csv('nasa_http_sample.csv', sep = ',', header = None, \n",
    "                 names = ['ip', 'dummy1', 'dummy2', 'timesteamp', 'request', 'status', 'size'])\n",
    "df = df.drop(['dummy1','dummy2'], axis = 1)"
   ]
  },
  {
   "cell_type": "code",
   "execution_count": null,
   "metadata": {},
   "outputs": [],
   "source": [
    "print(df)"
   ]
  },
  {
   "cell_type": "code",
   "execution_count": null,
   "metadata": {},
   "outputs": [],
   "source": [
    "# loc 예제 1\n",
    "# 열을 불러온다. df.loc[행, 열]\n",
    "print(df.loc[:, 'ip'])\n"
   ]
  },
  {
   "cell_type": "code",
   "execution_count": null,
   "metadata": {},
   "outputs": [],
   "source": [
    "# 필터링 해서 출력\n",
    "print(df.loc[df['status'] == '200'])"
   ]
  },
  {
   "cell_type": "code",
   "execution_count": null,
   "metadata": {},
   "outputs": [],
   "source": [
    "print(df.loc[df['ip'] == 'burger.letters.com'])"
   ]
  },
  {
   "cell_type": "code",
   "execution_count": null,
   "metadata": {},
   "outputs": [],
   "source": [
    "# 특정 열에 있는 특정 행을 추출!\n",
    "# start stop step\n",
    "print(df.loc[1:3:2,'ip'])"
   ]
  },
  {
   "cell_type": "code",
   "execution_count": null,
   "metadata": {},
   "outputs": [],
   "source": [
    "#df.loc[행에 대한 조건, 열 대한 조건]\n",
    "print(df.loc[df['ip'] == '205.212.115.106','request'])\n",
    "print(df.loc[df['status'] == '404', ['ip','timesteamp']])"
   ]
  },
  {
   "cell_type": "code",
   "execution_count": null,
   "metadata": {},
   "outputs": [],
   "source": [
    "import pandas as pd\n",
    "\n",
    "# 1. 실습: 로그 데이터의 기본 정보 확인하기\n",
    "\n",
    "# a. 데이터 불러오기\n",
    "print(\"a. 데이터 불러오기\")\n",
    "df = pd.read_csv('online_shop_orders.csv')\n",
    "\n",
    "print(\"\\n데이터 미리보기:\")\n",
    "print(df.head())\n",
    "\n",
    "# b. 기본 정보 확인\n",
    "print(\"\\nb. 기본 정보 확인\")\n",
    "print(\"\\n데이터 구조:\")\n",
    "print(df.shape)\n",
    "\n",
    "print(\"\\n수치형 데이터 기술 통계:\")\n",
    "print(df.describe())\n",
    "\n",
    "print(\"\\n열 이름과 데이터 타입:\")\n",
    "print(df.dtypes)\n",
    "\n",
    "# c. loc[]와 iloc[]를 사용한 데이터 탐색\n",
    "print(\"\\nc. loc[]를 사용한 데이터 탐색\")\n",
    "print(df.loc[df['order_date'] == '2023-07-01 09:15:00']) ## ??\n",
    "\n",
    "# loc[]로 특정 열 선택하여 확인\n",
    "print(\"\\n주문 ID와 주문 날짜 열 추출\")\n",
    "print(df.loc[:, ['order_id', 'order_date']])\n",
    "\n",
    "# loc[]를 사용해 조건에 맞는 데이터 선택\n",
    "print(\"\\n총액이 50달러 이상인 주문:\")\n",
    "print(df.loc[df['total'] >= 50])"
   ]
  },
  {
   "cell_type": "code",
   "execution_count": 67,
   "metadata": {},
   "outputs": [],
   "source": [
    "\n",
    "import pandas as pd\n",
    "\n",
    "# 주문 데이터를 데이터프레임으로 생성\n",
    "order_data = {\n",
    "    'order_id': [1001, 1002, 1003, 1004, 1005, 1006, 1007, 1008, 1009, 1010],\n",
    "    'customer_id': ['C001', 'C002', 'C003', 'C001', 'C004', 'C002', 'C005', 'C003', 'C001', 'C004'],\n",
    "    'order_date': ['2023-07-01', '2023-07-01', '2023-07-02', '2023-07-02', '2023-07-03', '2023-07-03', \n",
    "                   '2023-07-04', '2023-07-04', '2023-07-05', '2023-07-05'],\n",
    "    'product_category': ['Electronics', 'Books', 'Clothing', 'Electronics', 'Books', 'Clothing', \n",
    "                         'Electronics', 'Books', 'Clothing', 'Electronics'],\n",
    "    'quantity': [2, 3, 1, 1, 2, 4, 1, 2, 3, 1],\n",
    "    'price': [500, 20, 50, 800, 15, 30, 600, 25, 40, 700],\n",
    "    'total': [1000, 60, 50, 800, 30, 120, 600, 50, 120, 700]\n",
    "}\n",
    "\n",
    "df_orders = pd.DataFrame(order_data)\n",
    "\n",
    "csv_file_path_orders = \"online_shopping_orders.csv\"\n",
    "df_orders.to_csv(csv_file_path_orders, index=False)"
   ]
  }
 ],
 "metadata": {
  "kernelspec": {
   "display_name": "Python 3",
   "language": "python",
   "name": "python3"
  },
  "language_info": {
   "codemirror_mode": {
    "name": "ipython",
    "version": 3
   },
   "file_extension": ".py",
   "mimetype": "text/x-python",
   "name": "python",
   "nbconvert_exporter": "python",
   "pygments_lexer": "ipython3",
   "version": "3.12.3"
  }
 },
 "nbformat": 4,
 "nbformat_minor": 2
}
