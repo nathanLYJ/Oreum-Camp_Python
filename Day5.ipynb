{
 "cells": [
  {
   "cell_type": "markdown",
   "metadata": {},
   "source": [
    "### 함수"
   ]
  },
  {
   "cell_type": "code",
   "execution_count": null,
   "metadata": {},
   "outputs": [],
   "source": [
    "def f(a, b, c):\n",
    "    print(a, b, c)\n",
    "\n",
    "\n",
    "f(100,200,300)\n",
    "f(a=100, b=200, c=300) # 출력: 100 200 300\n",
    "f(c=300, a=100, b=200) # 출력: 100 200 300"
   ]
  },
  {
   "cell_type": "code",
   "execution_count": 13,
   "metadata": {},
   "outputs": [],
   "source": [
    "def append_to_list(value, lst=[]):\n",
    "    lst.append(value)\n",
    "    return lst # 예상치 못한 결과가 발생할 수 있습니다.\n",
    "\n",
    "append_to_list(1) # 출력: [1]\n",
    "append_to_list(2) # 출력: [1, 2], 그러나 결과가 [2]가 나올것으로 예상할수 도 있습니다."
   ]
  },
  {
   "cell_type": "code",
   "execution_count": null,
   "metadata": {},
   "outputs": [],
   "source": [
    "def append_to_list(value, lst=None):\n",
    "    if lst is None:\n",
    "        lst = []\n",
    "    lst.append(value)\n",
    "    return lst\n",
    "\n",
    "append_to_list(1) # 결과: [1]\n",
    "append_to_list(2) # 결과: [2]"
   ]
  },
  {
   "cell_type": "markdown",
   "metadata": {},
   "source": [
    "### locals() 사용"
   ]
  },
  {
   "cell_type": "code",
   "execution_count": null,
   "metadata": {},
   "outputs": [],
   "source": [
    "def f():\n",
    "    a = 1\n",
    "    b = 'hello'\n",
    "    def ff():\n",
    "        pass\n",
    "    print(locals()) # 출력: {'a': 1, 'b': 'hello', 'ff': <function f.<locals>.ff at 0x7a46e99d2c20>}\n",
    "\n",
    "\n",
    "f()"
   ]
  },
  {
   "cell_type": "markdown",
   "metadata": {},
   "source": [
    "### global 사용"
   ]
  },
  {
   "cell_type": "code",
   "execution_count": null,
   "metadata": {},
   "outputs": [],
   "source": [
    "a = 100\n",
    "\n",
    "\n",
    "def f():\n",
    "    global a\n",
    "    a = a + 1\n",
    "\n",
    "\n",
    "f()\n",
    "print(a)  # 출력: 101, 함수 f 내에서 전역 변수 a가 수정되었습니다."
   ]
  },
  {
   "cell_type": "markdown",
   "metadata": {},
   "source": [
    "1. 사용자로부터 이름을 입력받아 \"안녕하세요, [이름]님!\"을 출력하는 함수를 작성하세요.\n",
    "- 접근 방법:\n",
    "    1. 함수를 정의하고 이름을 매개변수로 받습니다.\n",
    "    2. 인사말 문자열을 생성할 때, 이름을 문자열에 포함시킵니다.\n",
    "    3. 생성된 인사말 문자열을 출력합니다."
   ]
  },
  {
   "cell_type": "code",
   "execution_count": null,
   "metadata": {},
   "outputs": [],
   "source": [
    "name = input('당신의 이름이 뭐예요?')\n",
    "def my(name):\n",
    "\tprint(f'안녕하세요,{name}님!')\n",
    "my(name)"
   ]
  },
  {
   "cell_type": "markdown",
   "metadata": {},
   "source": [
    "3. 사용자로부터 전화번호를 입력받아 뒤에서 4자리만 출력하는 함수를 작성하세요.\n",
    "\n",
    "접근 방법:\n",
    "\n",
    "1. 함수를 정의하고 전화번호를 매개변수로 받습니다.\n",
    "2. 전화번호에서 뒤에서 4자리를 추출합니다. (문자열 슬라이싱 사용)\n",
    "3. 추출된 뒤 4자리를 출력합니다."
   ]
  },
  {
   "cell_type": "code",
   "execution_count": null,
   "metadata": {},
   "outputs": [],
   "source": [
    "hp = input('당신의 전화번호 뭐예요?')\n",
    "def my(hp):\n",
    "\tz = hp[-4:]\n",
    "\tprint(f'뒷번호가{z}이신가요?')\n",
    "my(hp)"
   ]
  },
  {
   "cell_type": "markdown",
   "metadata": {},
   "source": [
    "4. 사용자로부터 주소를 입력받아 \"시/도\"와 \"구/군\"을 분리하여 출력하는 함수를 작성하세요. \n",
    "(예: \"서울특별시 강남구\" -> \"시/도: 서울특별시\", \"구/군: 강남구\")\n",
    "- 접근 방법:\n",
    "    1. 함수를 정의하고 주소를 매개변수로 받습니다.\n",
    "    2. 주소를 공백을 기준으로 분리합니다. (문자열의 `split()` 메서드 사용)\n",
    "    3. 분리된 부분에서 시/도와 구/군을 추출하여 출력합니다."
   ]
  },
  {
   "cell_type": "code",
   "execution_count": null,
   "metadata": {},
   "outputs": [],
   "source": [
    "home = input('당신의 집주소가 뭐예요?')\n",
    "def my(home):\n",
    "\tz = home.split()\n",
    "\tprint(f'{z[0]}시 {z[1]}구')\n",
    "my(home)"
   ]
  },
  {
   "cell_type": "markdown",
   "metadata": {},
   "source": [
    "### map 사용"
   ]
  },
  {
   "cell_type": "code",
   "execution_count": null,
   "metadata": {},
   "outputs": [],
   "source": [
    "def 제곱(x):\n",
    "    return x ** 2\n",
    "list(map(제곱, [1, 2, 3, 4])) # 출력: [1, 4, 9, 16]"
   ]
  },
  {
   "cell_type": "markdown",
   "metadata": {},
   "source": [
    "### lambda 함수 활용"
   ]
  },
  {
   "cell_type": "code",
   "execution_count": null,
   "metadata": {},
   "outputs": [],
   "source": [
    "# 두번째 방법\n",
    "list(map(lambda x : x ** 2, [1, 2, 3, 4])) # 출력: [1, 4, 9, 16]"
   ]
  },
  {
   "cell_type": "markdown",
   "metadata": {},
   "source": [
    "### filter 함수"
   ]
  },
  {
   "cell_type": "code",
   "execution_count": null,
   "metadata": {},
   "outputs": [],
   "source": [
    "list(filter(lambda x : x > 50, range(100)))"
   ]
  },
  {
   "cell_type": "markdown",
   "metadata": {},
   "source": [
    "### format 함수"
   ]
  },
  {
   "cell_type": "code",
   "execution_count": null,
   "metadata": {},
   "outputs": [],
   "source": [
    "print(format(10000, ','))\n",
    "print(format(123.4567, '.2f')) # 출력: 123.46\n",
    "print(format('Hello', '^9')) # 출력: '  Hello  '"
   ]
  },
  {
   "cell_type": "markdown",
   "metadata": {},
   "source": [
    "### range 함수"
   ]
  },
  {
   "cell_type": "code",
   "execution_count": null,
   "metadata": {},
   "outputs": [],
   "source": [
    "print(range(1, 10, 2)) # 출력: range(1, 10, 2)\n",
    "list(range(1, 10, 2)) # 출력: [1, 3, 5, 7, 9]\n",
    "range(10)[3]\n",
    "range(10)[3:7]\n",
    "len(range(10))"
   ]
  },
  {
   "cell_type": "markdown",
   "metadata": {},
   "source": [
    "### enumerate 함수"
   ]
  },
  {
   "cell_type": "code",
   "execution_count": null,
   "metadata": {},
   "outputs": [],
   "source": [
    "values = ['A', 'B', 'C', 'D']\n",
    "print(list(enumerate(values)))\n",
    "print(list(enumerate(values, 1)))\n",
    "print(list(enumerate(values, 100)))"
   ]
  },
  {
   "cell_type": "markdown",
   "metadata": {},
   "source": [
    "### sorted, reversed 합수"
   ]
  },
  {
   "cell_type": "code",
   "execution_count": null,
   "metadata": {},
   "outputs": [],
   "source": [
    "print(sorted([1, 2, 100, 200, 3, 4, 10, 20]))\n",
    "print(sorted([1, 2, 100, 200, 3, 4, 10, 20]))\n",
    "print(list(reversed('hello world')))\n",
    "print(list(reversed([1, 2, 3, 10, 5, 4]))) # 역 정렬 아닙니다! 역순입니다.\n",
    "print(list(reversed(sorted([1, 2, 3, 10, 5, 4]))))"
   ]
  },
  {
   "cell_type": "code",
   "execution_count": null,
   "metadata": {},
   "outputs": [],
   "source": [
    "# range(start, stop, step) # 슬라이싱과 비슷한 형태를 지니고 있습니다.\n",
    "print(range(10)) # 값을 가지고 있지 않습니다.\n",
    "print(list(range(10)))\n",
    "x = range(10)\n",
    "print(type(x))\n",
    "print(list(range(0, 10, 2)))\n",
    "print(list(range(10, 0, -2)))\n",
    "# print(list(range(10, 0, 2.1))) # error, numpy 모듈 사용하면 가능합니다.\n",
    "# print(list(range(10.1, 2.0, 2))) # error, numpy 모듈 사용하면 가능합니다.\n",
    "print(list(range(0, 10, -2)))"
   ]
  },
  {
   "cell_type": "markdown",
   "metadata": {},
   "source": [
    "### replit\n",
    "[replit 링크](https://replit.com/)"
   ]
  },
  {
   "cell_type": "code",
   "execution_count": null,
   "metadata": {},
   "outputs": [],
   "source": []
  }
 ],
 "metadata": {
  "kernelspec": {
   "display_name": "Python 3",
   "language": "python",
   "name": "python3"
  },
  "language_info": {
   "codemirror_mode": {
    "name": "ipython",
    "version": 3
   },
   "file_extension": ".py",
   "mimetype": "text/x-python",
   "name": "python",
   "nbconvert_exporter": "python",
   "pygments_lexer": "ipython3",
   "version": "3.12.3"
  }
 },
 "nbformat": 4,
 "nbformat_minor": 2
}
