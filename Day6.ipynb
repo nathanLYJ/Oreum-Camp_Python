{
 "cells": [
  {
   "cell_type": "markdown",
   "metadata": {},
   "source": [
    "### 조건문"
   ]
  },
  {
   "cell_type": "code",
   "execution_count": null,
   "metadata": {},
   "outputs": [],
   "source": [
    "x = 2\n",
    "if x > 1:\n",
    "    print('True') # 출력: True\n",
    "if True:\n",
    "    print('True') # 출력: True\n",
    "if 1:\n",
    "    print('hello')# 출력: True = 1"
   ]
  },
  {
   "cell_type": "markdown",
   "metadata": {},
   "source": [
    "### 조건문 실습"
   ]
  },
  {
   "cell_type": "code",
   "execution_count": null,
   "metadata": {},
   "outputs": [],
   "source": [
    "# 입구 입장 안내 도우미\n",
    "user_count = 0\n",
    "def nop():\n",
    "    global user_count\n",
    "    user_count += 1\n",
    "while True:\t\n",
    "    x = input('참여하겠습니까?(y/n): ')   \n",
    "    if x == 'y':\n",
    "        print('환영합니다')\n",
    "        nop()\n",
    "    elif x == 'n':\n",
    "        print('다음에 또 오세요!')\n",
    "    elif x == '' : #TODO시간초과시 자동 총인원 안내 및 종료\n",
    "           if user_count <= 4 :\n",
    "               print(f'총 {user_count}명이 입장하셨습니다.')\n",
    "           else:\n",
    "               print(f'단체 손님 {user_count}명이 입장하셨습니다, 단체석에 안내해드리겠습니다')\n",
    "               break\n",
    "    else:\n",
    "        print('잘못된 입력입니다. y 또는 n을 입력하세요.')"
   ]
  },
  {
   "cell_type": "markdown",
   "metadata": {},
   "source": [
    "### 삼항 연산자"
   ]
  },
  {
   "cell_type": "code",
   "execution_count": null,
   "metadata": {},
   "outputs": [],
   "source": [
    "x = 5\n",
    "y = 10\n",
    "result = 'x가 더 큽니다' if x > y else 'y와 같거나 y가 더 큽니다.'\n",
    "print(result) # 출력: 'y와 같거나 y가 더 큽니다.'"
   ]
  },
  {
   "cell_type": "code",
   "execution_count": 6,
   "metadata": {},
   "outputs": [],
   "source": [
    "def f(x, y):\n",
    "    return x if x > y else y"
   ]
  },
  {
   "cell_type": "code",
   "execution_count": null,
   "metadata": {},
   "outputs": [],
   "source": [
    "[i for i in range(10) if i % 2 == 0] # [0, 2, 4, 6, 8]"
   ]
  },
  {
   "cell_type": "code",
   "execution_count": null,
   "metadata": {},
   "outputs": [],
   "source": [
    "\n",
    "[i if i % 2 == 0 else None for i in range(10)] # [0, None, 2, None, 4, None, 6, None, 8, None]"
   ]
  },
  {
   "cell_type": "code",
   "execution_count": 2,
   "metadata": {},
   "outputs": [
    {
     "name": "stdout",
     "output_type": "stream",
     "text": [
      "성인입니다\n"
     ]
    }
   ],
   "source": [
    "age = int(input('나이를 입력해주세요: '))\n",
    "\n",
    "result = '성인입니다' if age >= 19 else '미성년자입니다'\n",
    "print(result)"
   ]
  },
  {
   "cell_type": "markdown",
   "metadata": {},
   "source": [
    "### 람다 함수"
   ]
  },
  {
   "cell_type": "code",
   "execution_count": 11,
   "metadata": {},
   "outputs": [
    {
     "name": "stdout",
     "output_type": "stream",
     "text": [
      "Odd\n",
      "Even\n"
     ]
    }
   ],
   "source": [
    "my_function = lambda x: 'Even' if x % 2 == 0 else 'Odd'\n",
    "print(my_function(1)) # Odd\n",
    "print(my_function(2)) # Even"
   ]
  },
  {
   "cell_type": "code",
   "execution_count": null,
   "metadata": {},
   "outputs": [],
   "source": [
    "participant_count = 0\n",
    "increment_participants = lambda: globals().__setitem__('participant_count', participant_count + 1)\n",
    "handle_input = lambda x: (\n",
    "    increment_participants() if x == 'y' else\n",
    "    print('다음에 또 오세요!') if x == 'n' else\n",
    "    print(f'총 {participant_count}명이 참여했습니다.') if x == '' else\n",
    "    print('잘못된 입력입니다. y 또는 n을 입력하세요.')\n",
    ")\n",
    "while True:\n",
    "    x = input('참여하겠습니까?(y/n): ')    \n",
    "    handle_input(x)\n",
    "    if x == 'n' or x == '':\n",
    "        break\n"
   ]
  },
  {
   "cell_type": "markdown",
   "metadata": {},
   "source": [
    "### 기본"
   ]
  },
  {
   "cell_type": "code",
   "execution_count": null,
   "metadata": {},
   "outputs": [],
   "source": [
    "def check_even_or_odd(number):\n",
    "    if number % 2 == 0:\n",
    "        return \"짝수\"\n",
    "    else:\n",
    "        return \"홀수\"\n",
    "\n",
    "# 예시 사용\n",
    "print(check_even_or_odd(4))  # 출력: 짝수\n",
    "print(check_even_or_odd(7))  # 출력: 홀수\n"
   ]
  },
  {
   "cell_type": "markdown",
   "metadata": {},
   "source": [
    "### 람다 응용"
   ]
  },
  {
   "cell_type": "code",
   "execution_count": null,
   "metadata": {},
   "outputs": [],
   "source": [
    "check_even_or_odd = lambda number: \"짝수\" if number % 2 == 0 else \"홀수\"\n",
    "\n",
    "# 예시 사용\n",
    "print(check_even_or_odd(4))  # 출력: 짝수\n",
    "print(check_even_or_odd(7))  # 출력: 홀수\n"
   ]
  },
  {
   "cell_type": "markdown",
   "metadata": {},
   "source": [
    "* 설명\n",
    "- 기본적인 조건문 사용: check_even_or_odd 함수는 입력된 숫자가 짝수인 경우 \"짝수\"를, 그렇지 않은 경우 \"홀수\"를 반환합니다. if 조건문을 사용하여 숫자가 2로 나누어 떨어지는지 (number % 2 == 0) 확인합니다.\n",
    "\n",
    "- 람다 함수와 조건문 사용: 동일한 로직을 람다 함수로 구현한 check_even_or_odd는 람다 함수 내에서 if 조건식을 사용합니다. 조건식은 number % 2 == 0 조건이 참이면 \"짝수\"를, 그렇지 않으면 \"홀수\"를 반환합니다."
   ]
  },
  {
   "cell_type": "markdown",
   "metadata": {},
   "source": [
    "### 조건문과 딕셔너리"
   ]
  },
  {
   "cell_type": "code",
   "execution_count": null,
   "metadata": {},
   "outputs": [],
   "source": [
    "my_dict = {x: 'Even' if x % 2 == 0 else 'Odd' for x in range(10)}\n",
    "print(my_dict)"
   ]
  },
  {
   "cell_type": "markdown",
   "metadata": {},
   "source": [
    "### 기본 학점 계산"
   ]
  },
  {
   "cell_type": "code",
   "execution_count": 18,
   "metadata": {},
   "outputs": [
    {
     "name": "stdout",
     "output_type": "stream",
     "text": [
      "F\n"
     ]
    }
   ],
   "source": [
    "score = int(input(\"성적을 입력하세요 (0-100): \"))\n",
    "\n",
    "\n",
    "if score >= 90:\n",
    "    print(\"A\")\n",
    "elif 90 > score >= 80:\n",
    "    print(\"B\")\n",
    "elif 80 > score >= 70:\n",
    "    print(\"C\")\n",
    "elif 70 > score >= 60:\n",
    "    print(\"D\")\n",
    "else:\n",
    "    print(\"F\")"
   ]
  },
  {
   "cell_type": "markdown",
   "metadata": {},
   "source": [
    "### 람다 학점 계산"
   ]
  },
  {
   "cell_type": "code",
   "execution_count": 19,
   "metadata": {},
   "outputs": [
    {
     "name": "stdout",
     "output_type": "stream",
     "text": [
      "F\n"
     ]
    }
   ],
   "source": [
    "# 람다 함수로 성적 평가 함수 정의\n",
    "grade = lambda score: (\n",
    "    \"A\" if score >= 90 else\n",
    "    \"B\" if score >= 80 else\n",
    "    \"C\" if score >= 70 else\n",
    "    \"D\" if score >= 60 else\n",
    "    \"F\"\n",
    ")\n",
    "\n",
    "# 사용자 입력 받기\n",
    "score = int(input(\"성적을 입력하세요 (0-100): \"))\n",
    "\n",
    "# 람다 함수 사용하여 성적 평가 및 출력\n",
    "print(grade(score))\n"
   ]
  },
  {
   "cell_type": "markdown",
   "metadata": {},
   "source": [
    "### 조건문 종첩"
   ]
  },
  {
   "cell_type": "code",
   "execution_count": null,
   "metadata": {},
   "outputs": [],
   "source": [
    "# if를 중첩해서 사용하기\n",
    "movie = {\n",
    "    '영화': '레미제라블',\n",
    "    '장르': '드라마',\n",
    "    '서비스': '디즈니',\n",
    "    '비용': 15000,\n",
    "    '평점': 4.9\n",
    "}\n",
    "\n",
    "\n",
    "if movie['장르'] == '드라마':\n",
    "    if movie['서비스'] == '디즈니' or movie['서비스'] == '넷플릭스':\n",
    "        if movie['평점'] >= 4.5:\n",
    "            if movie['비용'] <= 20000:\n",
    "                print('영화시청') # 출력: 영화시청"
   ]
  },
  {
   "cell_type": "code",
   "execution_count": 26,
   "metadata": {},
   "outputs": [
    {
     "name": "stdout",
     "output_type": "stream",
     "text": [
      "영화시청\n"
     ]
    }
   ],
   "source": [
    "# if를 중첩해서 사용하기\n",
    "# 간략해진 것 맞나요?\n",
    "movie = {\n",
    "    '영화': '레미제라블',\n",
    "    '장르': '드라마',\n",
    "    '서비스': '디즈니',\n",
    "    '비용': 15000,\n",
    "    '평점': 4.9\n",
    "}\n",
    "\n",
    "\n",
    "if movie['장르'] == '드라마' and (movie['서비스'] == '디즈니' or movie['서비스'] == '넷플릭스') and movie['평점'] >= 4.5 and movie['비용'] <= 20000:\n",
    "    print('영화시청') # 출력: 영화시청"
   ]
  },
  {
   "cell_type": "code",
   "execution_count": 29,
   "metadata": {},
   "outputs": [
    {
     "name": "stdout",
     "output_type": "stream",
     "text": [
      "왓챠 구독하기!\n"
     ]
    }
   ],
   "source": [
    "movie = {\n",
    "    '영화': '레미제라블',\n",
    "    '장르': '드라마',\n",
    "    '서비스': '왓챠',\n",
    "    '비용': 15000,\n",
    "    '평점': 4.9\n",
    "}\n",
    "\n",
    "\n",
    "if movie['장르'] == '드라마':\n",
    "    if movie['서비스'] == '디즈니' or movie['서비스'] == '넷플릭스':\n",
    "        if movie['평점'] >= 4.5 and movie['비용'] <= 20000:\n",
    "            print('영화시청')\n",
    "    else:\n",
    "        print(movie['서비스'] + ' 구독하기!') # 출력: 왓챠 구독하기!"
   ]
  },
  {
   "cell_type": "code",
   "execution_count": 29,
   "metadata": {},
   "outputs": [
    {
     "name": "stdout",
     "output_type": "stream",
     "text": [
      "왓챠 구독하기!\n"
     ]
    }
   ],
   "source": [
    "movie = {\n",
    "    '영화': '레미제라블',\n",
    "    '장르': '드라마',\n",
    "    '서비스': '왓챠',\n",
    "    '비용': 15000,\n",
    "    '평점': 4.9\n",
    "}\n",
    "\n",
    "if all([\n",
    "    movie['장르'] == '드라마',\n",
    "    movie['서비스'] in ['디즈니', '넷플릭스', '왓챠'],\n",
    "    movie['평점'] >= 4.5,\n",
    "    movie['비용'] <= 20000\n",
    "]):\n",
    "    print(movie['서비스'] + ' 구독하기!') # 출력: 왓챠 구독하기!\n"
   ]
  },
  {
   "cell_type": "code",
   "execution_count": 3,
   "metadata": {},
   "outputs": [
    {
     "name": "stdout",
     "output_type": "stream",
     "text": [
      "청년\n"
     ]
    }
   ],
   "source": [
    "# else 다음에 괄호를 쳐서 또다른 삼항연산자를 적으면 elif쓰는것과 동일한 효과를 볼 수 있습니다.\n",
    "age = 39\n",
    "print(\"미성년자\") if age < 20 else (print(\"청년\") if age < 40 else print(\"성인\"))"
   ]
  },
  {
   "cell_type": "code",
   "execution_count": 4,
   "metadata": {},
   "outputs": [
    {
     "name": "stdout",
     "output_type": "stream",
     "text": [
      "False\n"
     ]
    }
   ],
   "source": [
    "if 4 =='4':\n",
    "\tprint(True)\n",
    "else:\n",
    "\tprint(False)"
   ]
  },
  {
   "cell_type": "markdown",
   "metadata": {},
   "source": [
    "### 거스름돈 계산기"
   ]
  },
  {
   "cell_type": "code",
   "execution_count": null,
   "metadata": {},
   "outputs": [],
   "source": [
    "# 2시 12분 까지!!\n",
    "# 카페 소개 print(\"\") \n",
    "print(\"안녕하세요~~ 카페 입니다.\")\n",
    "# 입력값 1. 현재 가지고 있는 돈 입력\n",
    "\n",
    "user_money = int(input('현재 얼마 있나요?'))\n",
    "# 입력값 2. 커피 선택 \n",
    "user_selection = input('어떤 커피를 원해요?(600원,1000원,1500원)')\n",
    "if user_selection == '600원':\n",
    "\tif user_money < 600:\n",
    "\t\tprint(f'최소한{600-user_money}원 더 넣셔야 커피를 살수있어요')\n",
    "\telse:\n",
    "\t\tprint(f'거스름돈 {user_money - 600} 입니다')\n",
    "elif user_selection == '1000원':\n",
    "\tif user_money < 1000 :\n",
    "\t\tprint(f'최소한{1000-user_money}원 더 넣셔야 커피를 살수있어요')\n",
    "\t\n",
    "\t\tprint(f'거스름돈 {user_money - 1000} 입니다')\n",
    "elif user_selection == '1500원':\n",
    "\tif user_money < 1500 :\n",
    "\t\tprint(f'최소한{1500-user_money}원 더 넣셔야 커피를 살수있어요')\n",
    "\telse:\n",
    "\t\tprint(f'거스름돈 {user_money - 1500} 입니다')\n",
    "else:\n",
    "\tprint('당신이 선택한 메뉴는 우리 가게에서 취급하지 않습니다')"
   ]
  },
  {
   "cell_type": "markdown",
   "metadata": {},
   "source": [
    "### ID 생성, 계정 수집, 로그인, 비번 확인"
   ]
  },
  {
   "cell_type": "code",
   "execution_count": 38,
   "metadata": {},
   "outputs": [
    {
     "name": "stdout",
     "output_type": "stream",
     "text": [
      "로그인 성공\n"
     ]
    }
   ],
   "source": [
    "import re\n",
    "import os\n",
    "import json\n",
    "\n",
    "def check_password_strength(password):\n",
    "    strength = 0\n",
    "    suggestions = []\n",
    "\n",
    "    # 길이 검사\n",
    "    if len(password) >= 12:\n",
    "        strength += 2\n",
    "    elif len(password) >= 8:\n",
    "        strength += 1\n",
    "    else:\n",
    "        suggestions.append(\"길이를 확인하세요. 비밀번호는 최소 8자 이상입니다.\")\n",
    "\n",
    "    # 대문자 검사\n",
    "    if re.search(r'[A-Z]', password):\n",
    "        strength += 1\n",
    "    else:\n",
    "        suggestions.append(\"대문자를 포함하세요.\")\n",
    "\n",
    "    # 숫자 검사\n",
    "    if any(char.isdigit() for char in password):\n",
    "        strength += 1\n",
    "    else:\n",
    "        suggestions.append(\"숫자를 포함하세요.\")\n",
    "\n",
    "    # 소문자 검사\n",
    "    if re.search(r'[a-z]', password):\n",
    "        strength += 1\n",
    "    else:\n",
    "        suggestions.append(\"소문자를 포함하세요.\")\n",
    "\n",
    "    # 특수문자 검사\n",
    "    if re.search(r\"[!@#$%^&*(),.?\\\":{}|<>]\", password):\n",
    "        strength += 1\n",
    "    else:\n",
    "        suggestions.append(\"특수문자를 포함하세요.\")\n",
    "\n",
    "    # 강도 평가\n",
    "    if strength == 6:\n",
    "        return \"매우 강함\", suggestions\n",
    "    elif strength == 5:\n",
    "        return \"강함\", suggestions\n",
    "    elif strength == 4:\n",
    "        return \"보통\", suggestions\n",
    "    elif strength == 3:\n",
    "        return \"약함\", suggestions\n",
    "    else:\n",
    "        return \"매우 약함\", suggestions\n",
    "\n",
    "def create_account(accounts):\n",
    "    # 사용자로부터 입력 받기\n",
    "    username = input('ID를 입력해주세요: ')\n",
    "    password = input('PASSWORD를 입력해주세요: ')\n",
    "    password2 = input('PASSWORD 확인을 위해 다시 입력해주세요: ')\n",
    "\n",
    "    # 비밀번호 일치 여부 확인\n",
    "    if password != password2:\n",
    "        print('비밀번호가 일치하지 않습니다. 다시 확인해주세요.')\n",
    "        return\n",
    "\n",
    "    # 비밀번호 강도 검사\n",
    "    strength, suggestions = check_password_strength(password)\n",
    "    print(f\"비밀번호 강도: {strength}\")\n",
    "    if suggestions:\n",
    "        print(\"개선 제안:\", \", \".join(suggestions))\n",
    "\n",
    "    if strength in [\"약함\", \"매우 약함\"]:\n",
    "        print(\"비밀번호가 너무 약합니다. 강도를 높여주세요.\")\n",
    "        return\n",
    "\n",
    "    # 계정 사전에 사용자 정보 저장\n",
    "    accounts[username] = password\n",
    "    print(f'계정이 성공적으로 생성되었습니다! 사용자명: {username}')\n",
    "\n",
    "    # 계정 데이터를 파일에 저장\n",
    "    save_accounts(accounts)\n",
    "\n",
    "def login(accounts):\n",
    "    # 사용자로부터 입력 받기\n",
    "    username = input('ID를 입력해주세요: ')\n",
    "    password = input('PASSWORD를 입력해주세요: ')\n",
    "\n",
    "    # 로그인 로직\n",
    "    if username in accounts and accounts[username] == password:\n",
    "        return \"로그인 성공\"\n",
    "    elif username not in accounts:\n",
    "        return \"ID를 확인해주십시오.\"\n",
    "    else:\n",
    "        return \"비밀번호가 틀립니다.\"\n",
    "\n",
    "def save_accounts(accounts):\n",
    "    # 계정 데이터를 accounts.json 파일에 저장\n",
    "    with open('accounts.json', 'w') as f:\n",
    "        json.dump(accounts, f)\n",
    "\n",
    "def load_accounts():\n",
    "    # 파일에서 계정 데이터를 불러와 반환\n",
    "    if os.path.exists('accounts.json'):\n",
    "        with open('accounts.json', 'r') as f:\n",
    "            return json.load(f)\n",
    "    else:\n",
    "        return {}\n",
    "\n",
    "def main():\n",
    "    # 초기에 파일에서 계정 데이터 불러오기\n",
    "    accounts = load_accounts()\n",
    "\n",
    "    while True:\n",
    "        choice = input(\"1. 계정 생성\\n2. 로그인\\n3. 종료\\n선택: \")\n",
    "        if choice == '1':\n",
    "            create_account(accounts)\n",
    "        elif choice == '2':\n",
    "            login_result = login(accounts)\n",
    "            print(login_result)\n",
    "        elif choice == '3':\n",
    "            # 프로그램 종료 전에 계정 데이터를 파일에 저장\n",
    "            save_accounts(accounts)\n",
    "            break\n",
    "        else:\n",
    "            print(\"올바른 선택을 해주세요.\")\n",
    "\n",
    "if __name__ == \"__main__\":\n",
    "    main()\n",
    "\n"
   ]
  },
  {
   "cell_type": "code",
   "execution_count": 17,
   "metadata": {},
   "outputs": [
    {
     "name": "stdout",
     "output_type": "stream",
     "text": [
      "비밀번호 강도: 매우 강함\n",
      "개선 제안: 없음\n"
     ]
    }
   ],
   "source": [
    "import re\n",
    "\n",
    "def check_password_strength(password):\n",
    "    strength = 0\n",
    "    suggestions = []\n",
    "\n",
    "# 길이 검사\n",
    "    if len(password) >= 12:\n",
    "        strength += 2\n",
    "    elif len(password) >= 8:\n",
    "        strength += 1\n",
    "    else:\n",
    "        suggestions.append(\"길이를 확인하세요. 비밀번호는 최소 8자 이상입니다.\")\n",
    "\n",
    "# 대문자 검사\n",
    "    if re.search(r'[A-Z]', password):\n",
    "        strength += 1\n",
    "    else:\n",
    "        suggestions.append(\"대문자를 포함하세요.\")\n",
    "\n",
    "\n",
    "# 숫자 검사\n",
    "    if any(char.isdigit() for char in password):\n",
    "        strength += 1\n",
    "    else:\n",
    "        suggestions.append(\"숫자를 포함하세요.\")\n",
    "\n",
    "# 소문자 검사\n",
    "    if re.search(r'[a-z]', password):\n",
    "        strength += 1\n",
    "    else:\n",
    "        suggestions.append(\"소문자를 포함하세요.\")\n",
    "\n",
    "# 특수문자 검사\n",
    "    if re.search(r\"[!@#$%^&*(),.?\\\":{}|<>]\", password):\n",
    "        strength += 1\n",
    "    else:\n",
    "        suggestions.append(\"특수문자를 포함하세요.\")\n",
    "\n",
    "# 강도 평가\n",
    "    if strength == 6:\n",
    "        return \"매우 강함\", suggestions\n",
    "    elif strength == 5:\n",
    "        return \"강함\", suggestions\n",
    "    elif strength == 4:\n",
    "        return \"보통\", suggestions\n",
    "    elif strength == 3:\n",
    "        return \"약함\", suggestions\n",
    "    else:\n",
    "        return \"매우 약함\", suggestions\n",
    "    \n",
    "# 메인 프로그램\n",
    "password = input(\"비밀번호를 입력하세요: \")\n",
    "strength, suggestions = check_password_strength(password)\n",
    "print(f\"비밀번호 강도: {strength}\")\n",
    "print(\"개선 제안:\", \", \".join(suggestions) if suggestions else \"없음\")"
   ]
  }
 ],
 "metadata": {
  "kernelspec": {
   "display_name": "Python 3",
   "language": "python",
   "name": "python3"
  },
  "language_info": {
   "codemirror_mode": {
    "name": "ipython",
    "version": 3
   },
   "file_extension": ".py",
   "mimetype": "text/x-python",
   "name": "python",
   "nbconvert_exporter": "python",
   "pygments_lexer": "ipython3",
   "version": "3.12.3"
  }
 },
 "nbformat": 4,
 "nbformat_minor": 2
}
