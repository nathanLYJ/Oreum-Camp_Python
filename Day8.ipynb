{
 "cells": [
  {
   "cell_type": "markdown",
   "metadata": {},
   "source": [
    "### 주석"
   ]
  },
  {
   "cell_type": "code",
   "execution_count": null,
   "metadata": {},
   "outputs": [],
   "source": [
    "s = '''hello world hello world hello world'''\n",
    "print(s)\n",
    "x = 10\n",
    "y = f'''hello world {10} hello world'''\n",
    "z = r'hello world \\n hello world'# r은 raw에 약자입니다. 주로 정규표현식에서 많이 사용해요.\n",
    "print(z)"
   ]
  },
  {
   "cell_type": "markdown",
   "metadata": {},
   "source": [
    "### 변수\n",
    "* 함수 내부 변수는 함수 밖의 변수를 간섭할 수 없다\n",
    "* 메서드는 외부 변수를 연결 시켜줄 수 있다\n",
    "* 변수는 화살표이다.\n",
    "* 교안링크: https://www.books.weniv.co.kr/python/chapter03/03-1"
   ]
  },
  {
   "cell_type": "code",
   "execution_count": null,
   "metadata": {},
   "outputs": [],
   "source": [
    "x = 10\n",
    "y = x\n",
    "z = y\n",
    "\n",
    "x = 20\n",
    "\n",
    "x, y, z"
   ]
  },
  {
   "cell_type": "code",
   "execution_count": null,
   "metadata": {},
   "outputs": [],
   "source": [
    "hujun = print\n",
    "hujun('hello')"
   ]
  },
  {
   "cell_type": "code",
   "execution_count": null,
   "metadata": {},
   "outputs": [],
   "source": [
    "x = 10\n",
    "def f(x):\n",
    "    x = 100\n",
    "\n",
    "f(x)\n",
    "x"
   ]
  },
  {
   "cell_type": "code",
   "execution_count": null,
   "metadata": {},
   "outputs": [],
   "source": [
    "x = 10\n",
    "def f():\n",
    "    y = x + x\n",
    "    return y\n",
    "\n",
    "f()"
   ]
  },
  {
   "cell_type": "code",
   "execution_count": 15,
   "metadata": {},
   "outputs": [
    {
     "data": {
      "text/plain": [
       "[10, 20, 30, 100]"
      ]
     },
     "execution_count": 15,
     "metadata": {},
     "output_type": "execute_result"
    }
   ],
   "source": [
    "l = [10, 20, 30]\n",
    "def f(l):\n",
    "    l.append(100)\n",
    "\n",
    "f(l)\n",
    "l"
   ]
  },
  {
   "cell_type": "markdown",
   "metadata": {},
   "source": [
    "### 정수와 사칙연산"
   ]
  },
  {
   "cell_type": "code",
   "execution_count": null,
   "metadata": {},
   "outputs": [],
   "source": [
    "x = 3\n",
    "y = 4\n",
    "\n",
    "x + y\n",
    "x - y\n",
    "x // y\n",
    "x / y\n",
    "x * y\n",
    "x ** y\n",
    "x % y"
   ]
  },
  {
   "cell_type": "code",
   "execution_count": null,
   "metadata": {},
   "outputs": [],
   "source": [
    "x = -10\n",
    "y = 3\n",
    "\n",
    "x // y"
   ]
  },
  {
   "cell_type": "code",
   "execution_count": null,
   "metadata": {},
   "outputs": [],
   "source": [
    "# 부동소수점 문제\n",
    "0.1 + 0.2"
   ]
  },
  {
   "cell_type": "code",
   "execution_count": null,
   "metadata": {},
   "outputs": [],
   "source": [
    "s = 0\n",
    "for i in range(10):\n",
    "    s += 0.1\n",
    "\n",
    "s\n",
    "\n",
    "# 0.1은 2진수로 표현하면 무한대수가 됩니다."
   ]
  },
  {
   "cell_type": "code",
   "execution_count": null,
   "metadata": {},
   "outputs": [],
   "source": [
    "float(\"inf\")\n",
    "-float(\"inf\")\n",
    "float(\"-inf\")"
   ]
  },
  {
   "cell_type": "markdown",
   "metadata": {},
   "source": [
    "### 문자열 \n",
    "인덱싱, 슬라이싱, 메서드\n",
    "\n",
    "79자 이내로 권장합니다\n",
    "\n",
    "문자열은 백엔드 개발자에게 가장 중요한 데이터 구조입니다.\n",
    "\n",
    "각각의 분야마다 중요하게 다루는 자료형이 조금씩 다릅니다. 예를 들어 백엔드 개발자에게는 클래스의 원리를 파악하는 것이 매우 중요합니다. 그러나 데이터분석가에게는 그리 중요하지 않습니다.\n",
    "데이터분석가에게 가장 중요한 데이터구조는 정수, 실수 입니다.\n",
    "\n",
    "인공지능은 행렬의 연산이다.\n"
   ]
  },
  {
   "cell_type": "code",
   "execution_count": null,
   "metadata": {},
   "outputs": [],
   "source": [
    "x = 'hello'\n",
    "y = 'world'\n",
    "print(x + y)"
   ]
  },
  {
   "cell_type": "code",
   "execution_count": 18,
   "metadata": {},
   "outputs": [
    {
     "data": {
      "text/plain": [
       "'https://colab.research.google.com/drive/1M8oUP48zzG2Qfq1o9uR1Y3jqh9sBQN6O#scrollTo=U769ycDXTj5n'"
      ]
     },
     "execution_count": 18,
     "metadata": {},
     "output_type": "execute_result"
    }
   ],
   "source": [
    "# 보통 URL 구조에서 넘어갑니다.\n",
    "# https://colab.research.google.com/drive/1M8oUP48zzG2Qfq1o9uR1Y3jqh9sBQN6O#scrollTo=U769ycDXTj5n\n",
    "URL = 'https://colab.research.google.com/drive/1M8oUP48zzG2Qfq1o9uR1Y3jqh9sBQN6O#scrollTo=U769ycDXTj5n' # X\n",
    "\n",
    "URL1 = 'https://colab.research.google.com/drive/'\n",
    "URL2 = '1M8oUP48zzG2Qfq1o9uR1Y3jqh9sBQN6O#scrollTo=U769ycDXTj5n'\n",
    "URL1 + URL2 # 세모\n",
    "\n",
    "# (URL1 URL2)\n",
    "\n",
    "URL = ('https://colab.research.google.com/drive/'\n",
    "        '1M8oUP48zzG2Qfq1o9uR1Y3jqh9sBQN6O#scrollTo=U769ycDXTj5n')\n",
    "URL # 동그라미"
   ]
  },
  {
   "cell_type": "code",
   "execution_count": null,
   "metadata": {},
   "outputs": [],
   "source": [
    "# 문제: hello를 옆으로 3칸 움직인 문자열은 무엇일까요?\n",
    "# 'hello'\n",
    "# 'lohel'\n",
    "\n",
    "('hello' * 2)[3:8]"
   ]
  },
  {
   "cell_type": "code",
   "execution_count": null,
   "metadata": {},
   "outputs": [],
   "source": [
    "'hello'[3]\n",
    "'hello'[-3] == 'hello'[2] # 내부 로직은 오른쪽과 같이 처리됩니다.\n",
    "# 마이너스 인덱싱, 마이너스 슬라이싱은 실제로 양수로 변환되어 인덱싱 되는 것입니다."
   ]
  },
  {
   "cell_type": "code",
   "execution_count": null,
   "metadata": {},
   "outputs": [],
   "source": [
    "# 'hello'[100]\n",
    "'hello'[100:101]"
   ]
  },
  {
   "cell_type": "code",
   "execution_count": null,
   "metadata": {},
   "outputs": [],
   "source": [
    "'hello'.find('z') # find는 error를 주지 않으니 find를 쓰는 것이 좋겠네요?"
   ]
  },
  {
   "cell_type": "code",
   "execution_count": null,
   "metadata": {},
   "outputs": [],
   "source": [
    "s = 'hello world'\n",
    "\n",
    "if s.find('z'): # 큰 문제가 발생!!!!? # 애러도 못잡아요.ㅜㅜ\n",
    "    print('hello')"
   ]
  },
  {
   "cell_type": "code",
   "execution_count": null,
   "metadata": {},
   "outputs": [],
   "source": [
    "s = 'hello world'\n",
    "test = 'hello world!!!'\n",
    "\n",
    "if s.find('z'): # 큰 문제가 발생!!!!? # 애러도 못잡아요.ㅜㅜ\n",
    "    print(test[s.find('z')])"
   ]
  },
  {
   "cell_type": "code",
   "execution_count": null,
   "metadata": {},
   "outputs": [],
   "source": [
    "print(s[0:5])\n",
    "print(s[6:])\n",
    "print(s[:])\n",
    "print(s[::-1])"
   ]
  },
  {
   "cell_type": "code",
   "execution_count": null,
   "metadata": {},
   "outputs": [],
   "source": [
    "# find() / index()\n",
    "# count()\n",
    "# strip()\n",
    "# replace() => 정규표현식을 좀 더 자주 사용해요. 여러분이 있는 분야에 따라 좀 다를 수 있어요.\n",
    "# split() / join()\n",
    "# 9 => '01001' => ' #  #'"
   ]
  },
  {
   "cell_type": "code",
   "execution_count": null,
   "metadata": {},
   "outputs": [],
   "source": [
    "bin(9 | 30)\n",
    "bin(9 | 30)[2:]\n",
    "bin(9 | 30)[2:].replace('1', '#').replace('0', ' ')"
   ]
  },
  {
   "cell_type": "code",
   "execution_count": null,
   "metadata": {},
   "outputs": [],
   "source": [
    "# [9, 20, 28, 18, 11]\n",
    "# [30, 1, 21, 17, 28]\n",
    "[\n",
    "    bin(9 | 30)[2:].replace('1', '#').replace('0', ' '),\n",
    "    bin(20 | 1)[2:].replace('1', '#').replace('0', ' '),\n",
    "    bin(28 | 21)[2:].replace('1', '#').replace('0', ' '),\n",
    "    bin(18 | 17)[2:].replace('1', '#').replace('0', ' '),\n",
    "    bin(11 | 28)[2:].replace('1', '#').replace('0', ' '),\n",
    "]\n",
    "\n",
    "# 우리가 원하는 결과값: [\"#####\",\"# # #\", \"### #\", \"# ##\", \"#####\"]"
   ]
  },
  {
   "cell_type": "code",
   "execution_count": null,
   "metadata": {},
   "outputs": [],
   "source": [
    "# 이렇게 replace를 여러번 사용한 것이 메서드 채이닝입니다.\n",
    "'abcabcdef'.replace('a', '1')\n",
    "'abcabcdef'.replace('a', '1').replace('b', '2')\n",
    "'abcabcdef'.replace('a', '1').replace('b', '2').replace('c', '3')"
   ]
  },
  {
   "cell_type": "markdown",
   "metadata": {},
   "source": [
    "### 실습"
   ]
  },
  {
   "cell_type": "code",
   "execution_count": null,
   "metadata": {},
   "outputs": [],
   "source": [
    "# 문제1 '12t34w12z34s23e16'에서 3보다 작은 수를 모두 더하는 코드를 작성해주세요.\n",
    "s1 = '12t34w12z34s23e16'\n",
    "total = 0\n",
    "\n",
    "for i in s1:\n",
    "\tif i.isdigit():\n",
    "\t\t\tif int(i) < 3:\n",
    "\t\t\t\ttotal += int(i)\n",
    "print(total)\n",
    "\n",
    "# 간략화\n",
    "total = 0\n",
    "for i in s1:\n",
    "\tif i.isdigit() and int(i) < 3:\n",
    "\t\t\t\ttotal += int(i)\n",
    "print(total)\n",
    "\n",
    "# 다른 방법\n",
    "result = sum(map(int, filter(lambda x: x.isdigit() and int(x) < 3, s)))\n",
    "\n",
    "# 리스트컴프리헨션\n",
    "result = sum([int(x) for x in s if x.isdigit() and int(x) < 3])\n",
    "\n",
    "\n",
    "# 문제2 '010.5044.2903'을 '5044-2903'으로 출력해주세요.\n",
    "s2 ='010.5044.2903'\n",
    "print(s2.replace('.', '-')[4:]) # 방법 1\n",
    "print(s2[s2.index('.')+1:].replace('.', '-')) # 방법 2\n",
    "print('-'.join('010.5044.2903'.split('.')[1:])) # 방법 3\n",
    "\n",
    "\n",
    "# 문제3 '192819283182'에서 중복된 숫자를 모두 제거하고 모든 숫자를 더해주세요.\n",
    "s3 = '192819283182'\n",
    "total = 0\n",
    "used_digits = set()\n",
    "\n",
    "for digit in s3:\n",
    "    if digit not in used_digits:\n",
    "        total += int(digit)\n",
    "        used_digits.add(digit)\n",
    "\n",
    "print(total)\n",
    "\n",
    "# 방법2\n",
    "result = 0\n",
    "for i in set('192819283182'):\n",
    "    result += int(i)\n",
    "\n",
    "print(result)\n",
    "\n",
    "# 방법3\n",
    "print(sum(map(int, set('192819283182'))))\n",
    "\n",
    "# 방법 4\n",
    "result = []\n",
    "for i in '192819283182':\n",
    "    if i not in result:\n",
    "        result.append(i)\n",
    "\n",
    "print(result)\n",
    "print(sum(map(int, result)))\n",
    "\n",
    "# 방법 5\n",
    "result = []\n",
    "result2 = 0\n",
    "for i in '192819283182':\n",
    "    if i not in result:\n",
    "        result.append(i)\n",
    "\n",
    "for j in result:\n",
    "    result2 += int(j)\n",
    "\n",
    "print(result2)\n",
    "\n",
    "\n",
    "# 문제4 1부터 10000까지 3의 배수와 5의 배수와 7의 배수를 모두 더해주세요. \n",
    "#       모두 만족하는 숫자는 한 번만 더해주어야 합니다.\n",
    "#       (함정) 더할 때 2로 나누어지는 숫자는 더하지 않습니다.\n",
    "result = []\n",
    "for k in range(10000):\n",
    "    if (k % 3 == 0 or k % 5 == 0 or k % 7 == 0) and k % 2 !=0:\n",
    "        result.append(k)\n",
    "print(sum(result))  # 결과 리스트의 합을 출력\n",
    "\n"
   ]
  },
  {
   "cell_type": "code",
   "execution_count": 1,
   "metadata": {},
   "outputs": [
    {
     "name": "stdout",
     "output_type": "stream",
     "text": [
      "1 뉴진스\n",
      "2 아이유\n",
      "3 에스파\n",
      "4 트와이스\n"
     ]
    }
   ],
   "source": [
    "가수 = ['뉴진스', '아이유', '에스파', '트와이스']\n",
    "\n",
    "for index, value in enumerate(가수, 1):\n",
    "    print(index, value)"
   ]
  }
 ],
 "metadata": {
  "kernelspec": {
   "display_name": "Python 3",
   "language": "python",
   "name": "python3"
  },
  "language_info": {
   "codemirror_mode": {
    "name": "ipython",
    "version": 3
   },
   "file_extension": ".py",
   "mimetype": "text/x-python",
   "name": "python",
   "nbconvert_exporter": "python",
   "pygments_lexer": "ipython3",
   "version": "3.12.3"
  }
 },
 "nbformat": 4,
 "nbformat_minor": 2
}
